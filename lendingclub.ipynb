{
 "cells": [
  {
   "cell_type": "markdown",
   "metadata": {},
   "source": [
    "# Data Challenge"
   ]
  },
  {
   "cell_type": "code",
   "execution_count": 1,
   "metadata": {
    "collapsed": true
   },
   "outputs": [],
   "source": [
    "import pandas as pd\n",
    "import numpy as np\n",
    "import math\n",
    "import matplotlib.pyplot as plt\n",
    "from matplotlib.ticker import FuncFormatter\n",
    "from sklearn.model_selection import train_test_split\n",
    "from sklearn.ensemble import RandomForestClassifier\n",
    "import seaborn as sns\n",
    "from pandas.tools.plotting import scatter_matrix\n",
    "%matplotlib inline\n"
   ]
  },
  {
   "cell_type": "code",
   "execution_count": 2,
   "metadata": {
    "collapsed": true
   },
   "outputs": [],
   "source": [
    "def print_full(x):\n",
    "    pd.set_option('display.max_rows',len(x))\n",
    "    print(x)\n",
    "    pd.reset_option('display.max_rows')"
   ]
  },
  {
   "cell_type": "code",
   "execution_count": 3,
   "metadata": {
    "collapsed": false,
    "scrolled": true
   },
   "outputs": [
    {
     "name": "stderr",
     "output_type": "stream",
     "text": [
      "C:\\Users\\Chao Cheng\\Anaconda2\\lib\\site-packages\\IPython\\core\\interactiveshell.py:2717: DtypeWarning: Columns (19,55) have mixed types. Specify dtype option on import or set low_memory=False.\n",
      "  interactivity=interactivity, compiler=compiler, result=result)\n"
     ]
    }
   ],
   "source": [
    "#read data\n",
    "data_loc = 'D:\\\\blend'\n",
    " \n",
    "df = pd.read_csv(data_loc +'\\\\'+ 'LoanStats3d.csv')"
   ]
  },
  {
   "cell_type": "code",
   "execution_count": 4,
   "metadata": {
    "collapsed": false,
    "scrolled": true
   },
   "outputs": [
    {
     "data": {
      "text/html": [
       "<div>\n",
       "<table border=\"1\" class=\"dataframe\">\n",
       "  <thead>\n",
       "    <tr style=\"text-align: right;\">\n",
       "      <th></th>\n",
       "      <th>id</th>\n",
       "      <th>member_id</th>\n",
       "      <th>loan_amnt</th>\n",
       "      <th>funded_amnt</th>\n",
       "      <th>funded_amnt_inv</th>\n",
       "      <th>term</th>\n",
       "      <th>int_rate</th>\n",
       "      <th>installment</th>\n",
       "      <th>grade</th>\n",
       "      <th>sub_grade</th>\n",
       "      <th>...</th>\n",
       "      <th>num_tl_90g_dpd_24m</th>\n",
       "      <th>num_tl_op_past_12m</th>\n",
       "      <th>pct_tl_nvr_dlq</th>\n",
       "      <th>percent_bc_gt_75</th>\n",
       "      <th>pub_rec_bankruptcies</th>\n",
       "      <th>tax_liens</th>\n",
       "      <th>tot_hi_cred_lim</th>\n",
       "      <th>total_bal_ex_mort</th>\n",
       "      <th>total_bc_limit</th>\n",
       "      <th>total_il_high_credit_limit</th>\n",
       "    </tr>\n",
       "  </thead>\n",
       "  <tbody>\n",
       "    <tr>\n",
       "      <th>0</th>\n",
       "      <td>68615169</td>\n",
       "      <td>73517949</td>\n",
       "      <td>16000</td>\n",
       "      <td>16000</td>\n",
       "      <td>16000.0</td>\n",
       "      <td>60 months</td>\n",
       "      <td>8.49%</td>\n",
       "      <td>328.19</td>\n",
       "      <td>B</td>\n",
       "      <td>B1</td>\n",
       "      <td>...</td>\n",
       "      <td>0</td>\n",
       "      <td>3</td>\n",
       "      <td>87.5</td>\n",
       "      <td>50.0</td>\n",
       "      <td>0</td>\n",
       "      <td>0</td>\n",
       "      <td>307343</td>\n",
       "      <td>64371</td>\n",
       "      <td>23500</td>\n",
       "      <td>59526</td>\n",
       "    </tr>\n",
       "    <tr>\n",
       "      <th>1</th>\n",
       "      <td>68537564</td>\n",
       "      <td>73427399</td>\n",
       "      <td>8000</td>\n",
       "      <td>8000</td>\n",
       "      <td>8000.0</td>\n",
       "      <td>36 months</td>\n",
       "      <td>10.78%</td>\n",
       "      <td>261.08</td>\n",
       "      <td>B</td>\n",
       "      <td>B4</td>\n",
       "      <td>...</td>\n",
       "      <td>0</td>\n",
       "      <td>4</td>\n",
       "      <td>97.1</td>\n",
       "      <td>100.0</td>\n",
       "      <td>0</td>\n",
       "      <td>0</td>\n",
       "      <td>168819</td>\n",
       "      <td>148154</td>\n",
       "      <td>5800</td>\n",
       "      <td>136996</td>\n",
       "    </tr>\n",
       "    <tr>\n",
       "      <th>2</th>\n",
       "      <td>68536799</td>\n",
       "      <td>73426617</td>\n",
       "      <td>10000</td>\n",
       "      <td>10000</td>\n",
       "      <td>10000.0</td>\n",
       "      <td>36 months</td>\n",
       "      <td>10.78%</td>\n",
       "      <td>326.35</td>\n",
       "      <td>B</td>\n",
       "      <td>B4</td>\n",
       "      <td>...</td>\n",
       "      <td>0</td>\n",
       "      <td>2</td>\n",
       "      <td>100.0</td>\n",
       "      <td>33.3</td>\n",
       "      <td>0</td>\n",
       "      <td>0</td>\n",
       "      <td>190694</td>\n",
       "      <td>40681</td>\n",
       "      <td>13900</td>\n",
       "      <td>29512</td>\n",
       "    </tr>\n",
       "    <tr>\n",
       "      <th>3</th>\n",
       "      <td>68355089</td>\n",
       "      <td>73244858</td>\n",
       "      <td>24700</td>\n",
       "      <td>24700</td>\n",
       "      <td>24700.0</td>\n",
       "      <td>36 months</td>\n",
       "      <td>11.99%</td>\n",
       "      <td>820.28</td>\n",
       "      <td>C</td>\n",
       "      <td>C1</td>\n",
       "      <td>...</td>\n",
       "      <td>0</td>\n",
       "      <td>2</td>\n",
       "      <td>97.4</td>\n",
       "      <td>7.7</td>\n",
       "      <td>0</td>\n",
       "      <td>0</td>\n",
       "      <td>314017</td>\n",
       "      <td>39475</td>\n",
       "      <td>79300</td>\n",
       "      <td>24667</td>\n",
       "    </tr>\n",
       "    <tr>\n",
       "      <th>4</th>\n",
       "      <td>68506885</td>\n",
       "      <td>73396712</td>\n",
       "      <td>10000</td>\n",
       "      <td>10000</td>\n",
       "      <td>10000.0</td>\n",
       "      <td>60 months</td>\n",
       "      <td>11.99%</td>\n",
       "      <td>222.40</td>\n",
       "      <td>C</td>\n",
       "      <td>C1</td>\n",
       "      <td>...</td>\n",
       "      <td>0</td>\n",
       "      <td>1</td>\n",
       "      <td>100.0</td>\n",
       "      <td>50.0</td>\n",
       "      <td>0</td>\n",
       "      <td>0</td>\n",
       "      <td>61054</td>\n",
       "      <td>41166</td>\n",
       "      <td>13100</td>\n",
       "      <td>46854</td>\n",
       "    </tr>\n",
       "  </tbody>\n",
       "</table>\n",
       "<p>5 rows × 111 columns</p>\n",
       "</div>"
      ],
      "text/plain": [
       "         id  member_id  loan_amnt  funded_amnt  funded_amnt_inv        term  \\\n",
       "0  68615169   73517949      16000        16000          16000.0   60 months   \n",
       "1  68537564   73427399       8000         8000           8000.0   36 months   \n",
       "2  68536799   73426617      10000        10000          10000.0   36 months   \n",
       "3  68355089   73244858      24700        24700          24700.0   36 months   \n",
       "4  68506885   73396712      10000        10000          10000.0   60 months   \n",
       "\n",
       "  int_rate  installment grade sub_grade            ...              \\\n",
       "0    8.49%       328.19     B        B1            ...               \n",
       "1   10.78%       261.08     B        B4            ...               \n",
       "2   10.78%       326.35     B        B4            ...               \n",
       "3   11.99%       820.28     C        C1            ...               \n",
       "4   11.99%       222.40     C        C1            ...               \n",
       "\n",
       "  num_tl_90g_dpd_24m num_tl_op_past_12m pct_tl_nvr_dlq  percent_bc_gt_75  \\\n",
       "0                  0                  3           87.5              50.0   \n",
       "1                  0                  4           97.1             100.0   \n",
       "2                  0                  2          100.0              33.3   \n",
       "3                  0                  2           97.4               7.7   \n",
       "4                  0                  1          100.0              50.0   \n",
       "\n",
       "  pub_rec_bankruptcies tax_liens tot_hi_cred_lim total_bal_ex_mort  \\\n",
       "0                    0         0          307343             64371   \n",
       "1                    0         0          168819            148154   \n",
       "2                    0         0          190694             40681   \n",
       "3                    0         0          314017             39475   \n",
       "4                    0         0           61054             41166   \n",
       "\n",
       "  total_bc_limit total_il_high_credit_limit  \n",
       "0          23500                      59526  \n",
       "1           5800                     136996  \n",
       "2          13900                      29512  \n",
       "3          79300                      24667  \n",
       "4          13100                      46854  \n",
       "\n",
       "[5 rows x 111 columns]"
      ]
     },
     "execution_count": 4,
     "metadata": {},
     "output_type": "execute_result"
    }
   ],
   "source": [
    "df.head()"
   ]
  },
  {
   "cell_type": "code",
   "execution_count": 5,
   "metadata": {
    "collapsed": false
   },
   "outputs": [
    {
     "name": "stdout",
     "output_type": "stream",
     "text": [
      "id\n",
      "member_id\n",
      "loan_amnt\n",
      "funded_amnt\n",
      "funded_amnt_inv\n",
      "term\n",
      "int_rate\n",
      "installment\n",
      "grade\n",
      "sub_grade\n",
      "emp_title\n",
      "emp_length\n",
      "home_ownership\n",
      "annual_inc\n",
      "verification_status\n",
      "issue_d\n",
      "loan_status\n",
      "pymnt_plan\n",
      "url\n",
      "desc\n",
      "purpose\n",
      "title\n",
      "zip_code\n",
      "addr_state\n",
      "dti\n",
      "delinq_2yrs\n",
      "earliest_cr_line\n",
      "inq_last_6mths\n",
      "mths_since_last_delinq\n",
      "mths_since_last_record\n",
      "open_acc\n",
      "pub_rec\n",
      "revol_bal\n",
      "revol_util\n",
      "total_acc\n",
      "initial_list_status\n",
      "out_prncp\n",
      "out_prncp_inv\n",
      "total_pymnt\n",
      "total_pymnt_inv\n",
      "total_rec_prncp\n",
      "total_rec_int\n",
      "total_rec_late_fee\n",
      "recoveries\n",
      "collection_recovery_fee\n",
      "last_pymnt_d\n",
      "last_pymnt_amnt\n",
      "next_pymnt_d\n",
      "last_credit_pull_d\n",
      "collections_12_mths_ex_med\n",
      "mths_since_last_major_derog\n",
      "policy_code\n",
      "application_type\n",
      "annual_inc_joint\n",
      "dti_joint\n",
      "verification_status_joint\n",
      "acc_now_delinq\n",
      "tot_coll_amt\n",
      "tot_cur_bal\n",
      "open_acc_6m\n",
      "open_il_6m\n",
      "open_il_12m\n",
      "open_il_24m\n",
      "mths_since_rcnt_il\n",
      "total_bal_il\n",
      "il_util\n",
      "open_rv_12m\n",
      "open_rv_24m\n",
      "max_bal_bc\n",
      "all_util\n",
      "total_rev_hi_lim\n",
      "inq_fi\n",
      "total_cu_tl\n",
      "inq_last_12m\n",
      "acc_open_past_24mths\n",
      "avg_cur_bal\n",
      "bc_open_to_buy\n",
      "bc_util\n",
      "chargeoff_within_12_mths\n",
      "delinq_amnt\n",
      "mo_sin_old_il_acct\n",
      "mo_sin_old_rev_tl_op\n",
      "mo_sin_rcnt_rev_tl_op\n",
      "mo_sin_rcnt_tl\n",
      "mort_acc\n",
      "mths_since_recent_bc\n",
      "mths_since_recent_bc_dlq\n",
      "mths_since_recent_inq\n",
      "mths_since_recent_revol_delinq\n",
      "num_accts_ever_120_pd\n",
      "num_actv_bc_tl\n",
      "num_actv_rev_tl\n",
      "num_bc_sats\n",
      "num_bc_tl\n",
      "num_il_tl\n",
      "num_op_rev_tl\n",
      "num_rev_accts\n",
      "num_rev_tl_bal_gt_0\n",
      "num_sats\n",
      "num_tl_120dpd_2m\n",
      "num_tl_30dpd\n",
      "num_tl_90g_dpd_24m\n",
      "num_tl_op_past_12m\n",
      "pct_tl_nvr_dlq\n",
      "percent_bc_gt_75\n",
      "pub_rec_bankruptcies\n",
      "tax_liens\n",
      "tot_hi_cred_lim\n",
      "total_bal_ex_mort\n",
      "total_bc_limit\n",
      "total_il_high_credit_limit\n"
     ]
    }
   ],
   "source": [
    "for i in df.columns:\n",
    "    print i"
   ]
  },
  {
   "cell_type": "markdown",
   "metadata": {},
   "source": [
    "## 1. Is Lending Club making money with the loans in the dataset?\n",
    "\n",
    "### Lending Club business model:\n",
    "#### Revenue = Origination Fee  + Service Fee \n",
    "[\"Lending Club makes money through origination and service fees. Borrowers pay a one-time origination fee of 1.11% to 5% of the total loan amount, depending on the loan grade and term. Meanwhile, investors pay a service fee of 1% of each payment received from a borrower.\"](http://vator.tv/news/2014-03-21-how-does-lending-club-make-money#yss2rMyUWuVUhgqZ.99)\n",
    "\n",
    "[origination fee rate](http://www.lendingmemo.com/rates-fees-lending-club-prosper/)\n",
    "\n",
    "\n",
    "#### As long as Lending club would attract personal investor and borrower to get the loan funded, they're making money\n",
    "\n",
    "\n",
    "#### For this dataset, it does not contain any cost for lending club. Thus \"making money\" would only consider the revenue stream, without operating expense or capital expense. The profit or profitability in the following questions would also refer to only revenue.\n"
   ]
  },
  {
   "cell_type": "code",
   "execution_count": 6,
   "metadata": {
    "collapsed": false
   },
   "outputs": [
    {
     "data": {
      "text/plain": [
       "(421095, 111)"
      ]
     },
     "execution_count": 6,
     "metadata": {},
     "output_type": "execute_result"
    }
   ],
   "source": [
    "# dataframe size\n",
    "df.shape"
   ]
  },
  {
   "cell_type": "code",
   "execution_count": 7,
   "metadata": {
    "collapsed": false
   },
   "outputs": [
    {
     "data": {
      "text/plain": [
       "421095"
      ]
     },
     "execution_count": 7,
     "metadata": {},
     "output_type": "execute_result"
    }
   ],
   "source": [
    "#unique loans\n",
    "len(df['id'].unique())"
   ]
  },
  {
   "cell_type": "code",
   "execution_count": 8,
   "metadata": {
    "collapsed": false
   },
   "outputs": [
    {
     "data": {
      "text/plain": [
       "0"
      ]
     },
     "execution_count": 8,
     "metadata": {},
     "output_type": "execute_result"
    }
   ],
   "source": [
    "#check if any loan amount not equals to funded amount, check if loan fully funded or not\n",
    "len(df[df['loan_amnt']<> df['funded_amnt']])"
   ]
  },
  {
   "cell_type": "code",
   "execution_count": 9,
   "metadata": {
    "collapsed": false
   },
   "outputs": [
    {
     "data": {
      "text/plain": [
       "<matplotlib.axes._subplots.AxesSubplot at 0x249274a8>"
      ]
     },
     "execution_count": 9,
     "metadata": {},
     "output_type": "execute_result"
    },
    {
     "data": {
      "image/png": "[encoded data removed]",
      "text/plain": [
       "<matplotlib.figure.Figure at 0x24927ef0>"
      ]
     },
     "metadata": {},
     "output_type": "display_data"
    }
   ],
   "source": [
    "#check loan status\n",
    "# loan_status = pd.Series(df['loan_status']).value_counts()\n",
    "# loan_status\n",
    "df.loan_status.value_counts().plot(kind='bar')\n"
   ]
  },
  {
   "cell_type": "code",
   "execution_count": 10,
   "metadata": {
    "collapsed": false
   },
   "outputs": [
    {
     "data": {
      "text/plain": [
       "<matplotlib.axes._subplots.AxesSubplot at 0x117bd4a8>"
      ]
     },
     "execution_count": 10,
     "metadata": {},
     "output_type": "execute_result"
    },
    {
     "data": {
      "image/png": "[encoded data removed]",
      "text/plain": [
       "<matplotlib.figure.Figure at 0x10f3f6a0>"
      ]
     },
     "metadata": {},
     "output_type": "display_data"
    }
   ],
   "source": [
    "#check when all the loans were issued\n",
    "df['mth']=df['issue_d'].apply(lambda x: x.strip()[:3])\n",
    "def convertmonth(df):\n",
    "    if df['mth'] =='Jan':\n",
    "        return 1\n",
    "    elif df['mth'] =='Feb':\n",
    "        return 2\n",
    "    elif df['mth'] =='Mar':\n",
    "        return 3\n",
    "    elif df['mth'] =='Apr':\n",
    "        return 4\n",
    "    elif df['mth'] =='May':\n",
    "        return 5\n",
    "    elif df['mth'] =='Jun':\n",
    "        return 6\n",
    "    elif df['mth'] =='Jul':\n",
    "        return 7\n",
    "    elif df['mth'] =='Aug':\n",
    "        return 8\n",
    "    elif df['mth'] =='Sep':\n",
    "        return 9\n",
    "    elif df['mth'] =='Oct':\n",
    "        return 10\n",
    "    elif df['mth'] =='Nov':\n",
    "        return 11\n",
    "    else:\n",
    "        return 12\n",
    "df['month'] = df.apply(convertmonth,axis=1) \n",
    "del df['mth']\n",
    "df.month.value_counts().sort_index().plot(kind='bar')"
   ]
  },
  {
   "cell_type": "markdown",
   "metadata": {},
   "source": [
    "#### All of the loans in the dataset are unique and issued (fully funded). \n",
    "[lending club loan status](https://help.lendingclub.com/hc/en-us/articles/215488038-What-do-the-different-Note-statuses-mean-)\n"
   ]
  },
  {
   "cell_type": "markdown",
   "metadata": {},
   "source": [
    "#### Lending Club is making money.  All the loans are fully funded, which means Lending Club has collected origination fee for all these loans. Lending Club has collect some service fees, which is based on payment, as long as the loan was not charged off immediately after it was issued.\n",
    "##### Question becomes how much money they're making based on this dataset?"
   ]
  },
  {
   "cell_type": "markdown",
   "metadata": {},
   "source": [
    "Let's assume it is Jan 2016 to look at the data, which provides a snap shot of all the loan status in the end of 2015. Otherwise, we would not be able to know the loan status now and calculate how much money is made by Lending Club.\n",
    "\n",
    "For origination fee, it is collected when the loan is issued to the borrower. Thus all the loan in this data set should have already been collected the origination fee. \n",
    "[origination fee rate](http://www.lendingmemo.com/rates-fees-lending-club-prosper/)\n",
    "<img src=\"http://www.lendingmemo.com/wp-content/uploads/2014/04/Lending-Club-Origination-Fee.png\" alt=\"Drawing\" style=\"width: 500px;\" align= \"top\"/>\n",
    "\n",
    "eg: loan_amnt = 10,000; Grade = A; Sub-grade = 1; term = 36 months\n",
    "then org_fee = 10,000 * 1.11% = 111\n",
    "Because the origination fee is a one time fee, and the loan term could either be 36 month or 60 month, a good metric to spread the org_fee through out the term could provide a good comparison of revenue on different terms. \n",
    "\n",
    "For service fee/payment service fee, a flat rate of 1% is applied. We could only get service fee from loan with a status of \"current\". Any loan that is \"Paid Fully\" or other late or charged off status would not be able to get service fee. To calculate all the service fee, we could use total_pymnt (Payments received to date for total amount funded) to calculate the service fee have been collected so far.\n",
    "\n",
    "eg: loan_amnt =10,000; int_rate = 10.78%; term= 36 months; installment = 326.35 ; total_pymnt = 4227.58;\n",
    "then service_fee = 4227.58 * 1% = 42.28"
   ]
  },
  {
   "cell_type": "markdown",
   "metadata": {},
   "source": [
    "## 2. Could you find out what slices of the loans are making the most money? Who or/and what loan segments you think we should focus on?"
   ]
  },
  {
   "cell_type": "code",
   "execution_count": 11,
   "metadata": {
    "collapsed": false
   },
   "outputs": [],
   "source": [
    "#define a term_n to convert term into a numeric value\n",
    "df['term_n']=pd.to_numeric(df['term'].apply(lambda x: x.strip()[:2]))"
   ]
  },
  {
   "cell_type": "code",
   "execution_count": 12,
   "metadata": {
    "collapsed": false,
    "scrolled": true
   },
   "outputs": [
    {
     "data": {
      "text/plain": [
       "C1    26434\n",
       "C2    25496\n",
       "B4    25121\n",
       "C3    24844\n",
       "C4    24752\n",
       "B3    24637\n",
       "B5    23581\n",
       "A5    23059\n",
       "B2    22171\n",
       "B1    22096\n",
       "C5    19041\n",
       "D1    16977\n",
       "A4    15486\n",
       "D2    12757\n",
       "A1    12373\n",
       "D3    11638\n",
       "A2    11529\n",
       "D4    11459\n",
       "A3    10889\n",
       "D5     9823\n",
       "E1     9235\n",
       "E2     8335\n",
       "E3     7158\n",
       "E4     5732\n",
       "E5     4488\n",
       "F1     3278\n",
       "F2     2391\n",
       "F3     1725\n",
       "F4     1342\n",
       "F5     1081\n",
       "G1      762\n",
       "G2      575\n",
       "G3      398\n",
       "G4      241\n",
       "G5      191\n",
       "Name: sub_grade, dtype: int64"
      ]
     },
     "execution_count": 12,
     "metadata": {},
     "output_type": "execute_result"
    }
   ],
   "source": [
    "df['sub_grade'].value_counts()"
   ]
  },
  {
   "cell_type": "code",
   "execution_count": 13,
   "metadata": {
    "collapsed": false
   },
   "outputs": [],
   "source": [
    "#define calorigfee function to assign origination fee rate for each loan\n",
    "def calorigfee(df):\n",
    "    if (df['sub_grade'] == 'A1' and int(df['term_n']) ==36):\n",
    "        return 1.11\n",
    "    elif ((df['sub_grade'] == 'A2' or df['sub_grade'] == 'A3') and int(df['term_n']) == 36): \n",
    "        return 2\n",
    "    elif df['grade'] == 'A':\n",
    "        return 3\n",
    "    elif (df['grade'] == 'B' and int(df['term_n']) == 36):\n",
    "        return 4\n",
    "    else:\n",
    "        return 5\n",
    "    \n",
    "df['orig_rate'] = df.apply(calorigfee, axis=1)\n",
    "\n"
   ]
  },
  {
   "cell_type": "code",
   "execution_count": 14,
   "metadata": {
    "collapsed": true
   },
   "outputs": [],
   "source": [
    "#calculate total origination fee and service up-to-date fee \n",
    "df['orig_fee']=df['orig_rate']*df['loan_amnt']/float(100)\n",
    "df['orig_fee_per_mth']=df['orig_fee']/df['term_n']\n",
    "df['service_fee']=df['total_pymnt']*0.01\n"
   ]
  },
  {
   "cell_type": "code",
   "execution_count": null,
   "metadata": {
    "collapsed": true
   },
   "outputs": [],
   "source": [
    "#define good loan to show status as current or fully paid \n",
    "df['good'] = [1 if x=='Current' or x=='Fully Paid' else 0 for x in df['loan_status']]"
   ]
  },
  {
   "cell_type": "markdown",
   "metadata": {},
   "source": [
    "For loan in \"fully paid\" status, becaue it is shorter than 12month, Lending Club only charge \n",
    "\"a percentage of the monthly contractual payment amount only, regardless of the borrower’s prepayment amount.\"\n",
    "[repaid early](https://help.lendingclub.com/hc/en-us/articles/216118597-What-happens-if-a-loan-is-repaid-early-)"
   ]
  },
  {
   "cell_type": "code",
   "execution_count": 47,
   "metadata": {
    "collapsed": true
   },
   "outputs": [],
   "source": [
    "\n",
    "df['Current_ind']=[1 if x=='Current' else 0 for x in df['loan_status']]\n",
    "df['lmth_service_fee']=df['good']*df['installment']*0.01\n"
   ]
  },
  {
   "cell_type": "code",
   "execution_count": 48,
   "metadata": {
    "collapsed": true
   },
   "outputs": [],
   "source": [
    "#define the very important metric, tot_fee_per_mth, which is composed of the origination fee\n",
    "#per month and last month service fee if it is applicable  \n",
    "df['tot_fee_per_mth']=df['lmth_service_fee']+df['orig_fee_per_mth']\n"
   ]
  },
  {
   "cell_type": "code",
   "execution_count": 53,
   "metadata": {
    "collapsed": false
   },
   "outputs": [
    {
     "data": {
      "text/plain": [
       "count    421095.000000\n",
       "mean          3.882936\n",
       "std           2.688269\n",
       "min           0.000000\n",
       "25%           2.026100\n",
       "50%           3.462000\n",
       "75%           5.422800\n",
       "max          14.454600\n",
       "Name: lmth_service_fee, dtype: float64"
      ]
     },
     "execution_count": 53,
     "metadata": {},
     "output_type": "execute_result"
    }
   ],
   "source": [
    "df.lmth_service_fee.describe()"
   ]
  },
  {
   "cell_type": "code",
   "execution_count": 50,
   "metadata": {
    "collapsed": false
   },
   "outputs": [
    {
     "data": {
      "text/plain": [
       "1    372495\n",
       "0     48600\n",
       "Name: good, dtype: int64"
      ]
     },
     "execution_count": 50,
     "metadata": {},
     "output_type": "execute_result"
    }
   ],
   "source": [
    "df.good.value_counts()"
   ]
  },
  {
   "cell_type": "code",
   "execution_count": 51,
   "metadata": {
    "collapsed": false
   },
   "outputs": [
    {
     "data": {
      "text/plain": [
       "<matplotlib.axes._subplots.AxesSubplot at 0x8e30de80>"
      ]
     },
     "execution_count": 51,
     "metadata": {},
     "output_type": "execute_result"
    },
    {
     "data": {
      "image/png": "[encoded data removed]",
      "text/plain": [
       "<matplotlib.figure.Figure at 0x2873fcc0>"
      ]
     },
     "metadata": {},
     "output_type": "display_data"
    }
   ],
   "source": [
    "df.grade.value_counts().plot(kind='bar')"
   ]
  },
  {
   "cell_type": "markdown",
   "metadata": {},
   "source": [
    "#### Grade B and C have most loans compared to other grades. "
   ]
  },
  {
   "cell_type": "code",
   "execution_count": 52,
   "metadata": {
    "collapsed": false
   },
   "outputs": [
    {
     "data": {
      "image/png": "[encoded data removed]",
      "text/plain": [
       "<matplotlib.figure.Figure at 0x86984ac8>"
      ]
     },
     "metadata": {},
     "output_type": "display_data"
    }
   ],
   "source": [
    "ax = plt.axes()\n",
    "sns.barplot(x='grade', y='loan_amnt', data=df, order = ['A','B','C','D','E','F','G'])\n",
    "ax.set_title('Fig 1 Avgerage Loan Amount Distribution')\n",
    "plt.show()\n"
   ]
  },
  {
   "cell_type": "markdown",
   "metadata": {},
   "source": [
    "#### From Fig 1, generally, the larger the loan, the lower the grade is. But for Grade A, B and C, there are no significant difference regarding the loan size."
   ]
  },
  {
   "cell_type": "code",
   "execution_count": 54,
   "metadata": {
    "collapsed": false
   },
   "outputs": [
    {
     "data": {
      "image/png": "[encoded data removed]",
      "text/plain": [
       "<matplotlib.figure.Figure at 0x2e7b8400>"
      ]
     },
     "metadata": {},
     "output_type": "display_data"
    }
   ],
   "source": [
    "ax = plt.axes()\n",
    "sns.barplot(x='grade', y='tot_fee_per_mth', data=df, order = ['A','B','C','D','E','F','G'])\n",
    "ax.set_title('Fig 2 Total Fee per Month Distribution')\n",
    "plt.show()"
   ]
  },
  {
   "cell_type": "markdown",
   "metadata": {},
   "source": [
    "#### From Fig 2, as the loan grade decrease, the tot_fee_per_month increase. "
   ]
  },
  {
   "cell_type": "code",
   "execution_count": 55,
   "metadata": {
    "collapsed": false
   },
   "outputs": [
    {
     "data": {
      "image/png": "[encoded data removed]",
      "text/plain": [
       "<matplotlib.figure.Figure at 0x7bb55ba8>"
      ]
     },
     "metadata": {},
     "output_type": "display_data"
    }
   ],
   "source": [
    "ax = plt.axes()\n",
    "sns.barplot(x='grade', y='orig_fee_per_mth', data=df, order = ['A','B','C','D','E','F','G'])\n",
    "ax.set_title('Fig 3 Origination Fee per Month Distribution')\n",
    "plt.show()"
   ]
  },
  {
   "cell_type": "code",
   "execution_count": 56,
   "metadata": {
    "collapsed": false
   },
   "outputs": [
    {
     "data": {
      "image/png": "[encoded data removed]",
      "text/plain": [
       "<matplotlib.figure.Figure at 0x76555da0>"
      ]
     },
     "metadata": {},
     "output_type": "display_data"
    }
   ],
   "source": [
    "ax = plt.axes()\n",
    "sns.barplot(x='grade', y='lmth_service_fee', data=df, order = ['A','B','C','D','E','F','G'])\n",
    "ax.set_title('Fig 4 Last Month Service Fee Distribution')\n",
    "plt.show()"
   ]
  },
  {
   "cell_type": "code",
   "execution_count": 31,
   "metadata": {
    "collapsed": false
   },
   "outputs": [
    {
     "data": {
      "text/html": [
       "<div>\n",
       "<table border=\"1\" class=\"dataframe\">\n",
       "  <thead>\n",
       "    <tr style=\"text-align: right;\">\n",
       "      <th></th>\n",
       "      <th>id</th>\n",
       "      <th>member_id</th>\n",
       "      <th>loan_amnt</th>\n",
       "      <th>funded_amnt</th>\n",
       "      <th>funded_amnt_inv</th>\n",
       "      <th>term</th>\n",
       "      <th>int_rate</th>\n",
       "      <th>installment</th>\n",
       "      <th>grade</th>\n",
       "      <th>sub_grade</th>\n",
       "      <th>...</th>\n",
       "      <th>total_il_high_credit_limit</th>\n",
       "      <th>month</th>\n",
       "      <th>term_n</th>\n",
       "      <th>orig_rate</th>\n",
       "      <th>orig_fee</th>\n",
       "      <th>orig_fee_per_mth</th>\n",
       "      <th>service_fee</th>\n",
       "      <th>good</th>\n",
       "      <th>lmth_service_fee</th>\n",
       "      <th>tot_fee_per_mth</th>\n",
       "    </tr>\n",
       "  </thead>\n",
       "  <tbody>\n",
       "    <tr>\n",
       "      <th>0</th>\n",
       "      <td>68615169</td>\n",
       "      <td>73517949</td>\n",
       "      <td>16000</td>\n",
       "      <td>16000</td>\n",
       "      <td>16000.0</td>\n",
       "      <td>60 months</td>\n",
       "      <td>8.49%</td>\n",
       "      <td>328.19</td>\n",
       "      <td>B</td>\n",
       "      <td>B1</td>\n",
       "      <td>...</td>\n",
       "      <td>59526</td>\n",
       "      <td>12</td>\n",
       "      <td>60</td>\n",
       "      <td>5.0</td>\n",
       "      <td>800.0</td>\n",
       "      <td>13.333333</td>\n",
       "      <td>42.4760</td>\n",
       "      <td>1</td>\n",
       "      <td>3.2819</td>\n",
       "      <td>16.615233</td>\n",
       "    </tr>\n",
       "    <tr>\n",
       "      <th>1</th>\n",
       "      <td>68537564</td>\n",
       "      <td>73427399</td>\n",
       "      <td>8000</td>\n",
       "      <td>8000</td>\n",
       "      <td>8000.0</td>\n",
       "      <td>36 months</td>\n",
       "      <td>10.78%</td>\n",
       "      <td>261.08</td>\n",
       "      <td>B</td>\n",
       "      <td>B4</td>\n",
       "      <td>...</td>\n",
       "      <td>136996</td>\n",
       "      <td>12</td>\n",
       "      <td>36</td>\n",
       "      <td>4.0</td>\n",
       "      <td>320.0</td>\n",
       "      <td>8.888889</td>\n",
       "      <td>33.8206</td>\n",
       "      <td>1</td>\n",
       "      <td>2.6108</td>\n",
       "      <td>11.499689</td>\n",
       "    </tr>\n",
       "    <tr>\n",
       "      <th>2</th>\n",
       "      <td>68536799</td>\n",
       "      <td>73426617</td>\n",
       "      <td>10000</td>\n",
       "      <td>10000</td>\n",
       "      <td>10000.0</td>\n",
       "      <td>36 months</td>\n",
       "      <td>10.78%</td>\n",
       "      <td>326.35</td>\n",
       "      <td>B</td>\n",
       "      <td>B4</td>\n",
       "      <td>...</td>\n",
       "      <td>29512</td>\n",
       "      <td>12</td>\n",
       "      <td>36</td>\n",
       "      <td>4.0</td>\n",
       "      <td>400.0</td>\n",
       "      <td>11.111111</td>\n",
       "      <td>42.2758</td>\n",
       "      <td>1</td>\n",
       "      <td>3.2635</td>\n",
       "      <td>14.374611</td>\n",
       "    </tr>\n",
       "    <tr>\n",
       "      <th>3</th>\n",
       "      <td>68355089</td>\n",
       "      <td>73244858</td>\n",
       "      <td>24700</td>\n",
       "      <td>24700</td>\n",
       "      <td>24700.0</td>\n",
       "      <td>36 months</td>\n",
       "      <td>11.99%</td>\n",
       "      <td>820.28</td>\n",
       "      <td>C</td>\n",
       "      <td>C1</td>\n",
       "      <td>...</td>\n",
       "      <td>24667</td>\n",
       "      <td>12</td>\n",
       "      <td>36</td>\n",
       "      <td>5.0</td>\n",
       "      <td>1235.0</td>\n",
       "      <td>34.305556</td>\n",
       "      <td>256.7966</td>\n",
       "      <td>1</td>\n",
       "      <td>9.2635</td>\n",
       "      <td>43.569056</td>\n",
       "    </tr>\n",
       "    <tr>\n",
       "      <th>4</th>\n",
       "      <td>68506885</td>\n",
       "      <td>73396712</td>\n",
       "      <td>10000</td>\n",
       "      <td>10000</td>\n",
       "      <td>10000.0</td>\n",
       "      <td>60 months</td>\n",
       "      <td>11.99%</td>\n",
       "      <td>222.40</td>\n",
       "      <td>C</td>\n",
       "      <td>C1</td>\n",
       "      <td>...</td>\n",
       "      <td>46854</td>\n",
       "      <td>12</td>\n",
       "      <td>60</td>\n",
       "      <td>5.0</td>\n",
       "      <td>500.0</td>\n",
       "      <td>8.333333</td>\n",
       "      <td>28.7455</td>\n",
       "      <td>1</td>\n",
       "      <td>2.2240</td>\n",
       "      <td>10.557333</td>\n",
       "    </tr>\n",
       "  </tbody>\n",
       "</table>\n",
       "<p>5 rows × 120 columns</p>\n",
       "</div>"
      ],
      "text/plain": [
       "         id  member_id  loan_amnt  funded_amnt  funded_amnt_inv        term  \\\n",
       "0  68615169   73517949      16000        16000          16000.0   60 months   \n",
       "1  68537564   73427399       8000         8000           8000.0   36 months   \n",
       "2  68536799   73426617      10000        10000          10000.0   36 months   \n",
       "3  68355089   73244858      24700        24700          24700.0   36 months   \n",
       "4  68506885   73396712      10000        10000          10000.0   60 months   \n",
       "\n",
       "  int_rate  installment grade sub_grade       ...        \\\n",
       "0    8.49%       328.19     B        B1       ...         \n",
       "1   10.78%       261.08     B        B4       ...         \n",
       "2   10.78%       326.35     B        B4       ...         \n",
       "3   11.99%       820.28     C        C1       ...         \n",
       "4   11.99%       222.40     C        C1       ...         \n",
       "\n",
       "  total_il_high_credit_limit month term_n  orig_rate orig_fee  \\\n",
       "0                      59526    12     60        5.0    800.0   \n",
       "1                     136996    12     36        4.0    320.0   \n",
       "2                      29512    12     36        4.0    400.0   \n",
       "3                      24667    12     36        5.0   1235.0   \n",
       "4                      46854    12     60        5.0    500.0   \n",
       "\n",
       "  orig_fee_per_mth service_fee good lmth_service_fee tot_fee_per_mth  \n",
       "0        13.333333     42.4760    1           3.2819       16.615233  \n",
       "1         8.888889     33.8206    1           2.6108       11.499689  \n",
       "2        11.111111     42.2758    1           3.2635       14.374611  \n",
       "3        34.305556    256.7966    1           9.2635       43.569056  \n",
       "4         8.333333     28.7455    1           2.2240       10.557333  \n",
       "\n",
       "[5 rows x 120 columns]"
      ]
     },
     "execution_count": 31,
     "metadata": {},
     "output_type": "execute_result"
    }
   ],
   "source": [
    "df.head()"
   ]
  },
  {
   "cell_type": "markdown",
   "metadata": {},
   "source": [
    "#### Comparing Fig 2,3 and 4, Grade A shows the lowest overall monthly fee. Generally, the lower the grade, the more profitable the loan is. Although grade A shows the highest monthly service fee, which may due to the lower risk, the service fee is only 1/2 to 1/5 of origination fee. As the volumns of the loan grade E, F and G are relatively small, good segments for lending club making money should be B, C and D."
   ]
  },
  {
   "cell_type": "code",
   "execution_count": 23,
   "metadata": {
    "collapsed": false
   },
   "outputs": [
    {
     "data": {
      "image/png": "[encoded data removed]",
      "text/plain": [
       "<matplotlib.figure.Figure at 0x21ee7550>"
      ]
     },
     "metadata": {},
     "output_type": "display_data"
    }
   ],
   "source": [
    "ax = plt.axes()\n",
    "sns.barplot(x='term', y='tot_fee_per_mth', data=df)\n",
    "ax.set_title('Fig 5 Average Total Fee per Month Distribution by Term')\n",
    "plt.show()"
   ]
  },
  {
   "cell_type": "code",
   "execution_count": 29,
   "metadata": {
    "collapsed": false
   },
   "outputs": [
    {
     "data": {
      "text/plain": [
       "<seaborn.axisgrid.FacetGrid at 0x29a9be48>"
      ]
     },
     "execution_count": 29,
     "metadata": {},
     "output_type": "execute_result"
    },
    {
     "data": {
      "image/png": "[encoded data removed]",
      "text/plain": [
       "<matplotlib.figure.Figure at 0x250569e8>"
      ]
     },
     "metadata": {},
     "output_type": "display_data"
    }
   ],
   "source": [
    "sns.factorplot(x='grade', y='tot_fee_per_mth', data=df, col='term', kind='bar',\n",
    "               order = ['A','B','C','D','E','F','G'], col_wrap =2)\n"
   ]
  },
  {
   "cell_type": "markdown",
   "metadata": {},
   "source": [
    "### The 60-month loan shows a better revenue compared to 36-month loan overall. However, for the 36-month loan, the lower grade F and G demonstrates a lower revenue compared to the other grades. "
   ]
  },
  {
   "cell_type": "code",
   "execution_count": 30,
   "metadata": {
    "collapsed": false
   },
   "outputs": [
    {
     "data": {
      "text/plain": [
       "<matplotlib.axes._subplots.AxesSubplot at 0x785a86d8>"
      ]
     },
     "execution_count": 30,
     "metadata": {},
     "output_type": "execute_result"
    },
    {
     "data": {
      "image/png": "[encoded data removed]",
      "text/plain": [
       "<matplotlib.figure.Figure at 0x2719ab00>"
      ]
     },
     "metadata": {},
     "output_type": "display_data"
    }
   ],
   "source": [
    "#Heat map y axis shows the month the loan started in 2015 \n",
    "#x axis shows the loan grade\n",
    "#the density shows the bad rate \n",
    "# bad rate = # of loan not in current or fully paid/# of loan in each segment\n",
    "n=df[(df['loan_status']<>'Current')& (df['loan_status']<>'Fully Paid')].pivot_table(values='id',index=['month'],columns='grade',aggfunc='count')\n",
    "d=df.pivot_table(values='id',index=['month'],columns='grade',aggfunc='count')\n",
    "sns.heatmap(n/d)"
   ]
  },
  {
   "cell_type": "markdown",
   "metadata": {},
   "source": [
    "### From the above figure, we could find as the time goes by, the \"bad\" rate increases, no matter what grade the loan is. With only one year data, it is very hard to tell the overall performance of the 60-month loan. As the \"bad\" rate may increase significantly later on. To fully evaluate the loan performance, longer period of time data is needed."
   ]
  },
  {
   "cell_type": "code",
   "execution_count": 57,
   "metadata": {
    "collapsed": false
   },
   "outputs": [
    {
     "data": {
      "text/plain": [
       "count    4.210950e+05\n",
       "mean     7.696561e+04\n",
       "std      7.394996e+04\n",
       "min      0.000000e+00\n",
       "25%      4.600000e+04\n",
       "50%      6.500000e+04\n",
       "75%      9.169050e+04\n",
       "max      9.500000e+06\n",
       "Name: annual_inc, dtype: float64"
      ]
     },
     "execution_count": 57,
     "metadata": {},
     "output_type": "execute_result"
    }
   ],
   "source": [
    "#take a look at the borrower income statistics\n",
    "df.annual_inc.describe()"
   ]
  },
  {
   "cell_type": "code",
   "execution_count": 58,
   "metadata": {
    "collapsed": false
   },
   "outputs": [
    {
     "data": {
      "text/plain": [
       "<matplotlib.axes._subplots.AxesSubplot at 0x23ac5dd8>"
      ]
     },
     "execution_count": 58,
     "metadata": {},
     "output_type": "execute_result"
    },
    {
     "data": {
      "image/png": "[encoded data removed]",
      "text/plain": [
       "<matplotlib.figure.Figure at 0x29572a20>"
      ]
     },
     "metadata": {},
     "output_type": "display_data"
    }
   ],
   "source": [
    "# borrower income distribution.\n",
    "# The data has a long tail, so I put a cap at 150,000 to show the distribution.\n",
    "sns.distplot(df[df.annual_inc <150000].annual_inc)"
   ]
  },
  {
   "cell_type": "code",
   "execution_count": 65,
   "metadata": {
    "collapsed": false
   },
   "outputs": [
    {
     "data": {
      "text/plain": [
       "(array([   4626.,   58779.,  111552.,   96347.,   61133.,   34268.,   24258.]),\n",
       " array([     0,  20000,  40000,  60000,  80000, 100000, 120000, 140000]),\n",
       " <a list of 7 Patch objects>)"
      ]
     },
     "execution_count": 65,
     "metadata": {},
     "output_type": "execute_result"
    },
    {
     "data": {
      "image/png": "[encoded data removed]",
      "text/plain": [
       "<matplotlib.figure.Figure at 0x7b1199e8>"
      ]
     },
     "metadata": {},
     "output_type": "display_data"
    }
   ],
   "source": [
    "#bining the income to show distribution\n",
    "plt.hist(df.annual_inc, bins=[0, 20000, 40000, 60000, 80000, 100000, 120000, 140000])"
   ]
  },
  {
   "cell_type": "code",
   "execution_count": 183,
   "metadata": {
    "collapsed": false
   },
   "outputs": [],
   "source": [
    "# create an ordinal variable income_level.\n",
    "#the higher the level is, the more income the borrower make\n",
    "df['income_level']=[6 if x> 100000 else 5 if x>80000 \\\n",
    "                    else 4 if x>60000 else 3 if x> 40000 \\\n",
    "                    else 2 if x>20000  else 1 for x in df['annual_inc'] ]"
   ]
  },
  {
   "cell_type": "code",
   "execution_count": 67,
   "metadata": {
    "collapsed": false,
    "scrolled": true
   },
   "outputs": [
    {
     "data": {
      "image/png": "[encoded data removed]",
      "text/plain": [
       "<matplotlib.figure.Figure at 0x12dec668>"
      ]
     },
     "metadata": {},
     "output_type": "display_data"
    }
   ],
   "source": [
    "# Average total fee per month by borrower income level\n",
    "ax = plt.axes()\n",
    "sns.barplot(x='income_level', y='tot_fee_per_mth', data=df)\n",
    "ax.set_title('Average Total Fee per Month Distribution by Income level')\n",
    "plt.show()"
   ]
  },
  {
   "cell_type": "markdown",
   "metadata": {},
   "source": [
    "#### The above shows the higher the income the borrower make, the more average total_fee_per_month lending club is making out of these people. "
   ]
  },
  {
   "cell_type": "code",
   "execution_count": 184,
   "metadata": {
    "collapsed": false
   },
   "outputs": [
    {
     "data": {
      "text/plain": [
       "Debt consolidation                         249926\n",
       "Credit card refinancing                    102056\n",
       "Home improvement                            25264\n",
       "Other                                       19179\n",
       "Major purchase                               7434\n",
       "Medical expenses                             3926\n",
       "Car financing                                3475\n",
       "Business                                     3357\n",
       "Moving and relocation                        2422\n",
       "Vacation                                     2246\n",
       "Home buying                                  1440\n",
       "Green loan                                    223\n",
       "Simple Loan Until Contract Is Completed         1\n",
       "odymeds                                         1\n",
       "Prescription Drug and Medical Costs             1\n",
       "SAVE                                            1\n",
       "new kitchen for momma!                          1\n",
       "new day                                         1\n",
       "Pay off Lowes Card                              1\n",
       "New Baby and New House (CC Consolidate)         1\n",
       "considerate                                     1\n",
       "Student Loan                                    1\n",
       "Learning and training                           1\n",
       "Credit Card/Auto Repair                         1\n",
       "Trying to come back to reality!                 1\n",
       "Paying off higher interest cards & auto         1\n",
       "DebtC                                           1\n",
       "Name: title, dtype: int64"
      ]
     },
     "execution_count": 184,
     "metadata": {},
     "output_type": "execute_result"
    }
   ],
   "source": [
    "#take a look at the loan title distribution\n",
    "df.title.value_counts()"
   ]
  },
  {
   "cell_type": "code",
   "execution_count": 268,
   "metadata": {
    "collapsed": false
   },
   "outputs": [
    {
     "data": {
      "image/png": "[encoded data removed]",
      "text/plain": [
       "<matplotlib.figure.Figure at 0x13bead198>"
      ]
     },
     "metadata": {},
     "output_type": "display_data"
    }
   ],
   "source": [
    "#remove some loan title due to low frequency\n",
    "#plot average total fee per month by loan title\n",
    "title_list=['Debt consolidation','Credit card refinancing','Home improvement','Other',\n",
    "            'Major purchase', 'Medical expenses','Car financing','Business','Moving and relocation',\n",
    "            'Vacation','Home buying']\n",
    "df_title = df[df['title'].isin(title_list)]\n",
    "ax = plt.axes()\n",
    "sns.barplot(x='tot_fee_per_mth', y='title', data=df_title)\n",
    "plt.title('Average Total Fee per Month Distribution by Loan Title')\n",
    "plt.show()"
   ]
  },
  {
   "cell_type": "markdown",
   "metadata": {},
   "source": [
    "#### Borrowers who would use this loan for business expansion purpose is highly profitable, while vacation is the least profitable loan."
   ]
  },
  {
   "cell_type": "code",
   "execution_count": 185,
   "metadata": {
    "collapsed": false
   },
   "outputs": [
    {
     "data": {
      "text/plain": [
       "MORTGAGE    207683\n",
       "RENT        167644\n",
       "OWN          45766\n",
       "ANY              2\n",
       "Name: home_ownership, dtype: int64"
      ]
     },
     "execution_count": 185,
     "metadata": {},
     "output_type": "execute_result"
    }
   ],
   "source": [
    "#home ownership distribution\n",
    "df.home_ownership.value_counts()"
   ]
  },
  {
   "cell_type": "code",
   "execution_count": 186,
   "metadata": {
    "collapsed": false
   },
   "outputs": [
    {
     "data": {
      "image/png": "[encoded data removed]",
      "text/plain": [
       "<matplotlib.figure.Figure at 0x7c95e240>"
      ]
     },
     "metadata": {},
     "output_type": "display_data"
    }
   ],
   "source": [
    "#plot average total fee per month by home ownership\n",
    "home_list=['MORTGAGE','RENT','OWN']\n",
    "df_home = df[df['home_ownership'].isin(home_list)]\n",
    "ax = plt.axes()\n",
    "sns.barplot(x='home_ownership', y='tot_fee_per_mth', data=df_home)\n",
    "plt.title('Average Total Fee per Month Distribution by Home Ownership')\n",
    "plt.show()"
   ]
  },
  {
   "cell_type": "markdown",
   "metadata": {},
   "source": [
    "#### Borrower who has mortgage shows higher average total_fee_per_month compared to the others. Borrowers who rents the property is least profitable."
   ]
  },
  {
   "cell_type": "code",
   "execution_count": 179,
   "metadata": {
    "collapsed": false
   },
   "outputs": [
    {
     "data": {
      "image/png": "[encoded data removed]",
      "text/plain": [
       "<matplotlib.figure.Figure at 0x966a10b8>"
      ]
     },
     "metadata": {},
     "output_type": "display_data"
    }
   ],
   "source": [
    "# plot Average total fee per month by employment length\n",
    "ax = plt.axes()\n",
    "sns.barplot(x='tot_fee_per_mth', y='emp_length', data=df)\n",
    "plt.title('Average Total Fee per Month Distribution by Employment length')\n",
    "plt.show()"
   ]
  },
  {
   "cell_type": "markdown",
   "metadata": {},
   "source": [
    "#### employment length > 10 years shows the highest profit,  and the n/a shows the lowest. "
   ]
  },
  {
   "cell_type": "code",
   "execution_count": 254,
   "metadata": {
    "collapsed": false
   },
   "outputs": [
    {
     "data": {
      "image/png": "[encoded data removed]",
      "text/plain": [
       "<matplotlib.figure.Figure at 0x75b08908>"
      ]
     },
     "metadata": {},
     "output_type": "display_data"
    }
   ],
   "source": [
    "# plot average total fee per month by public record indicator\n",
    "df['pub_rec_ind']=[0 if x==0 else 1 for x in df['pub_rec']]\n",
    "ax = plt.axes()\n",
    "sns.barplot(x='pub_rec_ind', y='tot_fee_per_mth', data=df)\n",
    "plt.title('Average Total Fee per Month Distribution by public record counts')\n",
    "plt.show()"
   ]
  },
  {
   "cell_type": "markdown",
   "metadata": {},
   "source": [
    "#### Borrower with public record shows lower profit compared to borrower who does not."
   ]
  },
  {
   "cell_type": "code",
   "execution_count": 252,
   "metadata": {
    "collapsed": false
   },
   "outputs": [
    {
     "data": {
      "image/png": "[encoded data removed]",
      "text/plain": [
       "<matplotlib.figure.Figure at 0x128918d0>"
      ]
     },
     "metadata": {},
     "output_type": "display_data"
    }
   ],
   "source": [
    "#plot average total fee per month with last 2year delinquency indicator\n",
    "df['delinq_2yrs_ind']=[0 if x==0 else 1 for x in df['delinq_2yrs']]\n",
    "ax = plt.axes()\n",
    "sns.barplot(x='delinq_2yrs_ind', y='tot_fee_per_mth', data=df)\n",
    "ax.set_title('Average Total Fee per Month Distribution by delinquency last 2 years')\n",
    "plt.show()"
   ]
  },
  {
   "cell_type": "markdown",
   "metadata": {},
   "source": [
    "#### Borrowers with last 2 year deliquency record is a little less profitable compared to the ones who don't have."
   ]
  },
  {
   "cell_type": "markdown",
   "metadata": {},
   "source": [
    "### 3. What typical characteristics of a good borrower looks like? What are the typical titles for them? How much money they make? What about bad borrowers? \n"
   ]
  },
  {
   "cell_type": "code",
   "execution_count": 187,
   "metadata": {
    "collapsed": false
   },
   "outputs": [
    {
     "data": {
      "text/plain": [
       "<matplotlib.axes._subplots.AxesSubplot at 0x5e9e00f0>"
      ]
     },
     "execution_count": 187,
     "metadata": {},
     "output_type": "execute_result"
    },
    {
     "data": {
      "image/png": "[encoded data removed]",
      "text/plain": [
       "<matplotlib.figure.Figure at 0x5e9e0668>"
      ]
     },
     "metadata": {},
     "output_type": "display_data"
    }
   ],
   "source": [
    "# This figure shows for each grade, the percentage of the good borrowers and bad borrowers\n",
    "# good borrowers are denfined as the loan status in \"Current\" or \"Fully Paid\"\n",
    "# all the others, such as late, default, charged-off, are defined as \"Bad\"\n",
    "p=df.pivot_table(values='id',index=['grade'],columns='good',aggfunc='count', margins=True).reset_index()\n",
    "p['good_perc']=p[1]/p['All']\n",
    "p['bad_perc']=p[0]/p['All']\n",
    "del p[0]\n",
    "del p[1]\n",
    "del p['All']\n",
    "p.set_index(['grade'],inplace=True)\n",
    "p.plot(kind='bar',stacked=True,rot=1)"
   ]
  },
  {
   "cell_type": "markdown",
   "metadata": {},
   "source": [
    "#### For all the loan grades, good borrowers takes from ~60% - ~95% of loans. The lower grade the loan is, the higher the bad percentage is. "
   ]
  },
  {
   "cell_type": "code",
   "execution_count": 189,
   "metadata": {
    "collapsed": false
   },
   "outputs": [
    {
     "data": {
      "text/plain": [
       "<matplotlib.axes._subplots.AxesSubplot at 0x78792cc0>"
      ]
     },
     "execution_count": 189,
     "metadata": {},
     "output_type": "execute_result"
    },
    {
     "data": {
      "image/png": "[encoded data removed]",
      "text/plain": [
       "<matplotlib.figure.Figure at 0x6ecee940>"
      ]
     },
     "metadata": {},
     "output_type": "display_data"
    }
   ],
   "source": [
    "p=df_home.pivot_table(values='id',index=['home_ownership'],columns='good',aggfunc='count', margins=True).reset_index()\n",
    "p['good_perc']=p[1]/p['All']\n",
    "p['bad_perc']=p[0]/p['All']\n",
    "del p[0]\n",
    "del p[1]\n",
    "del p['All']\n",
    "p.set_index(['home_ownership'],inplace=True)\n",
    "p.plot(kind='bar',stacked=True,rot=1)"
   ]
  },
  {
   "cell_type": "markdown",
   "metadata": {},
   "source": [
    "#### Good borrowers could have mortgage, own or rent home ownership. However, the good borrower percentage is higher with mortgage compared to other home ownership. "
   ]
  },
  {
   "cell_type": "code",
   "execution_count": 197,
   "metadata": {
    "collapsed": false
   },
   "outputs": [
    {
     "data": {
      "text/plain": [
       "<matplotlib.axes._subplots.AxesSubplot at 0x7d94fb00>"
      ]
     },
     "execution_count": 197,
     "metadata": {},
     "output_type": "execute_result"
    },
    {
     "data": {
      "image/png": "[encoded data removed]",
      "text/plain": [
       "<matplotlib.figure.Figure at 0x21470240>"
      ]
     },
     "metadata": {},
     "output_type": "display_data"
    }
   ],
   "source": [
    "#1 means good borrower, 0 means bad borrower\n",
    "#y axis is annual income\n",
    "df[df['annual_inc']<150000].boxplot(column='annual_inc',by='good')"
   ]
  },
  {
   "cell_type": "markdown",
   "metadata": {},
   "source": [
    "#### good borrower has a slighter higher income compared to bad borrower"
   ]
  },
  {
   "cell_type": "code",
   "execution_count": 229,
   "metadata": {
    "collapsed": false
   },
   "outputs": [
    {
     "data": {
      "text/plain": [
       "<matplotlib.axes._subplots.AxesSubplot at 0x672f3208>"
      ]
     },
     "execution_count": 229,
     "metadata": {},
     "output_type": "execute_result"
    },
    {
     "data": {
      "image/png": "[encoded data removed]",
      "text/plain": [
       "<matplotlib.figure.Figure at 0x1f351668>"
      ]
     },
     "metadata": {},
     "output_type": "display_data"
    }
   ],
   "source": [
    "#plot good borrower and bad borrower income in CA and NY\n",
    "df_stat = df[(df['addr_state'].str.lower()=='ca') | (df['addr_state'].str.lower()=='ny')]\n",
    "df_stat[df_stat['annual_inc']<150000].boxplot(column='annual_inc',by='good')"
   ]
  },
  {
   "cell_type": "markdown",
   "metadata": {},
   "source": [
    "#### Good borrowers in NY and CA, where living expense is relatively higher than the other states, are making more many than bad borrowers."
   ]
  },
  {
   "cell_type": "code",
   "execution_count": 230,
   "metadata": {
    "collapsed": false
   },
   "outputs": [
    {
     "data": {
      "text/plain": [
       "<matplotlib.axes._subplots.AxesSubplot at 0x20bdee48>"
      ]
     },
     "execution_count": 230,
     "metadata": {},
     "output_type": "execute_result"
    },
    {
     "data": {
      "image/png": "[encoded data removed]",
      "text/plain": [
       "<matplotlib.figure.Figure at 0x2d6ff780>"
      ]
     },
     "metadata": {},
     "output_type": "display_data"
    }
   ],
   "source": [
    "df_stat = df[(df['addr_state']<>'CA') & (df['addr_state']<>'NY')]\n",
    "df_stat[df_stat['annual_inc']<150000].boxplot(column='annual_inc',by='good')"
   ]
  },
  {
   "cell_type": "markdown",
   "metadata": {},
   "source": [
    "#### Other statse, the income difference between good and bad borrowers are not as significant."
   ]
  },
  {
   "cell_type": "code",
   "execution_count": 211,
   "metadata": {
    "collapsed": false
   },
   "outputs": [
    {
     "data": {
      "text/plain": [
       "teacher             9041\n",
       "manager             7896\n",
       "owner               5328\n",
       "registered nurse    4001\n",
       "supervisor          3571\n",
       "sales               3244\n",
       "driver              3214\n",
       "rn                  3158\n",
       "office manager      2524\n",
       "project manager     2462\n",
       "Name: emp_title, dtype: int64"
      ]
     },
     "execution_count": 211,
     "metadata": {},
     "output_type": "execute_result"
    }
   ],
   "source": [
    "df[df['good']==1].emp_title.str.lower().value_counts().head(10)"
   ]
  },
  {
   "cell_type": "code",
   "execution_count": 213,
   "metadata": {
    "collapsed": false
   },
   "outputs": [
    {
     "data": {
      "text/plain": [
       "manager             1062\n",
       "teacher              915\n",
       "owner                773\n",
       "driver               649\n",
       "sales                515\n",
       "supervisor           509\n",
       "registered nurse     442\n",
       "rn                   387\n",
       "truck driver         344\n",
       "general manager      313\n",
       "Name: emp_title, dtype: int64"
      ]
     },
     "execution_count": 213,
     "metadata": {},
     "output_type": "execute_result"
    }
   ],
   "source": [
    "df[df['good']==0].emp_title.str.lower().value_counts().head(10)"
   ]
  },
  {
   "cell_type": "markdown",
   "metadata": {},
   "source": [
    "#### Manager, teacher and owner are listed as top 3 for both good borrowers and bad borrowers. Office manager and project manger make to the top 10 in good borrower list but not on the top 10 bad borrower list."
   ]
  },
  {
   "cell_type": "code",
   "execution_count": 241,
   "metadata": {
    "collapsed": false
   },
   "outputs": [
    {
     "data": {
      "text/plain": [
       "count    4.210950e+05\n",
       "mean     5.393097e+07\n",
       "std      9.475423e+06\n",
       "min      5.670500e+04\n",
       "25%      4.612481e+07\n",
       "50%      5.536031e+07\n",
       "75%      6.186217e+07\n",
       "max      6.861706e+07\n",
       "Name: id, dtype: float64"
      ]
     },
     "execution_count": 241,
     "metadata": {},
     "output_type": "execute_result"
    }
   ],
   "source": [
    "df.id.describe()"
   ]
  },
  {
   "cell_type": "code",
   "execution_count": 266,
   "metadata": {
    "collapsed": false
   },
   "outputs": [
    {
     "name": "stderr",
     "output_type": "stream",
     "text": [
      "C:\\Users\\Chao Cheng\\Anaconda2\\lib\\site-packages\\ipykernel\\__main__.py:5: FutureWarning: sort(columns=....) is deprecated, use sort_values(by=.....)\n"
     ]
    },
    {
     "data": {
      "text/html": [
       "<div>\n",
       "<table border=\"1\" class=\"dataframe\">\n",
       "  <thead>\n",
       "    <tr style=\"text-align: right;\">\n",
       "      <th></th>\n",
       "      <th>index</th>\n",
       "      <th>addr_state</th>\n",
       "    </tr>\n",
       "  </thead>\n",
       "  <tbody>\n",
       "    <tr>\n",
       "      <th>39</th>\n",
       "      <td>SD</td>\n",
       "      <td>0.153293</td>\n",
       "    </tr>\n",
       "    <tr>\n",
       "      <th>1</th>\n",
       "      <td>AL</td>\n",
       "      <td>0.141762</td>\n",
       "    </tr>\n",
       "    <tr>\n",
       "      <th>31</th>\n",
       "      <td>NV</td>\n",
       "      <td>0.141121</td>\n",
       "    </tr>\n",
       "    <tr>\n",
       "      <th>34</th>\n",
       "      <td>OK</td>\n",
       "      <td>0.139617</td>\n",
       "    </tr>\n",
       "    <tr>\n",
       "      <th>2</th>\n",
       "      <td>AR</td>\n",
       "      <td>0.137690</td>\n",
       "    </tr>\n",
       "    <tr>\n",
       "      <th>16</th>\n",
       "      <td>LA</td>\n",
       "      <td>0.135347</td>\n",
       "    </tr>\n",
       "    <tr>\n",
       "      <th>23</th>\n",
       "      <td>MS</td>\n",
       "      <td>0.130737</td>\n",
       "    </tr>\n",
       "    <tr>\n",
       "      <th>0</th>\n",
       "      <td>AK</td>\n",
       "      <td>0.128931</td>\n",
       "    </tr>\n",
       "    <tr>\n",
       "      <th>32</th>\n",
       "      <td>NY</td>\n",
       "      <td>0.128590</td>\n",
       "    </tr>\n",
       "    <tr>\n",
       "      <th>30</th>\n",
       "      <td>NM</td>\n",
       "      <td>0.125479</td>\n",
       "    </tr>\n",
       "  </tbody>\n",
       "</table>\n",
       "</div>"
      ],
      "text/plain": [
       "   index  addr_state\n",
       "39    SD    0.153293\n",
       "1     AL    0.141762\n",
       "31    NV    0.141121\n",
       "34    OK    0.139617\n",
       "2     AR    0.137690\n",
       "16    LA    0.135347\n",
       "23    MS    0.130737\n",
       "0     AK    0.128931\n",
       "32    NY    0.128590\n",
       "30    NM    0.125479"
      ]
     },
     "execution_count": 266,
     "metadata": {},
     "output_type": "execute_result"
    }
   ],
   "source": [
    "####bad rate by state\n",
    "n=df[df['good']==0].addr_state.str.upper().value_counts()\n",
    "d=df.addr_state.str.upper().value_counts()\n",
    "bad_rate_by_state = n/d\n",
    "bad_rate_by_state.reset_index().sort(['addr_state'],ascending=False).head(10)\n"
   ]
  },
  {
   "cell_type": "markdown",
   "metadata": {},
   "source": [
    "#### Above shows the top 10 bad rate states. Bad borrowers geographically live in state with worse enconomy."
   ]
  },
  {
   "cell_type": "markdown",
   "metadata": {},
   "source": [
    "### 4. Do you observe any correlation in borrower’s data? Do you think for strong correlated variables, we can reduce the number of data points we collect? Why or why not?\n"
   ]
  },
  {
   "cell_type": "code",
   "execution_count": 182,
   "metadata": {
    "collapsed": false
   },
   "outputs": [
    {
     "data": {
      "image/png": "[encoded data removed]",
      "text/plain": [
       "<matplotlib.figure.Figure at 0x66dd0f28>"
      ]
     },
     "metadata": {},
     "output_type": "display_data"
    }
   ],
   "source": [
    "features = ['annual_inc',\n",
    "            'dti',\n",
    "            'acc_open_past_24mths',\n",
    "            'all_util',\n",
    "            'annual_inc_joint',\n",
    "            'avg_cur_bal',\n",
    "            'bc_util',\n",
    "            'chargeoff_within_12_mths',\n",
    "            'collections_12_mths_ex_med',\n",
    "            'delinq_2yrs',\n",
    "            'delinq_amnt',\n",
    "            'earliest_cr_line',\n",
    "            'mths_since_last_delinq',\n",
    "            'mths_since_last_major_derog',\n",
    "            'mths_since_last_record',\n",
    "            'mths_since_rcnt_il',\n",
    "            'mths_since_recent_bc',\n",
    "            'mths_since_recent_bc_dlq',\n",
    "            'mths_since_recent_inq',\n",
    "            'mths_since_recent_revol_delinq'\n",
    "            ]\n",
    "\n",
    "scatter_matrix(df[features])\n",
    "plt.show()"
   ]
  },
  {
   "cell_type": "markdown",
   "metadata": {},
   "source": [
    "#### The above graph selectively shows the scatter matrix of some features. As we would see some of the features are highly correlated."
   ]
  },
  {
   "cell_type": "code",
   "execution_count": 270,
   "metadata": {
    "collapsed": false
   },
   "outputs": [
    {
     "data": {
      "image/png": "[encoded data removed]",
      "text/plain": [
       "<matplotlib.figure.Figure at 0x9330eba8>"
      ]
     },
     "metadata": {},
     "output_type": "display_data"
    }
   ],
   "source": [
    "#mths_since_last_delinq:The number of months since the borrower's last delinquency.\n",
    "#mths_since_last_major_derog:Months since most recent 90-day or worse rating\n",
    "features=['mths_since_last_delinq',\n",
    "          'mths_since_last_major_derog']\n",
    "scatter_matrix(df[features])\n",
    "plt.show()"
   ]
  },
  {
   "cell_type": "code",
   "execution_count": 268,
   "metadata": {
    "collapsed": false
   },
   "outputs": [
    {
     "data": {
      "text/html": [
       "<div>\n",
       "<table border=\"1\" class=\"dataframe\">\n",
       "  <thead>\n",
       "    <tr style=\"text-align: right;\">\n",
       "      <th></th>\n",
       "      <th>mths_since_last_delinq</th>\n",
       "      <th>mths_since_last_major_derog</th>\n",
       "    </tr>\n",
       "  </thead>\n",
       "  <tbody>\n",
       "    <tr>\n",
       "      <th>mths_since_last_delinq</th>\n",
       "      <td>1.000000</td>\n",
       "      <td>0.681553</td>\n",
       "    </tr>\n",
       "    <tr>\n",
       "      <th>mths_since_last_major_derog</th>\n",
       "      <td>0.681553</td>\n",
       "      <td>1.000000</td>\n",
       "    </tr>\n",
       "  </tbody>\n",
       "</table>\n",
       "</div>"
      ],
      "text/plain": [
       "                             mths_since_last_delinq  \\\n",
       "mths_since_last_delinq                     1.000000   \n",
       "mths_since_last_major_derog                0.681553   \n",
       "\n",
       "                             mths_since_last_major_derog  \n",
       "mths_since_last_delinq                          0.681553  \n",
       "mths_since_last_major_derog                     1.000000  "
      ]
     },
     "execution_count": 268,
     "metadata": {},
     "output_type": "execute_result"
    }
   ],
   "source": [
    "df[features].corr()"
   ]
  },
  {
   "cell_type": "markdown",
   "metadata": {},
   "source": [
    "#### mths_since_last_delinq and mths_since_last_major_derog are somehow correlated, especially when both of the months are beyond ~ 75 months."
   ]
  },
  {
   "cell_type": "code",
   "execution_count": 281,
   "metadata": {
    "collapsed": false
   },
   "outputs": [
    {
     "data": {
      "text/html": [
       "<div>\n",
       "<table border=\"1\" class=\"dataframe\">\n",
       "  <thead>\n",
       "    <tr style=\"text-align: right;\">\n",
       "      <th></th>\n",
       "      <th>revol_bal</th>\n",
       "      <th>loan_amnt</th>\n",
       "      <th>avg_cur_bal</th>\n",
       "      <th>annual_inc</th>\n",
       "      <th>num_actv_bc_tl</th>\n",
       "      <th>open_acc</th>\n",
       "      <th>tot_coll_amt</th>\n",
       "      <th>num_sats</th>\n",
       "    </tr>\n",
       "  </thead>\n",
       "  <tbody>\n",
       "    <tr>\n",
       "      <th>revol_bal</th>\n",
       "      <td>1.000000</td>\n",
       "      <td>0.334656</td>\n",
       "      <td>0.300571</td>\n",
       "      <td>0.270174</td>\n",
       "      <td>0.313037</td>\n",
       "      <td>0.222987</td>\n",
       "      <td>-0.030903</td>\n",
       "      <td>0.222149</td>\n",
       "    </tr>\n",
       "    <tr>\n",
       "      <th>loan_amnt</th>\n",
       "      <td>0.334656</td>\n",
       "      <td>1.000000</td>\n",
       "      <td>0.238156</td>\n",
       "      <td>0.305734</td>\n",
       "      <td>0.212990</td>\n",
       "      <td>0.188214</td>\n",
       "      <td>-0.021437</td>\n",
       "      <td>0.189328</td>\n",
       "    </tr>\n",
       "    <tr>\n",
       "      <th>avg_cur_bal</th>\n",
       "      <td>0.300571</td>\n",
       "      <td>0.238156</td>\n",
       "      <td>1.000000</td>\n",
       "      <td>0.293642</td>\n",
       "      <td>-0.110135</td>\n",
       "      <td>-0.115998</td>\n",
       "      <td>-0.005693</td>\n",
       "      <td>-0.115909</td>\n",
       "    </tr>\n",
       "    <tr>\n",
       "      <th>annual_inc</th>\n",
       "      <td>0.270174</td>\n",
       "      <td>0.305734</td>\n",
       "      <td>0.293642</td>\n",
       "      <td>1.000000</td>\n",
       "      <td>0.106892</td>\n",
       "      <td>0.122328</td>\n",
       "      <td>-0.000509</td>\n",
       "      <td>0.122114</td>\n",
       "    </tr>\n",
       "    <tr>\n",
       "      <th>num_actv_bc_tl</th>\n",
       "      <td>0.313037</td>\n",
       "      <td>0.212990</td>\n",
       "      <td>-0.110135</td>\n",
       "      <td>0.106892</td>\n",
       "      <td>1.000000</td>\n",
       "      <td>0.551822</td>\n",
       "      <td>-0.016128</td>\n",
       "      <td>0.550698</td>\n",
       "    </tr>\n",
       "    <tr>\n",
       "      <th>open_acc</th>\n",
       "      <td>0.222987</td>\n",
       "      <td>0.188214</td>\n",
       "      <td>-0.115998</td>\n",
       "      <td>0.122328</td>\n",
       "      <td>0.551822</td>\n",
       "      <td>1.000000</td>\n",
       "      <td>0.002337</td>\n",
       "      <td>0.998602</td>\n",
       "    </tr>\n",
       "    <tr>\n",
       "      <th>tot_coll_amt</th>\n",
       "      <td>-0.030903</td>\n",
       "      <td>-0.021437</td>\n",
       "      <td>-0.005693</td>\n",
       "      <td>-0.000509</td>\n",
       "      <td>-0.016128</td>\n",
       "      <td>0.002337</td>\n",
       "      <td>1.000000</td>\n",
       "      <td>0.002679</td>\n",
       "    </tr>\n",
       "    <tr>\n",
       "      <th>num_sats</th>\n",
       "      <td>0.222149</td>\n",
       "      <td>0.189328</td>\n",
       "      <td>-0.115909</td>\n",
       "      <td>0.122114</td>\n",
       "      <td>0.550698</td>\n",
       "      <td>0.998602</td>\n",
       "      <td>0.002679</td>\n",
       "      <td>1.000000</td>\n",
       "    </tr>\n",
       "  </tbody>\n",
       "</table>\n",
       "</div>"
      ],
      "text/plain": [
       "                revol_bal  loan_amnt  avg_cur_bal  annual_inc  num_actv_bc_tl  \\\n",
       "revol_bal        1.000000   0.334656     0.300571    0.270174        0.313037   \n",
       "loan_amnt        0.334656   1.000000     0.238156    0.305734        0.212990   \n",
       "avg_cur_bal      0.300571   0.238156     1.000000    0.293642       -0.110135   \n",
       "annual_inc       0.270174   0.305734     0.293642    1.000000        0.106892   \n",
       "num_actv_bc_tl   0.313037   0.212990    -0.110135    0.106892        1.000000   \n",
       "open_acc         0.222987   0.188214    -0.115998    0.122328        0.551822   \n",
       "tot_coll_amt    -0.030903  -0.021437    -0.005693   -0.000509       -0.016128   \n",
       "num_sats         0.222149   0.189328    -0.115909    0.122114        0.550698   \n",
       "\n",
       "                open_acc  tot_coll_amt  num_sats  \n",
       "revol_bal       0.222987     -0.030903  0.222149  \n",
       "loan_amnt       0.188214     -0.021437  0.189328  \n",
       "avg_cur_bal    -0.115998     -0.005693 -0.115909  \n",
       "annual_inc      0.122328     -0.000509  0.122114  \n",
       "num_actv_bc_tl  0.551822     -0.016128  0.550698  \n",
       "open_acc        1.000000      0.002337  0.998602  \n",
       "tot_coll_amt    0.002337      1.000000  0.002679  \n",
       "num_sats        0.998602      0.002679  1.000000  "
      ]
     },
     "execution_count": 281,
     "metadata": {},
     "output_type": "execute_result"
    }
   ],
   "source": [
    "features=['revol_bal',\n",
    "          'loan_amnt',\n",
    "          'avg_cur_bal',\n",
    "          'annual_inc',\n",
    "          'num_actv_bc_tl',\n",
    "          'open_acc',\n",
    "          'tot_coll_amt',\n",
    "          'num_sats']\n",
    "df[features].corr()"
   ]
  },
  {
   "cell_type": "markdown",
   "metadata": {},
   "source": [
    "#### some more examples of correlation. \n",
    "#### The number of open credit lines in the borrower's credit file (open_acc)  is highly correlated with Number of satisfactory accounts (num_sats)"
   ]
  },
  {
   "cell_type": "markdown",
   "metadata": {},
   "source": [
    "#### In my opinion, I still suggest we collect those variables even though some of the features are correlated. Because first of all, storing data is relatively cheap. Some variables such as fund_amnt and loan_amnt are identical in this dataset and may seem useless for this analysis. However, those data would be very valuable for answering the questions that what kind of loan would not be fully funded when we have both the loans fully funded and not fully funded. Storing these data provide the potential opportunity to answer more questions, as long as collecting the data does not require much more cost. Second, there are some data mining techniques such as random forest, which would deal with such highly correlated variables. By getting the subset of all the features may reveal some undiscovered information in highly correlated variables and increase the model performance. "
   ]
  },
  {
   "cell_type": "markdown",
   "metadata": {},
   "source": [
    "### 5. If maximizing profits is the only goal, do you think Lending Club does a good job in assigning grades to their loans? \n"
   ]
  },
  {
   "cell_type": "code",
   "execution_count": 283,
   "metadata": {
    "collapsed": false
   },
   "outputs": [
    {
     "data": {
      "image/png": "[encoded data removed]",
      "text/plain": [
       "<matplotlib.figure.Figure at 0x23df5940>"
      ]
     },
     "metadata": {},
     "output_type": "display_data"
    }
   ],
   "source": [
    "ax = plt.axes()\n",
    "sns.barplot(x='grade', y='tot_fee_per_mth', data=df, order = ['A','B','C','D','E','F','G'])\n",
    "ax.set_title('Total Fee per Month Distribution by grade')\n",
    "plt.show()"
   ]
  },
  {
   "cell_type": "code",
   "execution_count": 284,
   "metadata": {
    "collapsed": false
   },
   "outputs": [
    {
     "data": {
      "text/plain": [
       "<matplotlib.axes._subplots.AxesSubplot at 0x74d3a470>"
      ]
     },
     "execution_count": 284,
     "metadata": {},
     "output_type": "execute_result"
    },
    {
     "data": {
      "image/png": "[encoded data removed]",
      "text/plain": [
       "<matplotlib.figure.Figure at 0x2b839978>"
      ]
     },
     "metadata": {},
     "output_type": "display_data"
    }
   ],
   "source": [
    "df.grade.value_counts().sort_index().plot(kind='bar')"
   ]
  },
  {
   "cell_type": "markdown",
   "metadata": {},
   "source": [
    "#### From profitability stand point, Grade A is the least profitable. Grade B and C have much higher profit compared to Grade A. The difference between profit of Grade C and Grade G, which is highest profitable grade, is only around one dollar.  So that's why Lending Club assigns highest amount of loans to grade C and D."
   ]
  },
  {
   "cell_type": "code",
   "execution_count": 285,
   "metadata": {
    "collapsed": false
   },
   "outputs": [
    {
     "data": {
      "image/png": "[encoded data removed]",
      "text/plain": [
       "<matplotlib.figure.Figure at 0x91a06e48>"
      ]
     },
     "metadata": {},
     "output_type": "display_data"
    }
   ],
   "source": [
    "ax = plt.axes()\n",
    "sns.barplot(x='grade', y='lmth_service_fee', data=df, order = ['A','B','C','D','E','F','G'])\n",
    "ax.set_title('Last Month Service Fee Distribution')\n",
    "plt.show()"
   ]
  },
  {
   "cell_type": "code",
   "execution_count": 293,
   "metadata": {
    "collapsed": true
   },
   "outputs": [],
   "source": [
    "#write to dataframe to a new csv file\n",
    "df.to_csv(data_loc +'\\\\'+ 'LoanStats3d_new.csv')"
   ]
  },
  {
   "cell_type": "markdown",
   "metadata": {},
   "source": [
    "#### Theoretically, by assigning all the loans to grade G provides the highest profit. However, Lending Club is a peer to peer lending platform. They need to attract investors and good borrowers to grow their business. The investor's earning is proportinal to the service fee. From the above, we could see the Grade A provides highest return on investment. Thus Lending Club assigns a good amount of loans with lower risk to the Grade A to attracts investor. Although this may mean lending club need to sacrifice on the profit of Grade A, it helps the health of the investor's portfolio. At the same time, with the lower interest and lower origination fee, borrower with financial resposibility may be attracted to the platform. Although Grade E, F and G are highly profitable, the difference compared with Grade C and D is not very significant. It is not wise to risk many investors' money too much. Overall, I think lending club did a good job on assigning the grades to their loans."
   ]
  },
  {
   "cell_type": "markdown",
   "metadata": {},
   "source": [
    "### 6. (Optional) Can you project the revenue of these loans over time?"
   ]
  },
  {
   "cell_type": "markdown",
   "metadata": {},
   "source": [
    "#### Lending Club's revenue is based on the origination fee and service fee. Since all the loans in this dataset have been fully funded, all the origination fee has been collected from borrower. The service fee is 1% of the payment. Predicting if the loan would keep in good status (Current or Fully Paid)  would provide the answer to the revenue projection. If the loan is still good, then the revenue would be the 1% of payment, otherwise it would be zero.\n",
    "#### The target variable for this model would be the \"good\" indicator, with 1 meaning the loan is current or fully paid, and 0 meaning the loan is late, default, or charged-off."
   ]
  },
  {
   "cell_type": "code",
   "execution_count": 1,
   "metadata": {
    "collapsed": false
   },
   "outputs": [
    {
     "name": "stdout",
     "output_type": "stream",
     "text": [
      "Checking whether there is an H2O instance running at http://localhost:54321..... not found.\n",
      "Attempting to start a local H2O server...\n",
      "; Java HotSpot(TM) 64-Bit Server VM (build 25.25-b02, mixed mode)\n",
      "  Starting server from C:\\Users\\Chao Cheng\\Anaconda2\\lib\\site-packages\\h2o\\backend\\bin\\h2o.jar\n",
      "  Ice root: c:\\users\\chaoch~1\\appdata\\local\\temp\\tmpepzivp\n",
      "  JVM stdout: c:\\users\\chaoch~1\\appdata\\local\\temp\\tmpepzivp\\h2o_Chao_Cheng_started_from_python.out\n",
      "  JVM stderr: c:\\users\\chaoch~1\\appdata\\local\\temp\\tmpepzivp\\h2o_Chao_Cheng_started_from_python.err\n",
      "  Server is running at http://127.0.0.1:54321\n",
      "Connecting to H2O server at http://127.0.0.1:54321... successful.\n"
     ]
    },
    {
     "data": {
      "text/html": [
       "<div style=\"overflow:auto\"><table style=\"width:50%\"><tr><td>H2O cluster uptime:</td>\n",
       "<td>09 secs</td></tr>\n",
       "<tr><td>H2O cluster version:</td>\n",
       "<td>3.10.4.6</td></tr>\n",
       "<tr><td>H2O cluster version age:</td>\n",
       "<td>17 days </td></tr>\n",
       "<tr><td>H2O cluster name:</td>\n",
       "<td>H2O_from_python_Chao_Cheng_lyqy7w</td></tr>\n",
       "<tr><td>H2O cluster total nodes:</td>\n",
       "<td>1</td></tr>\n",
       "<tr><td>H2O cluster free memory:</td>\n",
       "<td>1.740 Gb</td></tr>\n",
       "<tr><td>H2O cluster total cores:</td>\n",
       "<td>4</td></tr>\n",
       "<tr><td>H2O cluster allowed cores:</td>\n",
       "<td>4</td></tr>\n",
       "<tr><td>H2O cluster status:</td>\n",
       "<td>accepting new members, healthy</td></tr>\n",
       "<tr><td>H2O connection url:</td>\n",
       "<td>http://127.0.0.1:54321</td></tr>\n",
       "<tr><td>H2O connection proxy:</td>\n",
       "<td>None</td></tr>\n",
       "<tr><td>H2O internal security:</td>\n",
       "<td>False</td></tr>\n",
       "<tr><td>Python version:</td>\n",
       "<td>2.7.13 final</td></tr></table></div>"
      ],
      "text/plain": [
       "--------------------------  ---------------------------------\n",
       "H2O cluster uptime:         09 secs\n",
       "H2O cluster version:        3.10.4.6\n",
       "H2O cluster version age:    17 days\n",
       "H2O cluster name:           H2O_from_python_Chao_Cheng_lyqy7w\n",
       "H2O cluster total nodes:    1\n",
       "H2O cluster free memory:    1.740 Gb\n",
       "H2O cluster total cores:    4\n",
       "H2O cluster allowed cores:  4\n",
       "H2O cluster status:         accepting new members, healthy\n",
       "H2O connection url:         http://127.0.0.1:54321\n",
       "H2O connection proxy:\n",
       "H2O internal security:      False\n",
       "Python version:             2.7.13 final\n",
       "--------------------------  ---------------------------------"
      ]
     },
     "metadata": {},
     "output_type": "display_data"
    }
   ],
   "source": [
    "#import h2o\n",
    "import h2o\n",
    "h2o.init()\n"
   ]
  },
  {
   "cell_type": "code",
   "execution_count": 2,
   "metadata": {
    "collapsed": false
   },
   "outputs": [],
   "source": [
    "#import h2o randomforest and grid search\n",
    "from h2o.estimators.random_forest import H2ORandomForestEstimator\n",
    "from h2o.grid.grid_search import H2OGridSearch\n"
   ]
  },
  {
   "cell_type": "code",
   "execution_count": 3,
   "metadata": {
    "collapsed": false
   },
   "outputs": [
    {
     "name": "stdout",
     "output_type": "stream",
     "text": [
      "Connecting to H2O server at http://localhost:54321... successful.\n"
     ]
    },
    {
     "data": {
      "text/html": [
       "<div style=\"overflow:auto\"><table style=\"width:50%\"><tr><td>H2O cluster uptime:</td>\n",
       "<td>16 secs</td></tr>\n",
       "<tr><td>H2O cluster version:</td>\n",
       "<td>3.10.4.6</td></tr>\n",
       "<tr><td>H2O cluster version age:</td>\n",
       "<td>17 days </td></tr>\n",
       "<tr><td>H2O cluster name:</td>\n",
       "<td>H2O_from_python_Chao_Cheng_lyqy7w</td></tr>\n",
       "<tr><td>H2O cluster total nodes:</td>\n",
       "<td>1</td></tr>\n",
       "<tr><td>H2O cluster free memory:</td>\n",
       "<td>1.724 Gb</td></tr>\n",
       "<tr><td>H2O cluster total cores:</td>\n",
       "<td>4</td></tr>\n",
       "<tr><td>H2O cluster allowed cores:</td>\n",
       "<td>4</td></tr>\n",
       "<tr><td>H2O cluster status:</td>\n",
       "<td>locked, healthy</td></tr>\n",
       "<tr><td>H2O connection url:</td>\n",
       "<td>http://localhost:54321</td></tr>\n",
       "<tr><td>H2O connection proxy:</td>\n",
       "<td>None</td></tr>\n",
       "<tr><td>H2O internal security:</td>\n",
       "<td>False</td></tr>\n",
       "<tr><td>Python version:</td>\n",
       "<td>2.7.13 final</td></tr></table></div>"
      ],
      "text/plain": [
       "--------------------------  ---------------------------------\n",
       "H2O cluster uptime:         16 secs\n",
       "H2O cluster version:        3.10.4.6\n",
       "H2O cluster version age:    17 days\n",
       "H2O cluster name:           H2O_from_python_Chao_Cheng_lyqy7w\n",
       "H2O cluster total nodes:    1\n",
       "H2O cluster free memory:    1.724 Gb\n",
       "H2O cluster total cores:    4\n",
       "H2O cluster allowed cores:  4\n",
       "H2O cluster status:         locked, healthy\n",
       "H2O connection url:         http://localhost:54321\n",
       "H2O connection proxy:\n",
       "H2O internal security:      False\n",
       "Python version:             2.7.13 final\n",
       "--------------------------  ---------------------------------"
      ]
     },
     "metadata": {},
     "output_type": "display_data"
    },
    {
     "data": {
      "text/plain": [
       "<H2OConnection to http://localhost:54321, session _sid_914a>"
      ]
     },
     "execution_count": 3,
     "metadata": {},
     "output_type": "execute_result"
    }
   ],
   "source": [
    "h2o.h2o.connect()"
   ]
  },
  {
   "cell_type": "code",
   "execution_count": 4,
   "metadata": {
    "collapsed": false
   },
   "outputs": [
    {
     "name": "stdout",
     "output_type": "stream",
     "text": [
      "Parse progress: |█████████████████████████████████████████████████████████| 100%\n",
      "[421095, 123]\n"
     ]
    },
    {
     "data": {
      "text/html": [
       "<table>\n",
       "<thead>\n",
       "<tr><th style=\"text-align: right;\">  C1</th><th style=\"text-align: right;\">         id</th><th style=\"text-align: right;\">  member_id</th><th style=\"text-align: right;\">  loan_amnt</th><th style=\"text-align: right;\">  funded_amnt</th><th style=\"text-align: right;\">  funded_amnt_inv</th><th>term     </th><th style=\"text-align: right;\">  int_rate</th><th style=\"text-align: right;\">  installment</th><th>grade  </th><th>sub_grade  </th><th>emp_title          </th><th>emp_length  </th><th>home_ownership  </th><th style=\"text-align: right;\">  annual_inc</th><th>verification_status  </th><th>issue_d            </th><th>loan_status  </th><th>pymnt_plan  </th><th>url                                                              </th><th>desc  </th><th>purpose           </th><th>title                  </th><th>zip_code  </th><th>addr_state  </th><th style=\"text-align: right;\">  dti</th><th style=\"text-align: right;\">  delinq_2yrs</th><th>earliest_cr_line   </th><th style=\"text-align: right;\">  inq_last_6mths</th><th style=\"text-align: right;\">  mths_since_last_delinq</th><th style=\"text-align: right;\">  mths_since_last_record</th><th style=\"text-align: right;\">  open_acc</th><th style=\"text-align: right;\">  pub_rec</th><th style=\"text-align: right;\">  revol_bal</th><th style=\"text-align: right;\">  revol_util</th><th style=\"text-align: right;\">  total_acc</th><th>initial_list_status  </th><th style=\"text-align: right;\">  out_prncp</th><th style=\"text-align: right;\">  out_prncp_inv</th><th style=\"text-align: right;\">  total_pymnt</th><th style=\"text-align: right;\">  total_pymnt_inv</th><th style=\"text-align: right;\">  total_rec_prncp</th><th style=\"text-align: right;\">  total_rec_int</th><th style=\"text-align: right;\">  total_rec_late_fee</th><th style=\"text-align: right;\">  recoveries</th><th style=\"text-align: right;\">  collection_recovery_fee</th><th>last_pymnt_d       </th><th style=\"text-align: right;\">  last_pymnt_amnt</th><th>next_pymnt_d       </th><th>last_credit_pull_d  </th><th style=\"text-align: right;\">  collections_12_mths_ex_med</th><th style=\"text-align: right;\">  mths_since_last_major_derog</th><th style=\"text-align: right;\">  policy_code</th><th>application_type  </th><th style=\"text-align: right;\">  annual_inc_joint</th><th style=\"text-align: right;\">  dti_joint</th><th>verification_status_joint  </th><th style=\"text-align: right;\">  acc_now_delinq</th><th style=\"text-align: right;\">  tot_coll_amt</th><th style=\"text-align: right;\">  tot_cur_bal</th><th style=\"text-align: right;\">  open_acc_6m</th><th style=\"text-align: right;\">  open_il_6m</th><th style=\"text-align: right;\">  open_il_12m</th><th style=\"text-align: right;\">  open_il_24m</th><th style=\"text-align: right;\">  mths_since_rcnt_il</th><th style=\"text-align: right;\">  total_bal_il</th><th style=\"text-align: right;\">  il_util</th><th style=\"text-align: right;\">  open_rv_12m</th><th style=\"text-align: right;\">  open_rv_24m</th><th style=\"text-align: right;\">  max_bal_bc</th><th style=\"text-align: right;\">  all_util</th><th style=\"text-align: right;\">  total_rev_hi_lim</th><th style=\"text-align: right;\">  inq_fi</th><th style=\"text-align: right;\">  total_cu_tl</th><th style=\"text-align: right;\">  inq_last_12m</th><th style=\"text-align: right;\">  acc_open_past_24mths</th><th style=\"text-align: right;\">  avg_cur_bal</th><th style=\"text-align: right;\">  bc_open_to_buy</th><th style=\"text-align: right;\">  bc_util</th><th style=\"text-align: right;\">  chargeoff_within_12_mths</th><th style=\"text-align: right;\">  delinq_amnt</th><th style=\"text-align: right;\">  mo_sin_old_il_acct</th><th style=\"text-align: right;\">  mo_sin_old_rev_tl_op</th><th style=\"text-align: right;\">  mo_sin_rcnt_rev_tl_op</th><th style=\"text-align: right;\">  mo_sin_rcnt_tl</th><th style=\"text-align: right;\">  mort_acc</th><th style=\"text-align: right;\">  mths_since_recent_bc</th><th style=\"text-align: right;\">  mths_since_recent_bc_dlq</th><th style=\"text-align: right;\">  mths_since_recent_inq</th><th style=\"text-align: right;\">  mths_since_recent_revol_delinq</th><th style=\"text-align: right;\">  num_accts_ever_120_pd</th><th style=\"text-align: right;\">  num_actv_bc_tl</th><th style=\"text-align: right;\">  num_actv_rev_tl</th><th style=\"text-align: right;\">  num_bc_sats</th><th style=\"text-align: right;\">  num_bc_tl</th><th style=\"text-align: right;\">  num_il_tl</th><th style=\"text-align: right;\">  num_op_rev_tl</th><th style=\"text-align: right;\">  num_rev_accts</th><th style=\"text-align: right;\">  num_rev_tl_bal_gt_0</th><th style=\"text-align: right;\">  num_sats</th><th style=\"text-align: right;\">  num_tl_120dpd_2m</th><th style=\"text-align: right;\">  num_tl_30dpd</th><th style=\"text-align: right;\">  num_tl_90g_dpd_24m</th><th style=\"text-align: right;\">  num_tl_op_past_12m</th><th style=\"text-align: right;\">  pct_tl_nvr_dlq</th><th style=\"text-align: right;\">  percent_bc_gt_75</th><th style=\"text-align: right;\">  pub_rec_bankruptcies</th><th style=\"text-align: right;\">  tax_liens</th><th style=\"text-align: right;\">  tot_hi_cred_lim</th><th style=\"text-align: right;\">  total_bal_ex_mort</th><th style=\"text-align: right;\">  total_bc_limit</th><th style=\"text-align: right;\">  total_il_high_credit_limit</th><th style=\"text-align: right;\">  month</th><th style=\"text-align: right;\">  term_n</th><th style=\"text-align: right;\">  orig_rate</th><th style=\"text-align: right;\">  orig_fee</th><th style=\"text-align: right;\">  orig_fee_per_mth</th><th style=\"text-align: right;\">  service_fee</th><th style=\"text-align: right;\">  good</th><th style=\"text-align: right;\">  lmth_service_fee</th><th style=\"text-align: right;\">  tot_fee_per_mth</th><th style=\"text-align: right;\">  Current_ind</th><th style=\"text-align: right;\">  income_level</th></tr>\n",
       "</thead>\n",
       "<tbody>\n",
       "<tr><td style=\"text-align: right;\">   0</td><td style=\"text-align: right;\">6.86152e+07</td><td style=\"text-align: right;\">7.35179e+07</td><td style=\"text-align: right;\">      16000</td><td style=\"text-align: right;\">        16000</td><td style=\"text-align: right;\">            16000</td><td>60 months</td><td style=\"text-align: right;\">    0.0849</td><td style=\"text-align: right;\">       328.19</td><td>B      </td><td>B1         </td><td>Supervisor         </td><td>5 years     </td><td>MORTGAGE        </td><td style=\"text-align: right;\">       62000</td><td>Source Verified      </td><td>2015-12-01 00:00:00</td><td>Current      </td><td>n           </td><td>https://lendingclub.com/browse/loanDetail.action?loan_id=68615169</td><td>      </td><td>credit_card       </td><td>Credit card refinancing</td><td>936xx     </td><td>CA          </td><td style=\"text-align: right;\">28.92</td><td style=\"text-align: right;\">            0</td><td>2002-03-01 00:00:00</td><td style=\"text-align: right;\">               0</td><td style=\"text-align: right;\">                      39</td><td style=\"text-align: right;\">                     nan</td><td style=\"text-align: right;\">        10</td><td style=\"text-align: right;\">        0</td><td style=\"text-align: right;\">      15763</td><td style=\"text-align: right;\">       0.512</td><td style=\"text-align: right;\">         24</td><td>w                    </td><td style=\"text-align: right;\">   13083.4 </td><td style=\"text-align: right;\">       13083.4 </td><td style=\"text-align: right;\">      4247.6 </td><td style=\"text-align: right;\">          4247.6 </td><td style=\"text-align: right;\">          2916.65</td><td style=\"text-align: right;\">        1330.95</td><td style=\"text-align: right;\">                   0</td><td style=\"text-align: right;\">           0</td><td style=\"text-align: right;\">                        0</td><td>2017-02-01 00:00:00</td><td style=\"text-align: right;\">           328.19</td><td>2017-03-01 00:00:00</td><td>2017-02-01 00:00:00 </td><td style=\"text-align: right;\">                           0</td><td style=\"text-align: right;\">                           61</td><td style=\"text-align: right;\">            1</td><td>INDIVIDUAL        </td><td style=\"text-align: right;\">               nan</td><td style=\"text-align: right;\">        nan</td><td>                           </td><td style=\"text-align: right;\">               0</td><td style=\"text-align: right;\">             0</td><td style=\"text-align: right;\">       227708</td><td style=\"text-align: right;\">            3</td><td style=\"text-align: right;\">           3</td><td style=\"text-align: right;\">            1</td><td style=\"text-align: right;\">            2</td><td style=\"text-align: right;\">                   3</td><td style=\"text-align: right;\">         48608</td><td style=\"text-align: right;\">       82</td><td style=\"text-align: right;\">            2</td><td style=\"text-align: right;\">            4</td><td style=\"text-align: right;\">        4727</td><td style=\"text-align: right;\">        71</td><td style=\"text-align: right;\">             30800</td><td style=\"text-align: right;\">       1</td><td style=\"text-align: right;\">            1</td><td style=\"text-align: right;\">             0</td><td style=\"text-align: right;\">                     6</td><td style=\"text-align: right;\">        22771</td><td style=\"text-align: right;\">            8703</td><td style=\"text-align: right;\">     63  </td><td style=\"text-align: right;\">                         0</td><td style=\"text-align: right;\">            0</td><td style=\"text-align: right;\">                 165</td><td style=\"text-align: right;\">                   159</td><td style=\"text-align: right;\">                      3</td><td style=\"text-align: right;\">               3</td><td style=\"text-align: right;\">         3</td><td style=\"text-align: right;\">                     3</td><td style=\"text-align: right;\">                       nan</td><td style=\"text-align: right;\">                     17</td><td style=\"text-align: right;\">                              39</td><td style=\"text-align: right;\">                      1</td><td style=\"text-align: right;\">               4</td><td style=\"text-align: right;\">                5</td><td style=\"text-align: right;\">            4</td><td style=\"text-align: right;\">          7</td><td style=\"text-align: right;\">          9</td><td style=\"text-align: right;\">              6</td><td style=\"text-align: right;\">             12</td><td style=\"text-align: right;\">                    6</td><td style=\"text-align: right;\">        10</td><td style=\"text-align: right;\">                 0</td><td style=\"text-align: right;\">             0</td><td style=\"text-align: right;\">                   0</td><td style=\"text-align: right;\">                   3</td><td style=\"text-align: right;\">            87.5</td><td style=\"text-align: right;\">              50  </td><td style=\"text-align: right;\">                     0</td><td style=\"text-align: right;\">          0</td><td style=\"text-align: right;\">           307343</td><td style=\"text-align: right;\">              64371</td><td style=\"text-align: right;\">           23500</td><td style=\"text-align: right;\">                       59526</td><td style=\"text-align: right;\">     12</td><td style=\"text-align: right;\">      60</td><td style=\"text-align: right;\">          5</td><td style=\"text-align: right;\">       800</td><td style=\"text-align: right;\">          13.3333 </td><td style=\"text-align: right;\">      42.476 </td><td style=\"text-align: right;\">     1</td><td style=\"text-align: right;\">            3.2819</td><td style=\"text-align: right;\">          16.6152</td><td style=\"text-align: right;\">            1</td><td style=\"text-align: right;\">             4</td></tr>\n",
       "<tr><td style=\"text-align: right;\">   1</td><td style=\"text-align: right;\">6.85376e+07</td><td style=\"text-align: right;\">7.34274e+07</td><td style=\"text-align: right;\">       8000</td><td style=\"text-align: right;\">         8000</td><td style=\"text-align: right;\">             8000</td><td>36 months</td><td style=\"text-align: right;\">    0.1078</td><td style=\"text-align: right;\">       261.08</td><td>B      </td><td>B4         </td><td>Counselor          </td><td>< 1 year    </td><td>MORTGAGE        </td><td style=\"text-align: right;\">       45000</td><td>Not Verified         </td><td>2015-12-01 00:00:00</td><td>Current      </td><td>n           </td><td>https://lendingclub.com/browse/loanDetail.action?loan_id=68537564</td><td>      </td><td>debt_consolidation</td><td>Debt consolidation     </td><td>482xx     </td><td>MI          </td><td style=\"text-align: right;\">21.23</td><td style=\"text-align: right;\">            0</td><td>1998-01-01 00:00:00</td><td style=\"text-align: right;\">               0</td><td style=\"text-align: right;\">                      34</td><td style=\"text-align: right;\">                     nan</td><td style=\"text-align: right;\">        28</td><td style=\"text-align: right;\">        0</td><td style=\"text-align: right;\">      11141</td><td style=\"text-align: right;\">       0.355</td><td style=\"text-align: right;\">         69</td><td>w                    </td><td style=\"text-align: right;\">    5403.18</td><td style=\"text-align: right;\">        5403.18</td><td style=\"text-align: right;\">      3382.06</td><td style=\"text-align: right;\">          3382.06</td><td style=\"text-align: right;\">          2596.82</td><td style=\"text-align: right;\">         785.24</td><td style=\"text-align: right;\">                   0</td><td style=\"text-align: right;\">           0</td><td style=\"text-align: right;\">                        0</td><td>2017-02-01 00:00:00</td><td style=\"text-align: right;\">           261.08</td><td>2017-03-01 00:00:00</td><td>2017-02-01 00:00:00 </td><td style=\"text-align: right;\">                           0</td><td style=\"text-align: right;\">                           61</td><td style=\"text-align: right;\">            1</td><td>INDIVIDUAL        </td><td style=\"text-align: right;\">               nan</td><td style=\"text-align: right;\">        nan</td><td>                           </td><td style=\"text-align: right;\">               0</td><td style=\"text-align: right;\">             0</td><td style=\"text-align: right;\">       148154</td><td style=\"text-align: right;\">            2</td><td style=\"text-align: right;\">           2</td><td style=\"text-align: right;\">            0</td><td style=\"text-align: right;\">            1</td><td style=\"text-align: right;\">                  13</td><td style=\"text-align: right;\">        136887</td><td style=\"text-align: right;\">       86</td><td style=\"text-align: right;\">            4</td><td style=\"text-align: right;\">            6</td><td style=\"text-align: right;\">        1984</td><td style=\"text-align: right;\">        49</td><td style=\"text-align: right;\">             31400</td><td style=\"text-align: right;\">       2</td><td style=\"text-align: right;\">            2</td><td style=\"text-align: right;\">             0</td><td style=\"text-align: right;\">                     7</td><td style=\"text-align: right;\">         5926</td><td style=\"text-align: right;\">            1188</td><td style=\"text-align: right;\">     79.5</td><td style=\"text-align: right;\">                         0</td><td style=\"text-align: right;\">            0</td><td style=\"text-align: right;\">                 147</td><td style=\"text-align: right;\">                   215</td><td style=\"text-align: right;\">                      4</td><td style=\"text-align: right;\">               4</td><td style=\"text-align: right;\">         2</td><td style=\"text-align: right;\">                    13</td><td style=\"text-align: right;\">                       nan</td><td style=\"text-align: right;\">                     13</td><td style=\"text-align: right;\">                              34</td><td style=\"text-align: right;\">                      1</td><td style=\"text-align: right;\">               3</td><td style=\"text-align: right;\">               11</td><td style=\"text-align: right;\">            3</td><td style=\"text-align: right;\">          6</td><td style=\"text-align: right;\">         21</td><td style=\"text-align: right;\">             25</td><td style=\"text-align: right;\">             45</td><td style=\"text-align: right;\">                   12</td><td style=\"text-align: right;\">        27</td><td style=\"text-align: right;\">                 0</td><td style=\"text-align: right;\">             0</td><td style=\"text-align: right;\">                   0</td><td style=\"text-align: right;\">                   4</td><td style=\"text-align: right;\">            97.1</td><td style=\"text-align: right;\">             100  </td><td style=\"text-align: right;\">                     0</td><td style=\"text-align: right;\">          0</td><td style=\"text-align: right;\">           168819</td><td style=\"text-align: right;\">             148154</td><td style=\"text-align: right;\">            5800</td><td style=\"text-align: right;\">                      136996</td><td style=\"text-align: right;\">     12</td><td style=\"text-align: right;\">      36</td><td style=\"text-align: right;\">          4</td><td style=\"text-align: right;\">       320</td><td style=\"text-align: right;\">           8.88889</td><td style=\"text-align: right;\">      33.8206</td><td style=\"text-align: right;\">     1</td><td style=\"text-align: right;\">            2.6108</td><td style=\"text-align: right;\">          11.4997</td><td style=\"text-align: right;\">            1</td><td style=\"text-align: right;\">             3</td></tr>\n",
       "<tr><td style=\"text-align: right;\">   2</td><td style=\"text-align: right;\">6.85368e+07</td><td style=\"text-align: right;\">7.34266e+07</td><td style=\"text-align: right;\">      10000</td><td style=\"text-align: right;\">        10000</td><td style=\"text-align: right;\">            10000</td><td>36 months</td><td style=\"text-align: right;\">    0.1078</td><td style=\"text-align: right;\">       326.35</td><td>B      </td><td>B4         </td><td>Lpn                </td><td>3 years     </td><td>MORTGAGE        </td><td style=\"text-align: right;\">       41600</td><td>Not Verified         </td><td>2015-12-01 00:00:00</td><td>Current      </td><td>n           </td><td>https://lendingclub.com/browse/loanDetail.action?loan_id=68536799</td><td>      </td><td>debt_consolidation</td><td>Debt consolidation     </td><td>472xx     </td><td>IN          </td><td style=\"text-align: right;\">15.78</td><td style=\"text-align: right;\">            0</td><td>2004-10-01 00:00:00</td><td style=\"text-align: right;\">               0</td><td style=\"text-align: right;\">                     nan</td><td style=\"text-align: right;\">                     nan</td><td style=\"text-align: right;\">        18</td><td style=\"text-align: right;\">        0</td><td style=\"text-align: right;\">      12958</td><td style=\"text-align: right;\">       0.525</td><td style=\"text-align: right;\">         33</td><td>w                    </td><td style=\"text-align: right;\">    6753.97</td><td style=\"text-align: right;\">        6753.97</td><td style=\"text-align: right;\">      4227.58</td><td style=\"text-align: right;\">          4227.58</td><td style=\"text-align: right;\">          3246.03</td><td style=\"text-align: right;\">         981.55</td><td style=\"text-align: right;\">                   0</td><td style=\"text-align: right;\">           0</td><td style=\"text-align: right;\">                        0</td><td>2017-02-01 00:00:00</td><td style=\"text-align: right;\">           326.35</td><td>2017-03-01 00:00:00</td><td>2017-02-01 00:00:00 </td><td style=\"text-align: right;\">                           0</td><td style=\"text-align: right;\">                          nan</td><td style=\"text-align: right;\">            1</td><td>INDIVIDUAL        </td><td style=\"text-align: right;\">               nan</td><td style=\"text-align: right;\">        nan</td><td>                           </td><td style=\"text-align: right;\">               0</td><td style=\"text-align: right;\">             0</td><td style=\"text-align: right;\">       168304</td><td style=\"text-align: right;\">            2</td><td style=\"text-align: right;\">           9</td><td style=\"text-align: right;\">            2</td><td style=\"text-align: right;\">            3</td><td style=\"text-align: right;\">                   2</td><td style=\"text-align: right;\">         27723</td><td style=\"text-align: right;\">       94</td><td style=\"text-align: right;\">            0</td><td style=\"text-align: right;\">            2</td><td style=\"text-align: right;\">        4958</td><td style=\"text-align: right;\">        75</td><td style=\"text-align: right;\">             24700</td><td style=\"text-align: right;\">       2</td><td style=\"text-align: right;\">            4</td><td style=\"text-align: right;\">             2</td><td style=\"text-align: right;\">                     5</td><td style=\"text-align: right;\">         9350</td><td style=\"text-align: right;\">            4617</td><td style=\"text-align: right;\">     66.8</td><td style=\"text-align: right;\">                         0</td><td style=\"text-align: right;\">            0</td><td style=\"text-align: right;\">                 134</td><td style=\"text-align: right;\">                   124</td><td style=\"text-align: right;\">                     16</td><td style=\"text-align: right;\">               2</td><td style=\"text-align: right;\">         2</td><td style=\"text-align: right;\">                    16</td><td style=\"text-align: right;\">                       nan</td><td style=\"text-align: right;\">                      7</td><td style=\"text-align: right;\">                             nan</td><td style=\"text-align: right;\">                      0</td><td style=\"text-align: right;\">               2</td><td style=\"text-align: right;\">                5</td><td style=\"text-align: right;\">            3</td><td style=\"text-align: right;\">          4</td><td style=\"text-align: right;\">         16</td><td style=\"text-align: right;\">              8</td><td style=\"text-align: right;\">             15</td><td style=\"text-align: right;\">                    5</td><td style=\"text-align: right;\">        18</td><td style=\"text-align: right;\">                 0</td><td style=\"text-align: right;\">             0</td><td style=\"text-align: right;\">                   0</td><td style=\"text-align: right;\">                   2</td><td style=\"text-align: right;\">           100  </td><td style=\"text-align: right;\">              33.3</td><td style=\"text-align: right;\">                     0</td><td style=\"text-align: right;\">          0</td><td style=\"text-align: right;\">           190694</td><td style=\"text-align: right;\">              40681</td><td style=\"text-align: right;\">           13900</td><td style=\"text-align: right;\">                       29512</td><td style=\"text-align: right;\">     12</td><td style=\"text-align: right;\">      36</td><td style=\"text-align: right;\">          4</td><td style=\"text-align: right;\">       400</td><td style=\"text-align: right;\">          11.1111 </td><td style=\"text-align: right;\">      42.2758</td><td style=\"text-align: right;\">     1</td><td style=\"text-align: right;\">            3.2635</td><td style=\"text-align: right;\">          14.3746</td><td style=\"text-align: right;\">            1</td><td style=\"text-align: right;\">             3</td></tr>\n",
       "<tr><td style=\"text-align: right;\">   3</td><td style=\"text-align: right;\">6.83551e+07</td><td style=\"text-align: right;\">7.32449e+07</td><td style=\"text-align: right;\">      24700</td><td style=\"text-align: right;\">        24700</td><td style=\"text-align: right;\">            24700</td><td>36 months</td><td style=\"text-align: right;\">    0.1199</td><td style=\"text-align: right;\">       820.28</td><td>C      </td><td>C1         </td><td>Engineer           </td><td>10+ years   </td><td>MORTGAGE        </td><td style=\"text-align: right;\">       65000</td><td>Not Verified         </td><td>2015-12-01 00:00:00</td><td>Fully Paid   </td><td>n           </td><td>https://lendingclub.com/browse/loanDetail.action?loan_id=68355089</td><td>      </td><td>small_business    </td><td>Business               </td><td>577xx     </td><td>SD          </td><td style=\"text-align: right;\">16.06</td><td style=\"text-align: right;\">            1</td><td>1999-12-01 00:00:00</td><td style=\"text-align: right;\">               4</td><td style=\"text-align: right;\">                       6</td><td style=\"text-align: right;\">                     nan</td><td style=\"text-align: right;\">        22</td><td style=\"text-align: right;\">        0</td><td style=\"text-align: right;\">      21470</td><td style=\"text-align: right;\">       0.192</td><td style=\"text-align: right;\">         38</td><td>w                    </td><td style=\"text-align: right;\">       0   </td><td style=\"text-align: right;\">           0   </td><td style=\"text-align: right;\">     25679.7 </td><td style=\"text-align: right;\">         25679.7 </td><td style=\"text-align: right;\">         24700   </td><td style=\"text-align: right;\">         979.66</td><td style=\"text-align: right;\">                   0</td><td style=\"text-align: right;\">           0</td><td style=\"text-align: right;\">                        0</td><td>2016-06-01 00:00:00</td><td style=\"text-align: right;\">           926.35</td><td>                   </td><td>2017-01-01 00:00:00 </td><td style=\"text-align: right;\">                           0</td><td style=\"text-align: right;\">                          nan</td><td style=\"text-align: right;\">            1</td><td>INDIVIDUAL        </td><td style=\"text-align: right;\">               nan</td><td style=\"text-align: right;\">        nan</td><td>                           </td><td style=\"text-align: right;\">               0</td><td style=\"text-align: right;\">             0</td><td style=\"text-align: right;\">       204396</td><td style=\"text-align: right;\">            1</td><td style=\"text-align: right;\">           1</td><td style=\"text-align: right;\">            0</td><td style=\"text-align: right;\">            1</td><td style=\"text-align: right;\">                  19</td><td style=\"text-align: right;\">         18005</td><td style=\"text-align: right;\">       73</td><td style=\"text-align: right;\">            2</td><td style=\"text-align: right;\">            3</td><td style=\"text-align: right;\">        6472</td><td style=\"text-align: right;\">        29</td><td style=\"text-align: right;\">            111800</td><td style=\"text-align: right;\">       0</td><td style=\"text-align: right;\">            0</td><td style=\"text-align: right;\">             6</td><td style=\"text-align: right;\">                     4</td><td style=\"text-align: right;\">         9733</td><td style=\"text-align: right;\">           57830</td><td style=\"text-align: right;\">     27.1</td><td style=\"text-align: right;\">                         0</td><td style=\"text-align: right;\">            0</td><td style=\"text-align: right;\">                 113</td><td style=\"text-align: right;\">                   192</td><td style=\"text-align: right;\">                      2</td><td style=\"text-align: right;\">               2</td><td style=\"text-align: right;\">         4</td><td style=\"text-align: right;\">                     2</td><td style=\"text-align: right;\">                       nan</td><td style=\"text-align: right;\">                      0</td><td style=\"text-align: right;\">                               6</td><td style=\"text-align: right;\">                      0</td><td style=\"text-align: right;\">               5</td><td style=\"text-align: right;\">                5</td><td style=\"text-align: right;\">           13</td><td style=\"text-align: right;\">         17</td><td style=\"text-align: right;\">          6</td><td style=\"text-align: right;\">             20</td><td style=\"text-align: right;\">             27</td><td style=\"text-align: right;\">                    5</td><td style=\"text-align: right;\">        22</td><td style=\"text-align: right;\">                 0</td><td style=\"text-align: right;\">             0</td><td style=\"text-align: right;\">                   0</td><td style=\"text-align: right;\">                   2</td><td style=\"text-align: right;\">            97.4</td><td style=\"text-align: right;\">               7.7</td><td style=\"text-align: right;\">                     0</td><td style=\"text-align: right;\">          0</td><td style=\"text-align: right;\">           314017</td><td style=\"text-align: right;\">              39475</td><td style=\"text-align: right;\">           79300</td><td style=\"text-align: right;\">                       24667</td><td style=\"text-align: right;\">     12</td><td style=\"text-align: right;\">      36</td><td style=\"text-align: right;\">          5</td><td style=\"text-align: right;\">      1235</td><td style=\"text-align: right;\">          34.3056 </td><td style=\"text-align: right;\">     256.797 </td><td style=\"text-align: right;\">     1</td><td style=\"text-align: right;\">            8.2028</td><td style=\"text-align: right;\">          42.5084</td><td style=\"text-align: right;\">            0</td><td style=\"text-align: right;\">             4</td></tr>\n",
       "<tr><td style=\"text-align: right;\">   4</td><td style=\"text-align: right;\">6.85069e+07</td><td style=\"text-align: right;\">7.33967e+07</td><td style=\"text-align: right;\">      10000</td><td style=\"text-align: right;\">        10000</td><td style=\"text-align: right;\">            10000</td><td>60 months</td><td style=\"text-align: right;\">    0.1199</td><td style=\"text-align: right;\">       222.4 </td><td>C      </td><td>C1         </td><td>CARDIOVASCULAR TECH</td><td>10+ years   </td><td>RENT            </td><td style=\"text-align: right;\">       42500</td><td>Not Verified         </td><td>2015-12-01 00:00:00</td><td>Current      </td><td>n           </td><td>https://lendingclub.com/browse/loanDetail.action?loan_id=68506885</td><td>      </td><td>debt_consolidation</td><td>Debt consolidation     </td><td>460xx     </td><td>IN          </td><td style=\"text-align: right;\">31.04</td><td style=\"text-align: right;\">            0</td><td>1998-12-01 00:00:00</td><td style=\"text-align: right;\">               1</td><td style=\"text-align: right;\">                     nan</td><td style=\"text-align: right;\">                     nan</td><td style=\"text-align: right;\">        10</td><td style=\"text-align: right;\">        0</td><td style=\"text-align: right;\">       5812</td><td style=\"text-align: right;\">       0.409</td><td style=\"text-align: right;\">         23</td><td>w                    </td><td style=\"text-align: right;\">    8308.67</td><td style=\"text-align: right;\">        8308.67</td><td style=\"text-align: right;\">      2874.55</td><td style=\"text-align: right;\">          2874.55</td><td style=\"text-align: right;\">          1691.33</td><td style=\"text-align: right;\">        1183.22</td><td style=\"text-align: right;\">                   0</td><td style=\"text-align: right;\">           0</td><td style=\"text-align: right;\">                        0</td><td>2017-02-01 00:00:00</td><td style=\"text-align: right;\">           222.4 </td><td>2017-03-01 00:00:00</td><td>2017-02-01 00:00:00 </td><td style=\"text-align: right;\">                           0</td><td style=\"text-align: right;\">                          nan</td><td style=\"text-align: right;\">            1</td><td>INDIVIDUAL        </td><td style=\"text-align: right;\">               nan</td><td style=\"text-align: right;\">        nan</td><td>                           </td><td style=\"text-align: right;\">               0</td><td style=\"text-align: right;\">             0</td><td style=\"text-align: right;\">        41166</td><td style=\"text-align: right;\">            1</td><td style=\"text-align: right;\">           3</td><td style=\"text-align: right;\">            0</td><td style=\"text-align: right;\">            2</td><td style=\"text-align: right;\">                  13</td><td style=\"text-align: right;\">         35354</td><td style=\"text-align: right;\">       76</td><td style=\"text-align: right;\">            1</td><td style=\"text-align: right;\">            1</td><td style=\"text-align: right;\">        3118</td><td style=\"text-align: right;\">        67</td><td style=\"text-align: right;\">             14200</td><td style=\"text-align: right;\">       1</td><td style=\"text-align: right;\">            1</td><td style=\"text-align: right;\">             1</td><td style=\"text-align: right;\">                     3</td><td style=\"text-align: right;\">         4117</td><td style=\"text-align: right;\">            7288</td><td style=\"text-align: right;\">     44.4</td><td style=\"text-align: right;\">                         0</td><td style=\"text-align: right;\">            0</td><td style=\"text-align: right;\">                 129</td><td style=\"text-align: right;\">                   204</td><td style=\"text-align: right;\">                      5</td><td style=\"text-align: right;\">               5</td><td style=\"text-align: right;\">         0</td><td style=\"text-align: right;\">                     5</td><td style=\"text-align: right;\">                       nan</td><td style=\"text-align: right;\">                      5</td><td style=\"text-align: right;\">                             nan</td><td style=\"text-align: right;\">                      0</td><td style=\"text-align: right;\">               4</td><td style=\"text-align: right;\">                4</td><td style=\"text-align: right;\">            6</td><td style=\"text-align: right;\">          9</td><td style=\"text-align: right;\">         12</td><td style=\"text-align: right;\">              7</td><td style=\"text-align: right;\">             11</td><td style=\"text-align: right;\">                    4</td><td style=\"text-align: right;\">        10</td><td style=\"text-align: right;\">                 0</td><td style=\"text-align: right;\">             0</td><td style=\"text-align: right;\">                   0</td><td style=\"text-align: right;\">                   1</td><td style=\"text-align: right;\">           100  </td><td style=\"text-align: right;\">              50  </td><td style=\"text-align: right;\">                     0</td><td style=\"text-align: right;\">          0</td><td style=\"text-align: right;\">            61054</td><td style=\"text-align: right;\">              41166</td><td style=\"text-align: right;\">           13100</td><td style=\"text-align: right;\">                       46854</td><td style=\"text-align: right;\">     12</td><td style=\"text-align: right;\">      60</td><td style=\"text-align: right;\">          5</td><td style=\"text-align: right;\">       500</td><td style=\"text-align: right;\">           8.33333</td><td style=\"text-align: right;\">      28.7455</td><td style=\"text-align: right;\">     1</td><td style=\"text-align: right;\">            2.224 </td><td style=\"text-align: right;\">          10.5573</td><td style=\"text-align: right;\">            1</td><td style=\"text-align: right;\">             3</td></tr>\n",
       "</tbody>\n",
       "</table>"
      ]
     },
     "metadata": {},
     "output_type": "display_data"
    },
    {
     "name": "stdout",
     "output_type": "stream",
     "text": [
      "\n"
     ]
    }
   ],
   "source": [
    "#read data\n",
    "data_loc = 'D:\\\\blend'\n",
    "model_df=h2o.import_file(data_loc +'\\\\'+ 'LoanStats3d_new.csv')\n",
    "print model_df.dim\n",
    "print model_df.head(5)"
   ]
  },
  {
   "cell_type": "code",
   "execution_count": 5,
   "metadata": {
    "collapsed": true
   },
   "outputs": [],
   "source": [
    "#define good as the target factor\n",
    "model_df['good']=model_df['good'].asfactor()\n"
   ]
  },
  {
   "cell_type": "code",
   "execution_count": 6,
   "metadata": {
    "collapsed": false
   },
   "outputs": [],
   "source": [
    "#remove some columns not containing information for prediction (such as member_id),\n",
    "#and some self fullfiling features such as loan_status\n",
    "col_list=model_df.col_names\n",
    "col_ignore=['id',\n",
    "            'member_id',\n",
    "            'term',\n",
    "            'url',\n",
    "            'desc',\n",
    "            'zip_code',\n",
    "            'initial_list_status',\n",
    "            'C1',\n",
    "            'loan_status',\n",
    "            'lmth_service_fee',\n",
    "            'Current_ind', \n",
    "            'recoveries',  \n",
    "            'collection_recovery_fee',\n",
    "            'last_pymnt_d'\n",
    "\n",
    "            ]\n",
    "features = [i for i in col_list if i not in col_ignore]\n",
    "\n",
    "for i in features:\n",
    "    if '_ind' in i:\n",
    "        model_df[i]=model_df[i].asfactor()\n",
    "    \n"
   ]
  },
  {
   "cell_type": "code",
   "execution_count": 7,
   "metadata": {
    "collapsed": false
   },
   "outputs": [
    {
     "name": "stdout",
     "output_type": "stream",
     "text": [
      "Rows:421095\n",
      "Cols:109\n",
      "\n",
      "\n"
     ]
    },
    {
     "data": {
      "text/html": [
       "<table>\n",
       "<thead>\n",
       "<tr><th>       </th><th>loan_amnt    </th><th>funded_amnt  </th><th>funded_amnt_inv  </th><th>int_rate      </th><th>installment  </th><th>grade  </th><th>sub_grade  </th><th>emp_title          </th><th>emp_length  </th><th>home_ownership  </th><th>annual_inc   </th><th>verification_status  </th><th>issue_d            </th><th>pymnt_plan  </th><th>purpose           </th><th>title                  </th><th>addr_state  </th><th>dti          </th><th>delinq_2yrs   </th><th>earliest_cr_line   </th><th>inq_last_6mths  </th><th>mths_since_last_delinq  </th><th>mths_since_last_record  </th><th>open_acc     </th><th>pub_rec       </th><th>revol_bal    </th><th>revol_util    </th><th>total_acc    </th><th>out_prncp    </th><th>out_prncp_inv  </th><th>total_pymnt  </th><th>total_pymnt_inv  </th><th>total_rec_prncp  </th><th>total_rec_int  </th><th>total_rec_late_fee  </th><th>last_pymnt_amnt  </th><th>next_pymnt_d       </th><th>last_credit_pull_d  </th><th>collections_12_mths_ex_med  </th><th>mths_since_last_major_derog  </th><th>policy_code  </th><th>application_type  </th><th>annual_inc_joint  </th><th>dti_joint    </th><th>verification_status_joint  </th><th>acc_now_delinq  </th><th>tot_coll_amt  </th><th>tot_cur_bal  </th><th>open_acc_6m  </th><th>open_il_6m   </th><th>open_il_12m   </th><th>open_il_24m  </th><th>mths_since_rcnt_il  </th><th>total_bal_il  </th><th>il_util      </th><th>open_rv_12m  </th><th>open_rv_24m  </th><th>max_bal_bc   </th><th>all_util     </th><th>total_rev_hi_lim  </th><th>inq_fi        </th><th>total_cu_tl  </th><th>inq_last_12m  </th><th>acc_open_past_24mths  </th><th>avg_cur_bal  </th><th>bc_open_to_buy  </th><th>bc_util      </th><th>chargeoff_within_12_mths  </th><th>delinq_amnt  </th><th>mo_sin_old_il_acct  </th><th>mo_sin_old_rev_tl_op  </th><th>mo_sin_rcnt_rev_tl_op  </th><th>mo_sin_rcnt_tl  </th><th>mort_acc     </th><th>mths_since_recent_bc  </th><th>mths_since_recent_bc_dlq  </th><th>mths_since_recent_inq  </th><th>mths_since_recent_revol_delinq  </th><th>num_accts_ever_120_pd  </th><th>num_actv_bc_tl  </th><th>num_actv_rev_tl  </th><th>num_bc_sats  </th><th>num_bc_tl    </th><th>num_il_tl    </th><th>num_op_rev_tl  </th><th>num_rev_accts  </th><th>num_rev_tl_bal_gt_0  </th><th>num_sats     </th><th>num_tl_120dpd_2m  </th><th>num_tl_30dpd    </th><th>num_tl_90g_dpd_24m  </th><th>num_tl_op_past_12m  </th><th>pct_tl_nvr_dlq  </th><th>percent_bc_gt_75  </th><th>pub_rec_bankruptcies  </th><th>tax_liens      </th><th>tot_hi_cred_lim  </th><th>total_bal_ex_mort  </th><th>total_bc_limit  </th><th>total_il_high_credit_limit  </th><th>month        </th><th>term_n       </th><th>orig_rate    </th><th>orig_fee     </th><th>orig_fee_per_mth  </th><th>service_fee  </th><th>good  </th><th>tot_fee_per_mth  </th><th>income_level  </th></tr>\n",
       "</thead>\n",
       "<tbody>\n",
       "<tr><td>type   </td><td>int          </td><td>int          </td><td>real             </td><td>real          </td><td>real         </td><td>enum   </td><td>enum       </td><td>enum               </td><td>enum        </td><td>enum            </td><td>real         </td><td>enum                 </td><td>time               </td><td>enum        </td><td>enum              </td><td>enum                   </td><td>enum        </td><td>real         </td><td>int           </td><td>time               </td><td>int             </td><td>int                     </td><td>int                     </td><td>int          </td><td>int           </td><td>int          </td><td>real          </td><td>int          </td><td>real         </td><td>real           </td><td>real         </td><td>real             </td><td>real             </td><td>real           </td><td>real                </td><td>real             </td><td>time               </td><td>time                </td><td>int                         </td><td>int                          </td><td>int          </td><td>enum              </td><td>real              </td><td>real         </td><td>enum                       </td><td>int             </td><td>int           </td><td>int          </td><td>int          </td><td>int          </td><td>int           </td><td>int          </td><td>int                 </td><td>int           </td><td>int          </td><td>int          </td><td>int          </td><td>int          </td><td>int          </td><td>int               </td><td>int           </td><td>int          </td><td>int           </td><td>int                   </td><td>int          </td><td>int             </td><td>real         </td><td>int                       </td><td>int          </td><td>int                 </td><td>int                   </td><td>int                    </td><td>int             </td><td>int          </td><td>int                   </td><td>int                       </td><td>int                    </td><td>int                             </td><td>int                    </td><td>int             </td><td>int              </td><td>int          </td><td>int          </td><td>int          </td><td>int            </td><td>int            </td><td>int                  </td><td>int          </td><td>int               </td><td>int             </td><td>int                 </td><td>int                 </td><td>real            </td><td>real              </td><td>int                   </td><td>int            </td><td>int              </td><td>int                </td><td>int             </td><td>int                         </td><td>int          </td><td>int          </td><td>real         </td><td>real         </td><td>real              </td><td>real         </td><td>enum  </td><td>real             </td><td>int           </td></tr>\n",
       "<tr><td>mins   </td><td>1000.0       </td><td>1000.0       </td><td>900.0            </td><td>0.0532        </td><td>14.01        </td><td>       </td><td>           </td><td>                   </td><td>            </td><td>                </td><td>0.0          </td><td>                     </td><td>1.4200704e+12      </td><td>            </td><td>                  </td><td>                       </td><td>            </td><td>0.0          </td><td>0.0           </td><td>-8.205408e+11      </td><td>0.0             </td><td>0.0                     </td><td>0.0                     </td><td>1.0          </td><td>0.0           </td><td>0.0          </td><td>0.0           </td><td>4.0          </td><td>0.0          </td><td>0.0            </td><td>0.0          </td><td>0.0              </td><td>0.0              </td><td>0.0            </td><td>0.0                 </td><td>0.0              </td><td>1.4859072e+12      </td><td>1.417392e+12        </td><td>0.0                         </td><td>0.0                          </td><td>1.0          </td><td>                  </td><td>17950.0           </td><td>3.0          </td><td>                           </td><td>0.0             </td><td>0.0           </td><td>0.0          </td><td>0.0          </td><td>0.0          </td><td>0.0           </td><td>0.0          </td><td>0.0                 </td><td>0.0           </td><td>0.0          </td><td>0.0          </td><td>0.0          </td><td>0.0          </td><td>0.0          </td><td>0.0               </td><td>0.0           </td><td>0.0          </td><td>0.0           </td><td>0.0                   </td><td>0.0          </td><td>0.0             </td><td>0.0          </td><td>0.0                       </td><td>0.0          </td><td>0.0                 </td><td>3.0                   </td><td>0.0                    </td><td>0.0             </td><td>0.0          </td><td>0.0                   </td><td>0.0                       </td><td>0.0                    </td><td>0.0                             </td><td>0.0                    </td><td>0.0             </td><td>0.0              </td><td>0.0          </td><td>0.0          </td><td>0.0          </td><td>0.0            </td><td>2.0            </td><td>0.0                  </td><td>0.0          </td><td>0.0               </td><td>0.0             </td><td>0.0                 </td><td>0.0                 </td><td>0.0             </td><td>0.0               </td><td>0.0                   </td><td>0.0            </td><td>2500.0           </td><td>0.0                </td><td>0.0             </td><td>0.0                         </td><td>1.0          </td><td>36.0         </td><td>1.11         </td><td>11.1         </td><td>0.308333333333    </td><td>0.0          </td><td>      </td><td>0.431666666667   </td><td>1.0           </td></tr>\n",
       "<tr><td>mean   </td><td>15240.2858619</td><td>15240.2858619</td><td>15234.1564115    </td><td>0.126003735262</td><td>441.859660148</td><td>       </td><td>           </td><td>                   </td><td>            </td><td>                </td><td>76965.6086626</td><td>                     </td><td>1.43565117784e+12  </td><td>            </td><td>                  </td><td>                       </td><td>            </td><td>19.1959890761</td><td>0.34739666821 </td><td>9.05666271814e+11  </td><td>0.572690248044  </td><td>34.0233911934           </td><td>66.592609017            </td><td>11.9486434178</td><td>0.233776226267</td><td>17685.4764816</td><td>0.538397205731</td><td>25.4934682198</td><td>6731.85224785</td><td>6728.95744431  </td><td>9724.27295245</td><td>9720.60096696    </td><td>7468.87766608    </td><td>2193.4124438   </td><td>0.573743407111      </td><td>2771.67150305    </td><td>1.48832565026e+12  </td><td>1.48314795718e+12   </td><td>0.0202400883411             </td><td>45.1147406074                </td><td>1.0          </td><td>                  </td><td>109981.011585     </td><td>18.3101178782</td><td>                           </td><td>0.00608651254468</td><td>257.478241252 </td><td>140075.545245</td><td>1.10902114917</td><td>2.92883211679</td><td>0.761650758001</td><td>1.67457420925</td><td>20.9126862086       </td><td>36552.8113887 </td><td>71.5804909491</td><td>1.38906045293</td><td>2.97548193899</td><td>5887.97973985</td><td>60.8819951338</td><td>33657.7075862     </td><td>0.943945349055</td><td>1.53705783268</td><td>2.23409133446 </td><td>4.66499958442         </td><td>13104.7847208</td><td>9636.06399173   </td><td>62.2281362446</td><td>0.0104204514421           </td><td>13.7651836284</td><td>127.56741863        </td><td>186.586696589         </td><td>13.4512473432          </td><td>8.01320367138   </td><td>1.68526104561</td><td>24.8565338356         </td><td>39.8381767956             </td><td>6.75116335897          </td><td>35.7971424241                   </td><td>0.527054465144         </td><td>3.74096581531   </td><td>5.86083187879    </td><td>4.79987888719</td><td>8.13713770052</td><td>8.64900081929</td><td>8.43178617652  </td><td>14.8836008112  </td><td>5.80923782044        </td><td>11.8945368622</td><td>0.000761449740585 </td><td>0.00404184328952</td><td>0.0943183842126     </td><td>2.17094717344       </td><td>93.924313041    </td><td>47.5271096014     </td><td>0.13318847291         </td><td>0.0645555041024</td><td>173407.01024     </td><td>52221.9894798      </td><td>21958.2089576   </td><td>43478.6456833               </td><td>6.95538298959</td><td>43.8607630107</td><td>4.32495524763</td><td>667.836662784</td><td>14.901564863      </td><td>97.2427295245</td><td>      </td><td>18.7845007031    </td><td>3.87425165343 </td></tr>\n",
       "<tr><td>maxs   </td><td>35000.0      </td><td>35000.0      </td><td>35000.0          </td><td>0.2899        </td><td>1445.46      </td><td>       </td><td>           </td><td>                   </td><td>            </td><td>                </td><td>9500000.0    </td><td>                     </td><td>1.448928e+12       </td><td>            </td><td>                  </td><td>                       </td><td>            </td><td>9999.0       </td><td>39.0          </td><td>1.351728e+12       </td><td>6.0             </td><td>176.0                   </td><td>120.0                   </td><td>90.0         </td><td>86.0          </td><td>2904836.0    </td><td>1.93          </td><td>169.0        </td><td>40884.74     </td><td>40884.74       </td><td>50312.2078   </td><td>50312.21         </td><td>35000.0          </td><td>16715.94       </td><td>324.75              </td><td>36475.59         </td><td>1.4910048e+12      </td><td>1.4859072e+12       </td><td>14.0                        </td><td>176.0                        </td><td>1.0          </td><td>                  </td><td>500000.0          </td><td>43.86        </td><td>                           </td><td>14.0            </td><td>496651.0      </td><td>4447397.0    </td><td>14.0         </td><td>40.0         </td><td>12.0          </td><td>19.0         </td><td>363.0               </td><td>878459.0      </td><td>223.0        </td><td>22.0         </td><td>43.0         </td><td>127305.0     </td><td>151.0        </td><td>9999999.0         </td><td>17.0          </td><td>35.0         </td><td>32.0          </td><td>64.0                  </td><td>555925.0     </td><td>559912.0        </td><td>318.2        </td><td>10.0                      </td><td>159177.0     </td><td>724.0               </td><td>851.0                 </td><td>324.0                  </td><td>263.0           </td><td>52.0         </td><td>615.0                 </td><td>195.0                     </td><td>25.0                   </td><td>176.0                           </td><td>39.0                   </td><td>32.0            </td><td>52.0             </td><td>63.0         </td><td>70.0         </td><td>132.0        </td><td>83.0           </td><td>118.0          </td><td>45.0                 </td><td>90.0         </td><td>6.0               </td><td>4.0             </td><td>39.0                </td><td>30.0                </td><td>100.0           </td><td>100.0             </td><td>11.0                  </td><td>85.0           </td><td>9999999.0        </td><td>2921551.0          </td><td>834300.0        </td><td>2101913.0                   </td><td>12.0         </td><td>60.0         </td><td>5.0          </td><td>1750.0       </td><td>48.6111111111     </td><td>503.122078   </td><td>      </td><td>63.0657111111    </td><td>6.0           </td></tr>\n",
       "<tr><td>sigma  </td><td>8571.32590135</td><td>8571.32590135</td><td>8567.93575217    </td><td>0.043184740012</td><td>244.850837506</td><td>       </td><td>           </td><td>                   </td><td>            </td><td>                </td><td>73949.9614686</td><td>                     </td><td>9091557014.89      </td><td>            </td><td>                  </td><td>                       </td><td>            </td><td>23.5040377603</td><td>0.927695386565</td><td>2.40176754105e+11  </td><td>0.86777619042   </td><td>21.9902702295           </td><td>25.5778992329           </td><td>5.63311901296</td><td>0.64977780394 </td><td>24195.0291859</td><td>0.238865248582</td><td>12.097199536 </td><td>6975.864148  </td><td>6972.54106156  </td><td>7161.59091162</td><td>7159.16237692    </td><td>6523.44152973    </td><td>1900.83672936  </td><td>5.31704289875       </td><td>5741.80751394    </td><td>48712870.4105      </td><td>8112589666.49       </td><td>0.15750550853               </td><td>22.5378080506                </td><td>0.0          </td><td>                  </td><td>52730.3798472     </td><td>7.16923342207</td><td>                           </td><td>0.0864817368966 </td><td>2240.64816219 </td><td>155269.603965</td><td>1.24267505621</td><td>3.08998719302</td><td>0.996034647964</td><td>1.68872519547</td><td>27.2090812611       </td><td>43103.8336192 </td><td>23.0219641047</td><td>1.52012934979</td><td>2.63188598761</td><td>5284.70123912</td><td>20.0138415344</td><td>37664.0423412     </td><td>1.44687152365 </td><td>2.72333916554</td><td>2.48024189966 </td><td>3.19537957481         </td><td>15671.8038973</td><td>14774.166134    </td><td>27.5763781499</td><td>0.11701947647             </td><td>781.821106702</td><td>52.075470968        </td><td>95.3749310643         </td><td>17.156985298           </td><td>9.1893117847    </td><td>1.99016033402</td><td>32.2727927061         </td><td>23.0038853508             </td><td>5.91400623676          </td><td>22.6285157152                   </td><td>1.33279710095          </td><td>2.30454154709   </td><td>3.43976436958    </td><td>3.03618371503</td><td>4.82269828198</td><td>7.4710411899 </td><td>4.66438093332  </td><td>8.28937896267  </td><td>3.34669774796        </td><td>5.61511884363</td><td>0.0301691244563   </td><td>0.0679647557325 </td><td>0.522758235573      </td><td>1.85385795944       </td><td>8.87539914942   </td><td>36.0544579725     </td><td>0.385974783808        </td><td>0.444230828273 </td><td>175672.215831    </td><td>49074.9395177      </td><td>21840.3711122   </td><td>43942.7138013               </td><td>3.45816655304</td><td>11.263526021 </td><td>1.02575934124</td><td>432.125956576</td><td>9.01543558465     </td><td>71.6159091162</td><td>      </td><td>11.0667166456    </td><td>1.39304768404 </td></tr>\n",
       "<tr><td>zeros  </td><td>0            </td><td>0            </td><td>0                </td><td>0             </td><td>0            </td><td>       </td><td>           </td><td>                   </td><td>            </td><td>                </td><td>2            </td><td>                     </td><td>0                  </td><td>            </td><td>                  </td><td>                       </td><td>            </td><td>88           </td><td>334008        </td><td>33                 </td><td>256408          </td><td>500                     </td><td>5                       </td><td>0            </td><td>346680        </td><td>1133         </td><td>1256          </td><td>0            </td><td>128440       </td><td>128440         </td><td>110          </td><td>110              </td><td>316              </td><td>309            </td><td>413376              </td><td>294              </td><td>0                  </td><td>0                   </td><td>413328                      </td><td>74                           </td><td>0            </td><td>                  </td><td>0                 </td><td>0            </td><td>                           </td><td>418713          </td><td>354688        </td><td>48           </td><td>8246         </td><td>2314         </td><td>10806         </td><td>5481         </td><td>13                  </td><td>2259          </td><td>139          </td><td>7073         </td><td>2868         </td><td>408          </td><td>22           </td><td>132               </td><td>11411         </td><td>11478        </td><td>5355          </td><td>18259                 </td><td>49           </td><td>8526            </td><td>4116         </td><td>417155                    </td><td>419297       </td><td>5                   </td><td>0                     </td><td>6457                   </td><td>6713            </td><td>168484       </td><td>2244                  </td><td>212                       </td><td>34383                  </td><td>363                             </td><td>318102                 </td><td>7772            </td><td>1157             </td><td>3891         </td><td>858          </td><td>12273        </td><td>99             </td><td>0              </td><td>1130                 </td><td>1            </td><td>401577            </td><td>419498          </td><td>395743              </td><td>72346               </td><td>1               </td><td>90606             </td><td>370179                </td><td>404523         </td><td>0                </td><td>93                 </td><td>4239            </td><td>48787                       </td><td>0            </td><td>0            </td><td>0            </td><td>0            </td><td>0                 </td><td>110          </td><td>      </td><td>0                </td><td>0             </td></tr>\n",
       "<tr><td>missing</td><td>0            </td><td>0            </td><td>0                </td><td>0             </td><td>0            </td><td>0      </td><td>0          </td><td>23874              </td><td>0           </td><td>0               </td><td>0            </td><td>0                    </td><td>0                  </td><td>0           </td><td>0                 </td><td>132                    </td><td>0           </td><td>0            </td><td>0             </td><td>0                  </td><td>0               </td><td>203962                  </td><td>346680                  </td><td>0            </td><td>0             </td><td>0            </td><td>162           </td><td>0            </td><td>0            </td><td>0              </td><td>0            </td><td>0                </td><td>0                </td><td>0              </td><td>0                   </td><td>0                </td><td>128384             </td><td>8                   </td><td>0                           </td><td>298366                       </td><td>0            </td><td>0                 </td><td>420584            </td><td>420586       </td><td>420584                     </td><td>0               </td><td>0             </td><td>0            </td><td>399723       </td><td>399723       </td><td>399723        </td><td>399723       </td><td>400285              </td><td>399723        </td><td>402478       </td><td>399723       </td><td>399723       </td><td>399723       </td><td>399723       </td><td>0                 </td><td>399723        </td><td>399723       </td><td>399723        </td><td>0                     </td><td>0            </td><td>3963            </td><td>4227         </td><td>0                         </td><td>0            </td><td>12254               </td><td>0                     </td><td>0                      </td><td>0               </td><td>0            </td><td>3798                  </td><td>312495                    </td><td>44599                  </td><td>269358                          </td><td>0                      </td><td>0               </td><td>0                </td><td>0            </td><td>0            </td><td>0            </td><td>0              </td><td>1              </td><td>0                    </td><td>0            </td><td>19230             </td><td>0               </td><td>0                   </td><td>0                   </td><td>0               </td><td>4239              </td><td>0                     </td><td>0              </td><td>0                </td><td>0                  </td><td>0               </td><td>0                           </td><td>0            </td><td>0            </td><td>0            </td><td>0            </td><td>0                 </td><td>0            </td><td>0     </td><td>0                </td><td>0             </td></tr>\n",
       "<tr><td>0      </td><td>16000.0      </td><td>16000.0      </td><td>16000.0          </td><td>0.0849        </td><td>328.19       </td><td>B      </td><td>B1         </td><td>Supervisor         </td><td>5 years     </td><td>MORTGAGE        </td><td>62000.0      </td><td>Source Verified      </td><td>2015-12-01 00:00:00</td><td>n           </td><td>credit_card       </td><td>Credit card refinancing</td><td>CA          </td><td>28.92        </td><td>0.0           </td><td>2002-03-01 00:00:00</td><td>0.0             </td><td>39.0                    </td><td>nan                     </td><td>10.0         </td><td>0.0           </td><td>15763.0      </td><td>0.512         </td><td>24.0         </td><td>13083.35     </td><td>13083.35       </td><td>4247.6       </td><td>4247.6           </td><td>2916.65          </td><td>1330.95        </td><td>0.0                 </td><td>328.19           </td><td>2017-03-01 00:00:00</td><td>2017-02-01 00:00:00 </td><td>0.0                         </td><td>61.0                         </td><td>1.0          </td><td>INDIVIDUAL        </td><td>nan               </td><td>nan          </td><td>                           </td><td>0.0             </td><td>0.0           </td><td>227708.0     </td><td>3.0          </td><td>3.0          </td><td>1.0           </td><td>2.0          </td><td>3.0                 </td><td>48608.0       </td><td>82.0         </td><td>2.0          </td><td>4.0          </td><td>4727.0       </td><td>71.0         </td><td>30800.0           </td><td>1.0           </td><td>1.0          </td><td>0.0           </td><td>6.0                   </td><td>22771.0      </td><td>8703.0          </td><td>63.0         </td><td>0.0                       </td><td>0.0          </td><td>165.0               </td><td>159.0                 </td><td>3.0                    </td><td>3.0             </td><td>3.0          </td><td>3.0                   </td><td>nan                       </td><td>17.0                   </td><td>39.0                            </td><td>1.0                    </td><td>4.0             </td><td>5.0              </td><td>4.0          </td><td>7.0          </td><td>9.0          </td><td>6.0            </td><td>12.0           </td><td>6.0                  </td><td>10.0         </td><td>0.0               </td><td>0.0             </td><td>0.0                 </td><td>3.0                 </td><td>87.5            </td><td>50.0              </td><td>0.0                   </td><td>0.0            </td><td>307343.0         </td><td>64371.0            </td><td>23500.0         </td><td>59526.0                     </td><td>12.0         </td><td>60.0         </td><td>5.0          </td><td>800.0        </td><td>13.3333333333     </td><td>42.476       </td><td>1     </td><td>16.6152333333    </td><td>4.0           </td></tr>\n",
       "<tr><td>1      </td><td>8000.0       </td><td>8000.0       </td><td>8000.0           </td><td>0.1078        </td><td>261.08       </td><td>B      </td><td>B4         </td><td>Counselor          </td><td>< 1 year    </td><td>MORTGAGE        </td><td>45000.0      </td><td>Not Verified         </td><td>2015-12-01 00:00:00</td><td>n           </td><td>debt_consolidation</td><td>Debt consolidation     </td><td>MI          </td><td>21.23        </td><td>0.0           </td><td>1998-01-01 00:00:00</td><td>0.0             </td><td>34.0                    </td><td>nan                     </td><td>28.0         </td><td>0.0           </td><td>11141.0      </td><td>0.355         </td><td>69.0         </td><td>5403.18      </td><td>5403.18        </td><td>3382.06      </td><td>3382.06          </td><td>2596.82          </td><td>785.24         </td><td>0.0                 </td><td>261.08           </td><td>2017-03-01 00:00:00</td><td>2017-02-01 00:00:00 </td><td>0.0                         </td><td>61.0                         </td><td>1.0          </td><td>INDIVIDUAL        </td><td>nan               </td><td>nan          </td><td>                           </td><td>0.0             </td><td>0.0           </td><td>148154.0     </td><td>2.0          </td><td>2.0          </td><td>0.0           </td><td>1.0          </td><td>13.0                </td><td>136887.0      </td><td>86.0         </td><td>4.0          </td><td>6.0          </td><td>1984.0       </td><td>49.0         </td><td>31400.0           </td><td>2.0           </td><td>2.0          </td><td>0.0           </td><td>7.0                   </td><td>5926.0       </td><td>1188.0          </td><td>79.5         </td><td>0.0                       </td><td>0.0          </td><td>147.0               </td><td>215.0                 </td><td>4.0                    </td><td>4.0             </td><td>2.0          </td><td>13.0                  </td><td>nan                       </td><td>13.0                   </td><td>34.0                            </td><td>1.0                    </td><td>3.0             </td><td>11.0             </td><td>3.0          </td><td>6.0          </td><td>21.0         </td><td>25.0           </td><td>45.0           </td><td>12.0                 </td><td>27.0         </td><td>0.0               </td><td>0.0             </td><td>0.0                 </td><td>4.0                 </td><td>97.1            </td><td>100.0             </td><td>0.0                   </td><td>0.0            </td><td>168819.0         </td><td>148154.0           </td><td>5800.0          </td><td>136996.0                    </td><td>12.0         </td><td>36.0         </td><td>4.0          </td><td>320.0        </td><td>8.88888888889     </td><td>33.8206      </td><td>1     </td><td>11.4996888889    </td><td>3.0           </td></tr>\n",
       "<tr><td>2      </td><td>10000.0      </td><td>10000.0      </td><td>10000.0          </td><td>0.1078        </td><td>326.35       </td><td>B      </td><td>B4         </td><td>Lpn                </td><td>3 years     </td><td>MORTGAGE        </td><td>41600.0      </td><td>Not Verified         </td><td>2015-12-01 00:00:00</td><td>n           </td><td>debt_consolidation</td><td>Debt consolidation     </td><td>IN          </td><td>15.78        </td><td>0.0           </td><td>2004-10-01 00:00:00</td><td>0.0             </td><td>nan                     </td><td>nan                     </td><td>18.0         </td><td>0.0           </td><td>12958.0      </td><td>0.525         </td><td>33.0         </td><td>6753.97      </td><td>6753.97        </td><td>4227.58      </td><td>4227.58          </td><td>3246.03          </td><td>981.55         </td><td>0.0                 </td><td>326.35           </td><td>2017-03-01 00:00:00</td><td>2017-02-01 00:00:00 </td><td>0.0                         </td><td>nan                          </td><td>1.0          </td><td>INDIVIDUAL        </td><td>nan               </td><td>nan          </td><td>                           </td><td>0.0             </td><td>0.0           </td><td>168304.0     </td><td>2.0          </td><td>9.0          </td><td>2.0           </td><td>3.0          </td><td>2.0                 </td><td>27723.0       </td><td>94.0         </td><td>0.0          </td><td>2.0          </td><td>4958.0       </td><td>75.0         </td><td>24700.0           </td><td>2.0           </td><td>4.0          </td><td>2.0           </td><td>5.0                   </td><td>9350.0       </td><td>4617.0          </td><td>66.8         </td><td>0.0                       </td><td>0.0          </td><td>134.0               </td><td>124.0                 </td><td>16.0                   </td><td>2.0             </td><td>2.0          </td><td>16.0                  </td><td>nan                       </td><td>7.0                    </td><td>nan                             </td><td>0.0                    </td><td>2.0             </td><td>5.0              </td><td>3.0          </td><td>4.0          </td><td>16.0         </td><td>8.0            </td><td>15.0           </td><td>5.0                  </td><td>18.0         </td><td>0.0               </td><td>0.0             </td><td>0.0                 </td><td>2.0                 </td><td>100.0           </td><td>33.3              </td><td>0.0                   </td><td>0.0            </td><td>190694.0         </td><td>40681.0            </td><td>13900.0         </td><td>29512.0                     </td><td>12.0         </td><td>36.0         </td><td>4.0          </td><td>400.0        </td><td>11.1111111111     </td><td>42.2758      </td><td>1     </td><td>14.3746111111    </td><td>3.0           </td></tr>\n",
       "<tr><td>3      </td><td>24700.0      </td><td>24700.0      </td><td>24700.0          </td><td>0.1199        </td><td>820.28       </td><td>C      </td><td>C1         </td><td>Engineer           </td><td>10+ years   </td><td>MORTGAGE        </td><td>65000.0      </td><td>Not Verified         </td><td>2015-12-01 00:00:00</td><td>n           </td><td>small_business    </td><td>Business               </td><td>SD          </td><td>16.06        </td><td>1.0           </td><td>1999-12-01 00:00:00</td><td>4.0             </td><td>6.0                     </td><td>nan                     </td><td>22.0         </td><td>0.0           </td><td>21470.0      </td><td>0.192         </td><td>38.0         </td><td>0.0          </td><td>0.0            </td><td>25679.66     </td><td>25679.66         </td><td>24700.0          </td><td>979.66         </td><td>0.0                 </td><td>926.35           </td><td>                   </td><td>2017-01-01 00:00:00 </td><td>0.0                         </td><td>nan                          </td><td>1.0          </td><td>INDIVIDUAL        </td><td>nan               </td><td>nan          </td><td>                           </td><td>0.0             </td><td>0.0           </td><td>204396.0     </td><td>1.0          </td><td>1.0          </td><td>0.0           </td><td>1.0          </td><td>19.0                </td><td>18005.0       </td><td>73.0         </td><td>2.0          </td><td>3.0          </td><td>6472.0       </td><td>29.0         </td><td>111800.0          </td><td>0.0           </td><td>0.0          </td><td>6.0           </td><td>4.0                   </td><td>9733.0       </td><td>57830.0         </td><td>27.1         </td><td>0.0                       </td><td>0.0          </td><td>113.0               </td><td>192.0                 </td><td>2.0                    </td><td>2.0             </td><td>4.0          </td><td>2.0                   </td><td>nan                       </td><td>0.0                    </td><td>6.0                             </td><td>0.0                    </td><td>5.0             </td><td>5.0              </td><td>13.0         </td><td>17.0         </td><td>6.0          </td><td>20.0           </td><td>27.0           </td><td>5.0                  </td><td>22.0         </td><td>0.0               </td><td>0.0             </td><td>0.0                 </td><td>2.0                 </td><td>97.4            </td><td>7.7               </td><td>0.0                   </td><td>0.0            </td><td>314017.0         </td><td>39475.0            </td><td>79300.0         </td><td>24667.0                     </td><td>12.0         </td><td>36.0         </td><td>5.0          </td><td>1235.0       </td><td>34.3055555556     </td><td>256.7966     </td><td>1     </td><td>42.5083555556    </td><td>4.0           </td></tr>\n",
       "<tr><td>4      </td><td>10000.0      </td><td>10000.0      </td><td>10000.0          </td><td>0.1199        </td><td>222.4        </td><td>C      </td><td>C1         </td><td>CARDIOVASCULAR TECH</td><td>10+ years   </td><td>RENT            </td><td>42500.0      </td><td>Not Verified         </td><td>2015-12-01 00:00:00</td><td>n           </td><td>debt_consolidation</td><td>Debt consolidation     </td><td>IN          </td><td>31.04        </td><td>0.0           </td><td>1998-12-01 00:00:00</td><td>1.0             </td><td>nan                     </td><td>nan                     </td><td>10.0         </td><td>0.0           </td><td>5812.0       </td><td>0.409         </td><td>23.0         </td><td>8308.67      </td><td>8308.67        </td><td>2874.55      </td><td>2874.55          </td><td>1691.33          </td><td>1183.22        </td><td>0.0                 </td><td>222.4            </td><td>2017-03-01 00:00:00</td><td>2017-02-01 00:00:00 </td><td>0.0                         </td><td>nan                          </td><td>1.0          </td><td>INDIVIDUAL        </td><td>nan               </td><td>nan          </td><td>                           </td><td>0.0             </td><td>0.0           </td><td>41166.0      </td><td>1.0          </td><td>3.0          </td><td>0.0           </td><td>2.0          </td><td>13.0                </td><td>35354.0       </td><td>76.0         </td><td>1.0          </td><td>1.0          </td><td>3118.0       </td><td>67.0         </td><td>14200.0           </td><td>1.0           </td><td>1.0          </td><td>1.0           </td><td>3.0                   </td><td>4117.0       </td><td>7288.0          </td><td>44.4         </td><td>0.0                       </td><td>0.0          </td><td>129.0               </td><td>204.0                 </td><td>5.0                    </td><td>5.0             </td><td>0.0          </td><td>5.0                   </td><td>nan                       </td><td>5.0                    </td><td>nan                             </td><td>0.0                    </td><td>4.0             </td><td>4.0              </td><td>6.0          </td><td>9.0          </td><td>12.0         </td><td>7.0            </td><td>11.0           </td><td>4.0                  </td><td>10.0         </td><td>0.0               </td><td>0.0             </td><td>0.0                 </td><td>1.0                 </td><td>100.0           </td><td>50.0              </td><td>0.0                   </td><td>0.0            </td><td>61054.0          </td><td>41166.0            </td><td>13100.0         </td><td>46854.0                     </td><td>12.0         </td><td>60.0         </td><td>5.0          </td><td>500.0        </td><td>8.33333333333     </td><td>28.7455      </td><td>1     </td><td>10.5573333333    </td><td>3.0           </td></tr>\n",
       "<tr><td>5      </td><td>6000.0       </td><td>6000.0       </td><td>6000.0           </td><td>0.0791        </td><td>187.77       </td><td>A      </td><td>A5         </td><td>Road driver        </td><td>10+ years   </td><td>MORTGAGE        </td><td>105000.0     </td><td>Not Verified         </td><td>2015-12-01 00:00:00</td><td>n           </td><td>car               </td><td>Car financing          </td><td>OH          </td><td>14.45        </td><td>0.0           </td><td>2006-05-01 00:00:00</td><td>1.0             </td><td>nan                     </td><td>16.0                    </td><td>9.0          </td><td>3.0           </td><td>8353.0       </td><td>0.653         </td><td>11.0         </td><td>3995.06      </td><td>3995.06        </td><td>2434.42      </td><td>2434.42          </td><td>2004.94          </td><td>429.48         </td><td>0.0                 </td><td>187.77           </td><td>2017-03-01 00:00:00</td><td>2017-02-01 00:00:00 </td><td>0.0                         </td><td>nan                          </td><td>1.0          </td><td>INDIVIDUAL        </td><td>nan               </td><td>nan          </td><td>                           </td><td>0.0             </td><td>0.0           </td><td>182893.0     </td><td>0.0          </td><td>3.0          </td><td>0.0           </td><td>1.0          </td><td>19.0                </td><td>32262.0       </td><td>60.0         </td><td>0.0          </td><td>2.0          </td><td>1503.0       </td><td>61.0         </td><td>12800.0           </td><td>3.0           </td><td>0.0          </td><td>1.0           </td><td>3.0                   </td><td>20321.0      </td><td>2953.0          </td><td>51.6         </td><td>0.0                       </td><td>0.0          </td><td>103.0               </td><td>115.0                 </td><td>19.0                   </td><td>19.0            </td><td>1.0          </td><td>83.0                  </td><td>nan                       </td><td>6.0                    </td><td>nan                             </td><td>0.0                    </td><td>3.0             </td><td>5.0              </td><td>3.0          </td><td>3.0          </td><td>5.0          </td><td>5.0            </td><td>5.0            </td><td>5.0                  </td><td>9.0          </td><td>0.0               </td><td>0.0             </td><td>0.0                 </td><td>0.0                 </td><td>100.0           </td><td>0.0               </td><td>0.0                   </td><td>3.0            </td><td>225933.0         </td><td>40615.0            </td><td>6100.0          </td><td>54068.0                     </td><td>12.0         </td><td>36.0         </td><td>3.0          </td><td>180.0        </td><td>5.0               </td><td>24.3442      </td><td>1     </td><td>6.8777           </td><td>6.0           </td></tr>\n",
       "<tr><td>6      </td><td>16800.0      </td><td>16800.0      </td><td>16800.0          </td><td>0.1288        </td><td>381.23       </td><td>C      </td><td>C2         </td><td>CEO                </td><td>10+ years   </td><td>MORTGAGE        </td><td>118000.0     </td><td>Not Verified         </td><td>2015-12-01 00:00:00</td><td>n           </td><td>debt_consolidation</td><td>Debt consolidation     </td><td>MO          </td><td>34.29        </td><td>0.0           </td><td>1997-06-01 00:00:00</td><td>0.0             </td><td>35.0                    </td><td>57.0                    </td><td>11.0         </td><td>1.0           </td><td>7849.0       </td><td>0.241         </td><td>46.0         </td><td>14013.17     </td><td>14013.17       </td><td>4925.94      </td><td>4925.94          </td><td>2786.83          </td><td>2139.11        </td><td>0.0                 </td><td>381.23           </td><td>2017-03-01 00:00:00</td><td>2017-02-01 00:00:00 </td><td>0.0                         </td><td>67.0                         </td><td>1.0          </td><td>INDIVIDUAL        </td><td>nan               </td><td>nan          </td><td>                           </td><td>0.0             </td><td>0.0           </td><td>314793.0     </td><td>0.0          </td><td>4.0          </td><td>0.0           </td><td>4.0          </td><td>13.0                </td><td>67959.0       </td><td>67.0         </td><td>1.0          </td><td>1.0          </td><td>4746.0       </td><td>53.0         </td><td>32600.0           </td><td>2.0           </td><td>8.0          </td><td>1.0           </td><td>6.0                   </td><td>28618.0      </td><td>4751.0          </td><td>62.3         </td><td>0.0                       </td><td>0.0          </td><td>126.0               </td><td>222.0                 </td><td>11.0                   </td><td>11.0            </td><td>4.0          </td><td>11.0                  </td><td>66.0                      </td><td>11.0                   </td><td>66.0                            </td><td>12.0                   </td><td>3.0             </td><td>3.0              </td><td>4.0          </td><td>22.0         </td><td>12.0         </td><td>5.0            </td><td>28.0           </td><td>3.0                  </td><td>11.0         </td><td>0.0               </td><td>0.0             </td><td>0.0                 </td><td>1.0                 </td><td>64.4            </td><td>25.0              </td><td>0.0                   </td><td>0.0            </td><td>412771.0         </td><td>75808.0            </td><td>12600.0         </td><td>115941.0                    </td><td>12.0         </td><td>60.0         </td><td>5.0          </td><td>840.0        </td><td>14.0              </td><td>49.2594      </td><td>1     </td><td>17.8123          </td><td>6.0           </td></tr>\n",
       "<tr><td>7      </td><td>4200.0       </td><td>4200.0       </td><td>4200.0           </td><td>0.1399        </td><td>143.53       </td><td>C      </td><td>C4         </td><td>Patrol Officer     </td><td>2 years     </td><td>RENT            </td><td>32000.0      </td><td>Source Verified      </td><td>2015-12-01 00:00:00</td><td>n           </td><td>other             </td><td>Other                  </td><td>TN          </td><td>31.02        </td><td>0.0           </td><td>2009-11-01 00:00:00</td><td>2.0             </td><td>50.0                    </td><td>nan                     </td><td>10.0         </td><td>0.0           </td><td>1294.0       </td><td>0.117         </td><td>16.0         </td><td>2880.88      </td><td>2880.88        </td><td>1857.73      </td><td>1857.73          </td><td>1319.12          </td><td>538.61         </td><td>0.0                 </td><td>143.53           </td><td>2017-03-01 00:00:00</td><td>2017-02-01 00:00:00 </td><td>0.0                         </td><td>60.0                         </td><td>1.0          </td><td>INDIVIDUAL        </td><td>nan               </td><td>nan          </td><td>                           </td><td>0.0             </td><td>0.0           </td><td>38865.0      </td><td>2.0          </td><td>6.0          </td><td>2.0           </td><td>5.0          </td><td>1.0                 </td><td>37571.0       </td><td>89.0         </td><td>1.0          </td><td>2.0          </td><td>173.0        </td><td>73.0         </td><td>11100.0           </td><td>3.0           </td><td>3.0          </td><td>3.0           </td><td>7.0                   </td><td>3887.0       </td><td>5422.0          </td><td>3.2          </td><td>0.0                       </td><td>0.0          </td><td>73.0                </td><td>72.0                  </td><td>6.0                    </td><td>1.0             </td><td>0.0          </td><td>6.0                   </td><td>nan                       </td><td>0.0                    </td><td>nan                             </td><td>1.0                    </td><td>2.0             </td><td>4.0              </td><td>2.0          </td><td>2.0          </td><td>8.0          </td><td>4.0            </td><td>7.0            </td><td>4.0                  </td><td>10.0         </td><td>0.0               </td><td>0.0             </td><td>0.0                 </td><td>3.0                 </td><td>87.5            </td><td>0.0               </td><td>0.0                   </td><td>0.0            </td><td>53161.0          </td><td>38865.0            </td><td>5600.0          </td><td>42061.0                     </td><td>12.0         </td><td>36.0         </td><td>5.0          </td><td>210.0        </td><td>5.83333333333     </td><td>18.5773      </td><td>1     </td><td>7.26863333333    </td><td>2.0           </td></tr>\n",
       "<tr><td>8      </td><td>17600.0      </td><td>17600.0      </td><td>17600.0          </td><td>0.1989        </td><td>465.22       </td><td>E      </td><td>E3         </td><td>RN                 </td><td>< 1 year    </td><td>RENT            </td><td>44000.0      </td><td>Verified             </td><td>2015-12-01 00:00:00</td><td>n           </td><td>credit_card       </td><td>                       </td><td>FL          </td><td>17.56        </td><td>0.0           </td><td>2006-06-01 00:00:00</td><td>0.0             </td><td>nan                     </td><td>nan                     </td><td>7.0          </td><td>0.0           </td><td>12900.0      </td><td>1.024         </td><td>25.0         </td><td>15105.98     </td><td>15105.98       </td><td>5999.24      </td><td>5999.24          </td><td>2494.02          </td><td>3505.22        </td><td>0.0                 </td><td>465.22           </td><td>2017-03-01 00:00:00</td><td>2017-02-01 00:00:00 </td><td>0.0                         </td><td>nan                          </td><td>1.0          </td><td>INDIVIDUAL        </td><td>nan               </td><td>nan          </td><td>                           </td><td>0.0             </td><td>0.0           </td><td>133285.0     </td><td>0.0          </td><td>4.0          </td><td>0.0           </td><td>1.0          </td><td>13.0                </td><td>120385.0      </td><td>83.0         </td><td>0.0          </td><td>0.0          </td><td>5998.0       </td><td>91.0         </td><td>12600.0           </td><td>0.0           </td><td>1.0          </td><td>0.0           </td><td>1.0                   </td><td>19041.0      </td><td>0.0             </td><td>102.4        </td><td>0.0                       </td><td>0.0          </td><td>112.0               </td><td>114.0                 </td><td>25.0                   </td><td>13.0            </td><td>0.0          </td><td>25.0                  </td><td>nan                       </td><td>nan                    </td><td>nan                             </td><td>0.0                    </td><td>3.0             </td><td>3.0              </td><td>3.0          </td><td>3.0          </td><td>21.0         </td><td>3.0            </td><td>4.0            </td><td>3.0                  </td><td>7.0          </td><td>0.0               </td><td>0.0             </td><td>0.0                 </td><td>0.0                 </td><td>100.0           </td><td>100.0             </td><td>0.0                   </td><td>0.0            </td><td>139633.0         </td><td>133285.0           </td><td>12600.0         </td><td>127033.0                    </td><td>12.0         </td><td>60.0         </td><td>5.0          </td><td>880.0        </td><td>14.6666666667     </td><td>59.9924      </td><td>1     </td><td>19.3188666667    </td><td>3.0           </td></tr>\n",
       "<tr><td>9      </td><td>24000.0      </td><td>24000.0      </td><td>24000.0          </td><td>0.098         </td><td>507.58       </td><td>B      </td><td>B3         </td><td>                   </td><td>n/a         </td><td>OWN             </td><td>77900.0      </td><td>Not Verified         </td><td>2015-12-01 00:00:00</td><td>n           </td><td>home_improvement  </td><td>Home improvement       </td><td>TN          </td><td>10.24        </td><td>0.0           </td><td>1982-10-01 00:00:00</td><td>1.0             </td><td>50.0                    </td><td>nan                     </td><td>9.0          </td><td>0.0           </td><td>3454.0       </td><td>0.103         </td><td>21.0         </td><td>19744.92     </td><td>19744.92       </td><td>6565.87      </td><td>6565.87          </td><td>4255.08          </td><td>2310.79        </td><td>0.0                 </td><td>507.58           </td><td>2017-03-01 00:00:00</td><td>2017-02-01 00:00:00 </td><td>0.0                         </td><td>50.0                         </td><td>1.0          </td><td>INDIVIDUAL        </td><td>nan               </td><td>nan          </td><td>                           </td><td>0.0             </td><td>0.0           </td><td>127412.0     </td><td>0.0          </td><td>1.0          </td><td>0.0           </td><td>0.0          </td><td>73.0                </td><td>1456.0        </td><td>4.0          </td><td>0.0          </td><td>1.0          </td><td>3309.0       </td><td>7.0          </td><td>33600.0           </td><td>1.0           </td><td>0.0          </td><td>2.0           </td><td>1.0                   </td><td>14157.0      </td><td>27172.0         </td><td>10.9         </td><td>0.0                       </td><td>0.0          </td><td>139.0               </td><td>398.0                 </td><td>22.0                   </td><td>22.0            </td><td>2.0          </td><td>22.0                  </td><td>nan                       </td><td>0.0                    </td><td>nan                             </td><td>1.0                    </td><td>2.0             </td><td>3.0              </td><td>4.0          </td><td>6.0          </td><td>6.0          </td><td>7.0            </td><td>13.0           </td><td>3.0                  </td><td>9.0          </td><td>0.0               </td><td>0.0             </td><td>0.0                 </td><td>0.0                 </td><td>95.2            </td><td>0.0               </td><td>0.0                   </td><td>0.0            </td><td>202351.0         </td><td>4910.0             </td><td>30500.0         </td><td>33631.0                     </td><td>12.0         </td><td>60.0         </td><td>5.0          </td><td>1200.0       </td><td>20.0              </td><td>65.6587      </td><td>1     </td><td>25.0758          </td><td>4.0           </td></tr>\n",
       "</tbody>\n",
       "</table>"
      ]
     },
     "metadata": {},
     "output_type": "display_data"
    }
   ],
   "source": [
    "model_df[features].describe()"
   ]
  },
  {
   "cell_type": "code",
   "execution_count": 8,
   "metadata": {
    "collapsed": false
   },
   "outputs": [
    {
     "name": "stdout",
     "output_type": "stream",
     "text": [
      "[210809, 109]\n",
      "[210286, 109]\n",
      "[105163, 109]\n",
      "[105123, 109]\n"
     ]
    }
   ],
   "source": [
    "#split the data into train, validation1 and validation2.\n",
    "#train and validation1 would be used as train and test for model training\n",
    "#validation2 would be used as validation dataset as no out-of-time data sets are available. \n",
    "train, test = model_df[features].split_frame(\n",
    "               ratios=[0.5],\n",
    "               seed=100,\n",
    "               destination_frames = ['train.hex', 'test.hex'])\n",
    "print train.dim\n",
    "print test.dim\n",
    "validation1,validation2 = test.split_frame(\n",
    "               ratios=[0.5],\n",
    "               seed=100,\n",
    "               destination_frames = ['validation1.hex', 'validation2.hex'])\n",
    "print validation1.dim\n",
    "print validation2.dim"
   ]
  },
  {
   "cell_type": "code",
   "execution_count": 9,
   "metadata": {
    "collapsed": true
   },
   "outputs": [],
   "source": [
    "response = \"good\""
   ]
  },
  {
   "cell_type": "code",
   "execution_count": 10,
   "metadata": {
    "collapsed": false
   },
   "outputs": [
    {
     "name": "stdout",
     "output_type": "stream",
     "text": [
      "drf Model Build progress: |███████████████████████████████████████████████| 100%\n"
     ]
    }
   ],
   "source": [
    "#build model with 100 trees\n",
    "rf=H2ORandomForestEstimator(\n",
    "   model_id = 'v1',\n",
    "   ntrees=100,\n",
    "   seed=100)\n",
    "rf.train(x=features, y=response, training_frame=train,\n",
    "        validation_frame = validation1)"
   ]
  },
  {
   "cell_type": "code",
   "execution_count": 11,
   "metadata": {
    "collapsed": false
   },
   "outputs": [
    {
     "name": "stdout",
     "output_type": "stream",
     "text": [
      "Model Details\n",
      "=============\n",
      "H2ORandomForestEstimator :  Distributed Random Forest\n",
      "Model Key:  v1\n",
      "\n",
      "\n",
      "ModelMetricsBinomial: drf\n",
      "** Reported on train data. **\n",
      "\n",
      "MSE: 0.0211796905314\n",
      "RMSE: 0.145532438073\n",
      "LogLoss: 0.0935705269754\n",
      "Mean Per-Class Error: 0.0227389309954\n",
      "AUC: 0.996154431279\n",
      "Gini: 0.992308862559\n",
      "Confusion Matrix (Act/Pred) for max f1 @ threshold = 0.781876869417: \n"
     ]
    },
    {
     "data": {
      "text/html": [
       "<div style=\"overflow:auto\"><table style=\"width:50%\"><tr><td><b></b></td>\n",
       "<td><b>0</b></td>\n",
       "<td><b>1</b></td>\n",
       "<td><b>Error</b></td>\n",
       "<td><b>Rate</b></td></tr>\n",
       "<tr><td>0</td>\n",
       "<td>22627.0</td>\n",
       "<td>1666.0</td>\n",
       "<td>0.0686</td>\n",
       "<td> (1666.0/24293.0)</td></tr>\n",
       "<tr><td>1</td>\n",
       "<td>919.0</td>\n",
       "<td>185597.0</td>\n",
       "<td>0.0049</td>\n",
       "<td> (919.0/186516.0)</td></tr>\n",
       "<tr><td>Total</td>\n",
       "<td>23546.0</td>\n",
       "<td>187263.0</td>\n",
       "<td>0.0123</td>\n",
       "<td> (2585.0/210809.0)</td></tr></table></div>"
      ],
      "text/plain": [
       "       0      1       Error    Rate\n",
       "-----  -----  ------  -------  -----------------\n",
       "0      22627  1666    0.0686   (1666.0/24293.0)\n",
       "1      919    185597  0.0049   (919.0/186516.0)\n",
       "Total  23546  187263  0.0123   (2585.0/210809.0)"
      ]
     },
     "metadata": {},
     "output_type": "display_data"
    },
    {
     "name": "stdout",
     "output_type": "stream",
     "text": [
      "Maximum Metrics: Maximum metrics at their respective thresholds\n",
      "\n"
     ]
    },
    {
     "data": {
      "text/html": [
       "<div style=\"overflow:auto\"><table style=\"width:50%\"><tr><td><b>metric</b></td>\n",
       "<td><b>threshold</b></td>\n",
       "<td><b>value</b></td>\n",
       "<td><b>idx</b></td></tr>\n",
       "<tr><td>max f1</td>\n",
       "<td>0.7818769</td>\n",
       "<td>0.9930841</td>\n",
       "<td>176.0</td></tr>\n",
       "<tr><td>max f2</td>\n",
       "<td>0.7032895</td>\n",
       "<td>0.9956508</td>\n",
       "<td>199.0</td></tr>\n",
       "<tr><td>max f0point5</td>\n",
       "<td>0.8399906</td>\n",
       "<td>0.9936531</td>\n",
       "<td>155.0</td></tr>\n",
       "<tr><td>max accuracy</td>\n",
       "<td>0.7818769</td>\n",
       "<td>0.9877377</td>\n",
       "<td>176.0</td></tr>\n",
       "<tr><td>max precision</td>\n",
       "<td>0.9994496</td>\n",
       "<td>1.0</td>\n",
       "<td>0.0</td></tr>\n",
       "<tr><td>max recall</td>\n",
       "<td>0.4525126</td>\n",
       "<td>1.0</td>\n",
       "<td>262.0</td></tr>\n",
       "<tr><td>max specificity</td>\n",
       "<td>0.9994496</td>\n",
       "<td>1.0</td>\n",
       "<td>0.0</td></tr>\n",
       "<tr><td>max absolute_mcc</td>\n",
       "<td>0.7924330</td>\n",
       "<td>0.9393074</td>\n",
       "<td>173.0</td></tr>\n",
       "<tr><td>max min_per_class_accuracy</td>\n",
       "<td>0.8655624</td>\n",
       "<td>0.9761660</td>\n",
       "<td>144.0</td></tr>\n",
       "<tr><td>max mean_per_class_accuracy</td>\n",
       "<td>0.8571499</td>\n",
       "<td>0.9772611</td>\n",
       "<td>148.0</td></tr></table></div>"
      ],
      "text/plain": [
       "metric                       threshold    value     idx\n",
       "---------------------------  -----------  --------  -----\n",
       "max f1                       0.781877     0.993084  176\n",
       "max f2                       0.70329      0.995651  199\n",
       "max f0point5                 0.839991     0.993653  155\n",
       "max accuracy                 0.781877     0.987738  176\n",
       "max precision                0.99945      1         0\n",
       "max recall                   0.452513     1         262\n",
       "max specificity              0.99945      1         0\n",
       "max absolute_mcc             0.792433     0.939307  173\n",
       "max min_per_class_accuracy   0.865562     0.976166  144\n",
       "max mean_per_class_accuracy  0.85715      0.977261  148"
      ]
     },
     "metadata": {},
     "output_type": "display_data"
    },
    {
     "name": "stdout",
     "output_type": "stream",
     "text": [
      "Gains/Lift Table: Avg response rate: 88.48 %\n",
      "\n"
     ]
    },
    {
     "data": {
      "text/html": [
       "<div style=\"overflow:auto\"><table style=\"width:50%\"><tr><td><b></b></td>\n",
       "<td><b>group</b></td>\n",
       "<td><b>cumulative_data_fraction</b></td>\n",
       "<td><b>lower_threshold</b></td>\n",
       "<td><b>lift</b></td>\n",
       "<td><b>cumulative_lift</b></td>\n",
       "<td><b>response_rate</b></td>\n",
       "<td><b>cumulative_response_rate</b></td>\n",
       "<td><b>capture_rate</b></td>\n",
       "<td><b>cumulative_capture_rate</b></td>\n",
       "<td><b>gain</b></td>\n",
       "<td><b>cumulative_gain</b></td></tr>\n",
       "<tr><td></td>\n",
       "<td>1</td>\n",
       "<td>0.0100043</td>\n",
       "<td>0.9980471</td>\n",
       "<td>1.1302462</td>\n",
       "<td>1.1302462</td>\n",
       "<td>1.0</td>\n",
       "<td>1.0</td>\n",
       "<td>0.0113073</td>\n",
       "<td>0.0113073</td>\n",
       "<td>13.0246199</td>\n",
       "<td>13.0246199</td></tr>\n",
       "<tr><td></td>\n",
       "<td>2</td>\n",
       "<td>0.0200039</td>\n",
       "<td>0.9971528</td>\n",
       "<td>1.1302462</td>\n",
       "<td>1.1302462</td>\n",
       "<td>1.0</td>\n",
       "<td>1.0</td>\n",
       "<td>0.0113020</td>\n",
       "<td>0.0226093</td>\n",
       "<td>13.0246199</td>\n",
       "<td>13.0246199</td></tr>\n",
       "<tr><td></td>\n",
       "<td>3</td>\n",
       "<td>0.0300035</td>\n",
       "<td>0.9964418</td>\n",
       "<td>1.1302462</td>\n",
       "<td>1.1302462</td>\n",
       "<td>1.0</td>\n",
       "<td>1.0</td>\n",
       "<td>0.0113020</td>\n",
       "<td>0.0339113</td>\n",
       "<td>13.0246199</td>\n",
       "<td>13.0246199</td></tr>\n",
       "<tr><td></td>\n",
       "<td>4</td>\n",
       "<td>0.0400030</td>\n",
       "<td>0.9957579</td>\n",
       "<td>1.1302462</td>\n",
       "<td>1.1302462</td>\n",
       "<td>1.0</td>\n",
       "<td>1.0</td>\n",
       "<td>0.0113020</td>\n",
       "<td>0.0452133</td>\n",
       "<td>13.0246199</td>\n",
       "<td>13.0246199</td></tr>\n",
       "<tr><td></td>\n",
       "<td>5</td>\n",
       "<td>0.0500026</td>\n",
       "<td>0.9950975</td>\n",
       "<td>1.1302462</td>\n",
       "<td>1.1302462</td>\n",
       "<td>1.0</td>\n",
       "<td>1.0</td>\n",
       "<td>0.0113020</td>\n",
       "<td>0.0565153</td>\n",
       "<td>13.0246199</td>\n",
       "<td>13.0246199</td></tr>\n",
       "<tr><td></td>\n",
       "<td>6</td>\n",
       "<td>0.1000005</td>\n",
       "<td>0.9915539</td>\n",
       "<td>1.1302462</td>\n",
       "<td>1.1302462</td>\n",
       "<td>1.0</td>\n",
       "<td>1.0</td>\n",
       "<td>0.0565099</td>\n",
       "<td>0.1130252</td>\n",
       "<td>13.0246199</td>\n",
       "<td>13.0246199</td></tr>\n",
       "<tr><td></td>\n",
       "<td>7</td>\n",
       "<td>0.1500031</td>\n",
       "<td>0.9881042</td>\n",
       "<td>1.1302462</td>\n",
       "<td>1.1302462</td>\n",
       "<td>1.0</td>\n",
       "<td>1.0</td>\n",
       "<td>0.0565153</td>\n",
       "<td>0.1695404</td>\n",
       "<td>13.0246199</td>\n",
       "<td>13.0246199</td></tr>\n",
       "<tr><td></td>\n",
       "<td>8</td>\n",
       "<td>0.2000009</td>\n",
       "<td>0.9850881</td>\n",
       "<td>1.1302462</td>\n",
       "<td>1.1302462</td>\n",
       "<td>1.0</td>\n",
       "<td>1.0</td>\n",
       "<td>0.0565099</td>\n",
       "<td>0.2260503</td>\n",
       "<td>13.0246199</td>\n",
       "<td>13.0246199</td></tr>\n",
       "<tr><td></td>\n",
       "<td>9</td>\n",
       "<td>0.3000014</td>\n",
       "<td>0.9791962</td>\n",
       "<td>1.1302462</td>\n",
       "<td>1.1302462</td>\n",
       "<td>1.0</td>\n",
       "<td>1.0</td>\n",
       "<td>0.1130252</td>\n",
       "<td>0.3390755</td>\n",
       "<td>13.0246199</td>\n",
       "<td>13.0246199</td></tr>\n",
       "<tr><td></td>\n",
       "<td>10</td>\n",
       "<td>0.4000019</td>\n",
       "<td>0.9731667</td>\n",
       "<td>1.1302462</td>\n",
       "<td>1.1302462</td>\n",
       "<td>1.0</td>\n",
       "<td>1.0</td>\n",
       "<td>0.1130252</td>\n",
       "<td>0.4521006</td>\n",
       "<td>13.0246199</td>\n",
       "<td>13.0246199</td></tr>\n",
       "<tr><td></td>\n",
       "<td>11</td>\n",
       "<td>0.5000024</td>\n",
       "<td>0.9674703</td>\n",
       "<td>1.1302462</td>\n",
       "<td>1.1302462</td>\n",
       "<td>1.0</td>\n",
       "<td>1.0</td>\n",
       "<td>0.1130252</td>\n",
       "<td>0.5651258</td>\n",
       "<td>13.0246199</td>\n",
       "<td>13.0246199</td></tr>\n",
       "<tr><td></td>\n",
       "<td>12</td>\n",
       "<td>0.5999981</td>\n",
       "<td>0.9630743</td>\n",
       "<td>1.1302462</td>\n",
       "<td>1.1302462</td>\n",
       "<td>1.0</td>\n",
       "<td>1.0</td>\n",
       "<td>0.1130198</td>\n",
       "<td>0.6781456</td>\n",
       "<td>13.0246199</td>\n",
       "<td>13.0246199</td></tr>\n",
       "<tr><td></td>\n",
       "<td>13</td>\n",
       "<td>0.6999986</td>\n",
       "<td>0.9575623</td>\n",
       "<td>1.1302462</td>\n",
       "<td>1.1302462</td>\n",
       "<td>1.0</td>\n",
       "<td>1.0</td>\n",
       "<td>0.1130252</td>\n",
       "<td>0.7911707</td>\n",
       "<td>13.0246199</td>\n",
       "<td>13.0246199</td></tr>\n",
       "<tr><td></td>\n",
       "<td>14</td>\n",
       "<td>0.8000133</td>\n",
       "<td>0.9457957</td>\n",
       "<td>1.1302462</td>\n",
       "<td>1.1302462</td>\n",
       "<td>1.0</td>\n",
       "<td>1.0</td>\n",
       "<td>0.1130412</td>\n",
       "<td>0.9042120</td>\n",
       "<td>13.0246199</td>\n",
       "<td>13.0246199</td></tr>\n",
       "<tr><td></td>\n",
       "<td>15</td>\n",
       "<td>0.8999995</td>\n",
       "<td>0.4851829</td>\n",
       "<td>0.9580121</td>\n",
       "<td>1.1111117</td>\n",
       "<td>0.8476136</td>\n",
       "<td>0.9830705</td>\n",
       "<td>0.0957880</td>\n",
       "<td>1.0</td>\n",
       "<td>-4.1987922</td>\n",
       "<td>11.1111697</td></tr>\n",
       "<tr><td></td>\n",
       "<td>16</td>\n",
       "<td>1.0</td>\n",
       "<td>0.04</td>\n",
       "<td>0.0</td>\n",
       "<td>1.0</td>\n",
       "<td>0.0</td>\n",
       "<td>0.8847630</td>\n",
       "<td>0.0</td>\n",
       "<td>1.0</td>\n",
       "<td>-100.0</td>\n",
       "<td>0.0</td></tr></table></div>"
      ],
      "text/plain": [
       "    group    cumulative_data_fraction    lower_threshold    lift      cumulative_lift    response_rate    cumulative_response_rate    capture_rate    cumulative_capture_rate    gain      cumulative_gain\n",
       "--  -------  --------------------------  -----------------  --------  -----------------  ---------------  --------------------------  --------------  -------------------------  --------  -----------------\n",
       "    1        0.0100043                   0.998047           1.13025   1.13025            1                1                           0.0113073       0.0113073                  13.0246   13.0246\n",
       "    2        0.0200039                   0.997153           1.13025   1.13025            1                1                           0.011302        0.0226093                  13.0246   13.0246\n",
       "    3        0.0300035                   0.996442           1.13025   1.13025            1                1                           0.011302        0.0339113                  13.0246   13.0246\n",
       "    4        0.040003                    0.995758           1.13025   1.13025            1                1                           0.011302        0.0452133                  13.0246   13.0246\n",
       "    5        0.0500026                   0.995098           1.13025   1.13025            1                1                           0.011302        0.0565153                  13.0246   13.0246\n",
       "    6        0.1                         0.991554           1.13025   1.13025            1                1                           0.0565099       0.113025                   13.0246   13.0246\n",
       "    7        0.150003                    0.988104           1.13025   1.13025            1                1                           0.0565153       0.16954                    13.0246   13.0246\n",
       "    8        0.200001                    0.985088           1.13025   1.13025            1                1                           0.0565099       0.22605                    13.0246   13.0246\n",
       "    9        0.300001                    0.979196           1.13025   1.13025            1                1                           0.113025        0.339075                   13.0246   13.0246\n",
       "    10       0.400002                    0.973167           1.13025   1.13025            1                1                           0.113025        0.452101                   13.0246   13.0246\n",
       "    11       0.500002                    0.96747            1.13025   1.13025            1                1                           0.113025        0.565126                   13.0246   13.0246\n",
       "    12       0.599998                    0.963074           1.13025   1.13025            1                1                           0.11302         0.678146                   13.0246   13.0246\n",
       "    13       0.699999                    0.957562           1.13025   1.13025            1                1                           0.113025        0.791171                   13.0246   13.0246\n",
       "    14       0.800013                    0.945796           1.13025   1.13025            1                1                           0.113041        0.904212                   13.0246   13.0246\n",
       "    15       0.9                         0.485183           0.958012  1.11111            0.847614         0.983071                    0.095788        1                          -4.19879  11.1112\n",
       "    16       1                           0.04               0         1                  0                0.884763                    0               1                          -100      0"
      ]
     },
     "metadata": {},
     "output_type": "display_data"
    },
    {
     "name": "stdout",
     "output_type": "stream",
     "text": [
      "\n",
      "\n",
      "ModelMetricsBinomial: drf\n",
      "** Reported on validation data. **\n",
      "\n",
      "MSE: 0.0208463148483\n",
      "RMSE: 0.144382529581\n",
      "LogLoss: 0.0928526088803\n",
      "Mean Per-Class Error: 0.0174338691781\n",
      "AUC: 0.997642416875\n",
      "Gini: 0.99528483375\n",
      "Confusion Matrix (Act/Pred) for max f1 @ threshold = 0.790659872436: \n"
     ]
    },
    {
     "data": {
      "text/html": [
       "<div style=\"overflow:auto\"><table style=\"width:50%\"><tr><td><b></b></td>\n",
       "<td><b>0</b></td>\n",
       "<td><b>1</b></td>\n",
       "<td><b>Error</b></td>\n",
       "<td><b>Rate</b></td></tr>\n",
       "<tr><td>0</td>\n",
       "<td>11490.0</td>\n",
       "<td>654.0</td>\n",
       "<td>0.0539</td>\n",
       "<td> (654.0/12144.0)</td></tr>\n",
       "<tr><td>1</td>\n",
       "<td>438.0</td>\n",
       "<td>92581.0</td>\n",
       "<td>0.0047</td>\n",
       "<td> (438.0/93019.0)</td></tr>\n",
       "<tr><td>Total</td>\n",
       "<td>11928.0</td>\n",
       "<td>93235.0</td>\n",
       "<td>0.0104</td>\n",
       "<td> (1092.0/105163.0)</td></tr></table></div>"
      ],
      "text/plain": [
       "       0      1      Error    Rate\n",
       "-----  -----  -----  -------  -----------------\n",
       "0      11490  654    0.0539   (654.0/12144.0)\n",
       "1      438    92581  0.0047   (438.0/93019.0)\n",
       "Total  11928  93235  0.0104   (1092.0/105163.0)"
      ]
     },
     "metadata": {},
     "output_type": "display_data"
    },
    {
     "name": "stdout",
     "output_type": "stream",
     "text": [
      "Maximum Metrics: Maximum metrics at their respective thresholds\n",
      "\n"
     ]
    },
    {
     "data": {
      "text/html": [
       "<div style=\"overflow:auto\"><table style=\"width:50%\"><tr><td><b>metric</b></td>\n",
       "<td><b>threshold</b></td>\n",
       "<td><b>value</b></td>\n",
       "<td><b>idx</b></td></tr>\n",
       "<tr><td>max f1</td>\n",
       "<td>0.7906599</td>\n",
       "<td>0.9941370</td>\n",
       "<td>176.0</td></tr>\n",
       "<tr><td>max f2</td>\n",
       "<td>0.7282231</td>\n",
       "<td>0.9961605</td>\n",
       "<td>196.0</td></tr>\n",
       "<tr><td>max f0point5</td>\n",
       "<td>0.8312361</td>\n",
       "<td>0.9950249</td>\n",
       "<td>161.0</td></tr>\n",
       "<tr><td>max accuracy</td>\n",
       "<td>0.7906599</td>\n",
       "<td>0.9896161</td>\n",
       "<td>176.0</td></tr>\n",
       "<tr><td>max precision</td>\n",
       "<td>0.9988519</td>\n",
       "<td>1.0</td>\n",
       "<td>0.0</td></tr>\n",
       "<tr><td>max recall</td>\n",
       "<td>0.5424370</td>\n",
       "<td>1.0</td>\n",
       "<td>251.0</td></tr>\n",
       "<tr><td>max specificity</td>\n",
       "<td>0.9988519</td>\n",
       "<td>1.0</td>\n",
       "<td>0.0</td></tr>\n",
       "<tr><td>max absolute_mcc</td>\n",
       "<td>0.7906599</td>\n",
       "<td>0.9488224</td>\n",
       "<td>176.0</td></tr>\n",
       "<tr><td>max min_per_class_accuracy</td>\n",
       "<td>0.8645369</td>\n",
       "<td>0.9822079</td>\n",
       "<td>147.0</td></tr>\n",
       "<tr><td>max mean_per_class_accuracy</td>\n",
       "<td>0.8581310</td>\n",
       "<td>0.9825661</td>\n",
       "<td>150.0</td></tr></table></div>"
      ],
      "text/plain": [
       "metric                       threshold    value     idx\n",
       "---------------------------  -----------  --------  -----\n",
       "max f1                       0.79066      0.994137  176\n",
       "max f2                       0.728223     0.996161  196\n",
       "max f0point5                 0.831236     0.995025  161\n",
       "max accuracy                 0.79066      0.989616  176\n",
       "max precision                0.998852     1         0\n",
       "max recall                   0.542437     1         251\n",
       "max specificity              0.998852     1         0\n",
       "max absolute_mcc             0.79066      0.948822  176\n",
       "max min_per_class_accuracy   0.864537     0.982208  147\n",
       "max mean_per_class_accuracy  0.858131     0.982566  150"
      ]
     },
     "metadata": {},
     "output_type": "display_data"
    },
    {
     "name": "stdout",
     "output_type": "stream",
     "text": [
      "Gains/Lift Table: Avg response rate: 88.45 %\n",
      "\n"
     ]
    },
    {
     "data": {
      "text/html": [
       "<div style=\"overflow:auto\"><table style=\"width:50%\"><tr><td><b></b></td>\n",
       "<td><b>group</b></td>\n",
       "<td><b>cumulative_data_fraction</b></td>\n",
       "<td><b>lower_threshold</b></td>\n",
       "<td><b>lift</b></td>\n",
       "<td><b>cumulative_lift</b></td>\n",
       "<td><b>response_rate</b></td>\n",
       "<td><b>cumulative_response_rate</b></td>\n",
       "<td><b>capture_rate</b></td>\n",
       "<td><b>cumulative_capture_rate</b></td>\n",
       "<td><b>gain</b></td>\n",
       "<td><b>cumulative_gain</b></td></tr>\n",
       "<tr><td></td>\n",
       "<td>1</td>\n",
       "<td>0.0100035</td>\n",
       "<td>0.9977469</td>\n",
       "<td>1.1305540</td>\n",
       "<td>1.1305540</td>\n",
       "<td>1.0</td>\n",
       "<td>1.0</td>\n",
       "<td>0.0113095</td>\n",
       "<td>0.0113095</td>\n",
       "<td>13.0553973</td>\n",
       "<td>13.0553973</td></tr>\n",
       "<tr><td></td>\n",
       "<td>2</td>\n",
       "<td>0.0200070</td>\n",
       "<td>0.9966125</td>\n",
       "<td>1.1305540</td>\n",
       "<td>1.1305540</td>\n",
       "<td>1.0</td>\n",
       "<td>1.0</td>\n",
       "<td>0.0113095</td>\n",
       "<td>0.0226190</td>\n",
       "<td>13.0553973</td>\n",
       "<td>13.0553973</td></tr>\n",
       "<tr><td></td>\n",
       "<td>3</td>\n",
       "<td>0.0300010</td>\n",
       "<td>0.9956447</td>\n",
       "<td>1.1294783</td>\n",
       "<td>1.1301956</td>\n",
       "<td>0.9990485</td>\n",
       "<td>0.9996830</td>\n",
       "<td>0.0112880</td>\n",
       "<td>0.0339071</td>\n",
       "<td>12.9478279</td>\n",
       "<td>13.0195636</td></tr>\n",
       "<tr><td></td>\n",
       "<td>4</td>\n",
       "<td>0.0400046</td>\n",
       "<td>0.9946350</td>\n",
       "<td>1.1305540</td>\n",
       "<td>1.1302852</td>\n",
       "<td>1.0</td>\n",
       "<td>0.9997623</td>\n",
       "<td>0.0113095</td>\n",
       "<td>0.0452166</td>\n",
       "<td>13.0553973</td>\n",
       "<td>13.0285241</td></tr>\n",
       "<tr><td></td>\n",
       "<td>5</td>\n",
       "<td>0.0500081</td>\n",
       "<td>0.9935904</td>\n",
       "<td>1.1294793</td>\n",
       "<td>1.1301240</td>\n",
       "<td>0.9990494</td>\n",
       "<td>0.9996197</td>\n",
       "<td>0.0112988</td>\n",
       "<td>0.0565153</td>\n",
       "<td>12.9479302</td>\n",
       "<td>13.0124023</td></tr>\n",
       "<tr><td></td>\n",
       "<td>6</td>\n",
       "<td>0.1000067</td>\n",
       "<td>0.9880604</td>\n",
       "<td>1.1303390</td>\n",
       "<td>1.1302315</td>\n",
       "<td>0.9998098</td>\n",
       "<td>0.9997147</td>\n",
       "<td>0.0565153</td>\n",
       "<td>0.1130307</td>\n",
       "<td>13.0338957</td>\n",
       "<td>13.0231480</td></tr>\n",
       "<tr><td></td>\n",
       "<td>7</td>\n",
       "<td>0.1500052</td>\n",
       "<td>0.9841418</td>\n",
       "<td>1.1305540</td>\n",
       "<td>1.1303390</td>\n",
       "<td>1.0</td>\n",
       "<td>0.9998098</td>\n",
       "<td>0.0565261</td>\n",
       "<td>0.1695568</td>\n",
       "<td>13.0553973</td>\n",
       "<td>13.0338971</td></tr>\n",
       "<tr><td></td>\n",
       "<td>8</td>\n",
       "<td>0.2000038</td>\n",
       "<td>0.9802387</td>\n",
       "<td>1.1301239</td>\n",
       "<td>1.1302852</td>\n",
       "<td>0.9996196</td>\n",
       "<td>0.9997623</td>\n",
       "<td>0.0565046</td>\n",
       "<td>0.2260613</td>\n",
       "<td>13.0123941</td>\n",
       "<td>13.0285216</td></tr>\n",
       "<tr><td></td>\n",
       "<td>9</td>\n",
       "<td>0.3000010</td>\n",
       "<td>0.9728493</td>\n",
       "<td>1.1300164</td>\n",
       "<td>1.1301956</td>\n",
       "<td>0.9995245</td>\n",
       "<td>0.9996830</td>\n",
       "<td>0.1129984</td>\n",
       "<td>0.3390598</td>\n",
       "<td>13.0016433</td>\n",
       "<td>13.0195624</td></tr>\n",
       "<tr><td></td>\n",
       "<td>10</td>\n",
       "<td>0.3999981</td>\n",
       "<td>0.9666775</td>\n",
       "<td>1.1304465</td>\n",
       "<td>1.1302583</td>\n",
       "<td>0.9999049</td>\n",
       "<td>0.9997385</td>\n",
       "<td>0.1130414</td>\n",
       "<td>0.4521012</td>\n",
       "<td>13.0446465</td>\n",
       "<td>13.0258333</td></tr>\n",
       "<tr><td></td>\n",
       "<td>11</td>\n",
       "<td>0.5000048</td>\n",
       "<td>0.9622036</td>\n",
       "<td>1.1302315</td>\n",
       "<td>1.1302530</td>\n",
       "<td>0.9997147</td>\n",
       "<td>0.9997337</td>\n",
       "<td>0.1130307</td>\n",
       "<td>0.5651319</td>\n",
       "<td>13.0231480</td>\n",
       "<td>13.0252962</td></tr>\n",
       "<tr><td></td>\n",
       "<td>12</td>\n",
       "<td>0.6000019</td>\n",
       "<td>0.9566113</td>\n",
       "<td>1.1300164</td>\n",
       "<td>1.1302135</td>\n",
       "<td>0.9995245</td>\n",
       "<td>0.9996989</td>\n",
       "<td>0.1129984</td>\n",
       "<td>0.6781303</td>\n",
       "<td>13.0016433</td>\n",
       "<td>13.0213542</td></tr>\n",
       "<tr><td></td>\n",
       "<td>13</td>\n",
       "<td>0.6999990</td>\n",
       "<td>0.9473548</td>\n",
       "<td>1.1300164</td>\n",
       "<td>1.1301854</td>\n",
       "<td>0.9995245</td>\n",
       "<td>0.9996740</td>\n",
       "<td>0.1129984</td>\n",
       "<td>0.7911287</td>\n",
       "<td>13.0016433</td>\n",
       "<td>13.0185384</td></tr>\n",
       "<tr><td></td>\n",
       "<td>14</td>\n",
       "<td>0.7999962</td>\n",
       "<td>0.9274480</td>\n",
       "<td>1.1286188</td>\n",
       "<td>1.1299896</td>\n",
       "<td>0.9982883</td>\n",
       "<td>0.9995008</td>\n",
       "<td>0.1128587</td>\n",
       "<td>0.9039874</td>\n",
       "<td>12.8618829</td>\n",
       "<td>12.9989569</td></tr>\n",
       "<tr><td></td>\n",
       "<td>15</td>\n",
       "<td>0.8999933</td>\n",
       "<td>0.6827246</td>\n",
       "<td>0.9533808</td>\n",
       "<td>1.1103668</td>\n",
       "<td>0.8432864</td>\n",
       "<td>0.9821440</td>\n",
       "<td>0.0953354</td>\n",
       "<td>0.9993227</td>\n",
       "<td>-4.6619187</td>\n",
       "<td>11.0366789</td></tr>\n",
       "<tr><td></td>\n",
       "<td>16</td>\n",
       "<td>1.0</td>\n",
       "<td>0.0681116</td>\n",
       "<td>0.0067724</td>\n",
       "<td>1.0</td>\n",
       "<td>0.0059903</td>\n",
       "<td>0.8845221</td>\n",
       "<td>0.0006773</td>\n",
       "<td>1.0</td>\n",
       "<td>-99.3227641</td>\n",
       "<td>0.0</td></tr></table></div>"
      ],
      "text/plain": [
       "    group    cumulative_data_fraction    lower_threshold    lift        cumulative_lift    response_rate    cumulative_response_rate    capture_rate    cumulative_capture_rate    gain      cumulative_gain\n",
       "--  -------  --------------------------  -----------------  ----------  -----------------  ---------------  --------------------------  --------------  -------------------------  --------  -----------------\n",
       "    1        0.0100035                   0.997747           1.13055     1.13055            1                1                           0.0113095       0.0113095                  13.0554   13.0554\n",
       "    2        0.020007                    0.996613           1.13055     1.13055            1                1                           0.0113095       0.022619                   13.0554   13.0554\n",
       "    3        0.030001                    0.995645           1.12948     1.1302             0.999049         0.999683                    0.011288        0.0339071                  12.9478   13.0196\n",
       "    4        0.0400046                   0.994635           1.13055     1.13029            1                0.999762                    0.0113095       0.0452166                  13.0554   13.0285\n",
       "    5        0.0500081                   0.99359            1.12948     1.13012            0.999049         0.99962                     0.0112988       0.0565153                  12.9479   13.0124\n",
       "    6        0.100007                    0.98806            1.13034     1.13023            0.99981          0.999715                    0.0565153       0.113031                   13.0339   13.0231\n",
       "    7        0.150005                    0.984142           1.13055     1.13034            1                0.99981                     0.0565261       0.169557                   13.0554   13.0339\n",
       "    8        0.200004                    0.980239           1.13012     1.13029            0.99962          0.999762                    0.0565046       0.226061                   13.0124   13.0285\n",
       "    9        0.300001                    0.972849           1.13002     1.1302             0.999525         0.999683                    0.112998        0.33906                    13.0016   13.0196\n",
       "    10       0.399998                    0.966678           1.13045     1.13026            0.999905         0.999738                    0.113041        0.452101                   13.0446   13.0258\n",
       "    11       0.500005                    0.962204           1.13023     1.13025            0.999715         0.999734                    0.113031        0.565132                   13.0231   13.0253\n",
       "    12       0.600002                    0.956611           1.13002     1.13021            0.999525         0.999699                    0.112998        0.67813                    13.0016   13.0214\n",
       "    13       0.699999                    0.947355           1.13002     1.13019            0.999525         0.999674                    0.112998        0.791129                   13.0016   13.0185\n",
       "    14       0.799996                    0.927448           1.12862     1.12999            0.998288         0.999501                    0.112859        0.903987                   12.8619   12.999\n",
       "    15       0.899993                    0.682725           0.953381    1.11037            0.843286         0.982144                    0.0953354       0.999323                   -4.66192  11.0367\n",
       "    16       1                           0.0681116          0.00677236  1                  0.0059903        0.884522                    0.000677281     1                          -99.3228  0"
      ]
     },
     "metadata": {},
     "output_type": "display_data"
    },
    {
     "name": "stdout",
     "output_type": "stream",
     "text": [
      "\n",
      "Scoring History: \n"
     ]
    },
    {
     "data": {
      "text/html": [
       "<div style=\"overflow:auto\"><table style=\"width:50%\"><tr><td><b></b></td>\n",
       "<td><b>timestamp</b></td>\n",
       "<td><b>duration</b></td>\n",
       "<td><b>number_of_trees</b></td>\n",
       "<td><b>training_rmse</b></td>\n",
       "<td><b>training_logloss</b></td>\n",
       "<td><b>training_auc</b></td>\n",
       "<td><b>training_lift</b></td>\n",
       "<td><b>training_classification_error</b></td>\n",
       "<td><b>validation_rmse</b></td>\n",
       "<td><b>validation_logloss</b></td>\n",
       "<td><b>validation_auc</b></td>\n",
       "<td><b>validation_lift</b></td>\n",
       "<td><b>validation_classification_error</b></td></tr>\n",
       "<tr><td></td>\n",
       "<td>2017-05-14 20:17:52</td>\n",
       "<td> 0.333 sec</td>\n",
       "<td>0.0</td>\n",
       "<td>nan</td>\n",
       "<td>nan</td>\n",
       "<td>nan</td>\n",
       "<td>nan</td>\n",
       "<td>nan</td>\n",
       "<td>nan</td>\n",
       "<td>nan</td>\n",
       "<td>nan</td>\n",
       "<td>nan</td>\n",
       "<td>nan</td></tr>\n",
       "<tr><td></td>\n",
       "<td>2017-05-14 20:18:15</td>\n",
       "<td>23.131 sec</td>\n",
       "<td>13.0</td>\n",
       "<td>0.1644548</td>\n",
       "<td>0.1578923</td>\n",
       "<td>0.9625781</td>\n",
       "<td>1.1302462</td>\n",
       "<td>0.0283208</td>\n",
       "<td>0.1493767</td>\n",
       "<td>0.0953524</td>\n",
       "<td>0.9899625</td>\n",
       "<td>1.1294793</td>\n",
       "<td>0.0190086</td></tr>\n",
       "<tr><td></td>\n",
       "<td>2017-05-14 20:19:27</td>\n",
       "<td> 1 min 35.938 sec</td>\n",
       "<td>58.0</td>\n",
       "<td>0.1469677</td>\n",
       "<td>0.0938485</td>\n",
       "<td>0.9933343</td>\n",
       "<td>1.1302462</td>\n",
       "<td>0.0151559</td>\n",
       "<td>0.1445851</td>\n",
       "<td>0.0921058</td>\n",
       "<td>0.9970716</td>\n",
       "<td>1.1305540</td>\n",
       "<td>0.0116391</td></tr>\n",
       "<tr><td></td>\n",
       "<td>2017-05-14 20:20:53</td>\n",
       "<td> 3 min  1.213 sec</td>\n",
       "<td>100.0</td>\n",
       "<td>0.1455324</td>\n",
       "<td>0.0935705</td>\n",
       "<td>0.9961544</td>\n",
       "<td>1.1302462</td>\n",
       "<td>0.0122623</td>\n",
       "<td>0.1443825</td>\n",
       "<td>0.0928526</td>\n",
       "<td>0.9976424</td>\n",
       "<td>1.1305540</td>\n",
       "<td>0.0103839</td></tr></table></div>"
      ],
      "text/plain": [
       "    timestamp            duration          number_of_trees    training_rmse    training_logloss    training_auc    training_lift    training_classification_error    validation_rmse    validation_logloss    validation_auc    validation_lift    validation_classification_error\n",
       "--  -------------------  ----------------  -----------------  ---------------  ------------------  --------------  ---------------  -------------------------------  -----------------  --------------------  ----------------  -----------------  ---------------------------------\n",
       "    2017-05-14 20:17:52  0.333 sec         0                  nan              nan                 nan             nan              nan                              nan                nan                   nan               nan                nan\n",
       "    2017-05-14 20:18:15  23.131 sec        13                 0.164455         0.157892            0.962578        1.13025          0.0283208                        0.149377           0.0953524             0.989962          1.12948            0.0190086\n",
       "    2017-05-14 20:19:27  1 min 35.938 sec  58                 0.146968         0.0938485           0.993334        1.13025          0.0151559                        0.144585           0.0921058             0.997072          1.13055            0.0116391\n",
       "    2017-05-14 20:20:53  3 min  1.213 sec  100                0.145532         0.0935705           0.996154        1.13025          0.0122623                        0.144383           0.0928526             0.997642          1.13055            0.0103839"
      ]
     },
     "metadata": {},
     "output_type": "display_data"
    },
    {
     "name": "stdout",
     "output_type": "stream",
     "text": [
      "Variable Importances: \n"
     ]
    },
    {
     "data": {
      "text/html": [
       "<div style=\"overflow:auto\"><table style=\"width:50%\"><tr><td><b>variable</b></td>\n",
       "<td><b>relative_importance</b></td>\n",
       "<td><b>scaled_importance</b></td>\n",
       "<td><b>percentage</b></td></tr>\n",
       "<tr><td>total_rec_prncp</td>\n",
       "<td>139622.4531250</td>\n",
       "<td>1.0</td>\n",
       "<td>0.1276491</td></tr>\n",
       "<tr><td>last_pymnt_amnt</td>\n",
       "<td>92141.8671875</td>\n",
       "<td>0.6599359</td>\n",
       "<td>0.0842402</td></tr>\n",
       "<tr><td>out_prncp_inv</td>\n",
       "<td>84115.1171875</td>\n",
       "<td>0.6024469</td>\n",
       "<td>0.0769018</td></tr>\n",
       "<tr><td>next_pymnt_d</td>\n",
       "<td>78315.7890625</td>\n",
       "<td>0.5609111</td>\n",
       "<td>0.0715998</td></tr>\n",
       "<tr><td>out_prncp</td>\n",
       "<td>77889.8828125</td>\n",
       "<td>0.5578607</td>\n",
       "<td>0.0712104</td></tr>\n",
       "<tr><td>---</td>\n",
       "<td>---</td>\n",
       "<td>---</td>\n",
       "<td>---</td></tr>\n",
       "<tr><td>annual_inc_joint</td>\n",
       "<td>94.8012543</td>\n",
       "<td>0.0006790</td>\n",
       "<td>0.0000867</td></tr>\n",
       "<tr><td>verification_status_joint</td>\n",
       "<td>67.2813797</td>\n",
       "<td>0.0004819</td>\n",
       "<td>0.0000615</td></tr>\n",
       "<tr><td>delinq_amnt</td>\n",
       "<td>58.8630867</td>\n",
       "<td>0.0004216</td>\n",
       "<td>0.0000538</td></tr>\n",
       "<tr><td>application_type</td>\n",
       "<td>26.6287155</td>\n",
       "<td>0.0001907</td>\n",
       "<td>0.0000243</td></tr>\n",
       "<tr><td>pymnt_plan</td>\n",
       "<td>10.5702820</td>\n",
       "<td>0.0000757</td>\n",
       "<td>0.0000097</td></tr></table></div>"
      ],
      "text/plain": [
       "variable                   relative_importance    scaled_importance    percentage\n",
       "-------------------------  ---------------------  -------------------  -----------------\n",
       "total_rec_prncp            139622.453125          1.0                  0.127649123773\n",
       "last_pymnt_amnt            92141.8671875          0.659935885133       0.0842402374834\n",
       "out_prncp_inv              84115.1171875          0.602446922432       0.0769018217679\n",
       "next_pymnt_d               78315.7890625          0.560911137927       0.0715998152707\n",
       "out_prncp                  77889.8828125          0.557860724183       0.0712104326291\n",
       "---                        ---                    ---                  ---\n",
       "annual_inc_joint           94.8012542725          0.000678982872386    8.66715687168e-05\n",
       "verification_status_joint  67.2813796997          0.000481880802076    6.15116621479e-05\n",
       "delinq_amnt                58.8630867004          0.000421587541137    5.38152802196e-05\n",
       "application_type           26.6287155151          0.000190719436016    2.43451688938e-05\n",
       "pymnt_plan                 10.5702819824          7.57061758037e-05    9.66382700552e-06"
      ]
     },
     "metadata": {},
     "output_type": "display_data"
    },
    {
     "name": "stdout",
     "output_type": "stream",
     "text": [
      "\n",
      "See the whole table with table.as_data_frame()\n",
      "\n"
     ]
    }
   ],
   "source": [
    "print rf"
   ]
  },
  {
   "cell_type": "code",
   "execution_count": 12,
   "metadata": {
    "collapsed": false
   },
   "outputs": [
    {
     "data": {
      "text/html": [
       "<div>\n",
       "<table border=\"1\" class=\"dataframe\">\n",
       "  <thead>\n",
       "    <tr style=\"text-align: right;\">\n",
       "      <th></th>\n",
       "      <th>variable</th>\n",
       "      <th>relative_importance</th>\n",
       "      <th>scaled_importance</th>\n",
       "      <th>percentage</th>\n",
       "    </tr>\n",
       "  </thead>\n",
       "  <tbody>\n",
       "    <tr>\n",
       "      <th>0</th>\n",
       "      <td>total_rec_prncp</td>\n",
       "      <td>139622.453125</td>\n",
       "      <td>1.000000</td>\n",
       "      <td>0.127649</td>\n",
       "    </tr>\n",
       "    <tr>\n",
       "      <th>1</th>\n",
       "      <td>last_pymnt_amnt</td>\n",
       "      <td>92141.867188</td>\n",
       "      <td>0.659936</td>\n",
       "      <td>0.084240</td>\n",
       "    </tr>\n",
       "    <tr>\n",
       "      <th>2</th>\n",
       "      <td>out_prncp_inv</td>\n",
       "      <td>84115.117188</td>\n",
       "      <td>0.602447</td>\n",
       "      <td>0.076902</td>\n",
       "    </tr>\n",
       "    <tr>\n",
       "      <th>3</th>\n",
       "      <td>next_pymnt_d</td>\n",
       "      <td>78315.789062</td>\n",
       "      <td>0.560911</td>\n",
       "      <td>0.071600</td>\n",
       "    </tr>\n",
       "    <tr>\n",
       "      <th>4</th>\n",
       "      <td>out_prncp</td>\n",
       "      <td>77889.882812</td>\n",
       "      <td>0.557861</td>\n",
       "      <td>0.071210</td>\n",
       "    </tr>\n",
       "    <tr>\n",
       "      <th>5</th>\n",
       "      <td>tot_fee_per_mth</td>\n",
       "      <td>72328.851562</td>\n",
       "      <td>0.518032</td>\n",
       "      <td>0.066126</td>\n",
       "    </tr>\n",
       "    <tr>\n",
       "      <th>6</th>\n",
       "      <td>total_pymnt</td>\n",
       "      <td>50985.519531</td>\n",
       "      <td>0.365167</td>\n",
       "      <td>0.046613</td>\n",
       "    </tr>\n",
       "    <tr>\n",
       "      <th>7</th>\n",
       "      <td>total_pymnt_inv</td>\n",
       "      <td>44794.917969</td>\n",
       "      <td>0.320829</td>\n",
       "      <td>0.040954</td>\n",
       "    </tr>\n",
       "    <tr>\n",
       "      <th>8</th>\n",
       "      <td>service_fee</td>\n",
       "      <td>42231.429688</td>\n",
       "      <td>0.302469</td>\n",
       "      <td>0.038610</td>\n",
       "    </tr>\n",
       "    <tr>\n",
       "      <th>9</th>\n",
       "      <td>orig_fee_per_mth</td>\n",
       "      <td>35970.140625</td>\n",
       "      <td>0.257624</td>\n",
       "      <td>0.032886</td>\n",
       "    </tr>\n",
       "    <tr>\n",
       "      <th>10</th>\n",
       "      <td>installment</td>\n",
       "      <td>34830.894531</td>\n",
       "      <td>0.249465</td>\n",
       "      <td>0.031844</td>\n",
       "    </tr>\n",
       "    <tr>\n",
       "      <th>11</th>\n",
       "      <td>orig_fee</td>\n",
       "      <td>30553.505859</td>\n",
       "      <td>0.218829</td>\n",
       "      <td>0.027933</td>\n",
       "    </tr>\n",
       "    <tr>\n",
       "      <th>12</th>\n",
       "      <td>funded_amnt</td>\n",
       "      <td>30171.212891</td>\n",
       "      <td>0.216091</td>\n",
       "      <td>0.027584</td>\n",
       "    </tr>\n",
       "    <tr>\n",
       "      <th>13</th>\n",
       "      <td>funded_amnt_inv</td>\n",
       "      <td>29709.048828</td>\n",
       "      <td>0.212781</td>\n",
       "      <td>0.027161</td>\n",
       "    </tr>\n",
       "    <tr>\n",
       "      <th>14</th>\n",
       "      <td>loan_amnt</td>\n",
       "      <td>21321.197266</td>\n",
       "      <td>0.152706</td>\n",
       "      <td>0.019493</td>\n",
       "    </tr>\n",
       "    <tr>\n",
       "      <th>15</th>\n",
       "      <td>addr_state</td>\n",
       "      <td>18388.003906</td>\n",
       "      <td>0.131698</td>\n",
       "      <td>0.016811</td>\n",
       "    </tr>\n",
       "    <tr>\n",
       "      <th>16</th>\n",
       "      <td>sub_grade</td>\n",
       "      <td>17724.841797</td>\n",
       "      <td>0.126948</td>\n",
       "      <td>0.016205</td>\n",
       "    </tr>\n",
       "    <tr>\n",
       "      <th>17</th>\n",
       "      <td>last_credit_pull_d</td>\n",
       "      <td>16096.324219</td>\n",
       "      <td>0.115285</td>\n",
       "      <td>0.014716</td>\n",
       "    </tr>\n",
       "    <tr>\n",
       "      <th>18</th>\n",
       "      <td>total_rec_late_fee</td>\n",
       "      <td>13439.278320</td>\n",
       "      <td>0.096254</td>\n",
       "      <td>0.012287</td>\n",
       "    </tr>\n",
       "    <tr>\n",
       "      <th>19</th>\n",
       "      <td>int_rate</td>\n",
       "      <td>13014.739258</td>\n",
       "      <td>0.093214</td>\n",
       "      <td>0.011899</td>\n",
       "    </tr>\n",
       "    <tr>\n",
       "      <th>20</th>\n",
       "      <td>total_rec_int</td>\n",
       "      <td>10415.235352</td>\n",
       "      <td>0.074596</td>\n",
       "      <td>0.009522</td>\n",
       "    </tr>\n",
       "    <tr>\n",
       "      <th>21</th>\n",
       "      <td>grade</td>\n",
       "      <td>8542.287109</td>\n",
       "      <td>0.061181</td>\n",
       "      <td>0.007810</td>\n",
       "    </tr>\n",
       "    <tr>\n",
       "      <th>22</th>\n",
       "      <td>emp_length</td>\n",
       "      <td>6851.201660</td>\n",
       "      <td>0.049069</td>\n",
       "      <td>0.006264</td>\n",
       "    </tr>\n",
       "    <tr>\n",
       "      <th>23</th>\n",
       "      <td>issue_d</td>\n",
       "      <td>6183.666992</td>\n",
       "      <td>0.044288</td>\n",
       "      <td>0.005653</td>\n",
       "    </tr>\n",
       "    <tr>\n",
       "      <th>24</th>\n",
       "      <td>month</td>\n",
       "      <td>5516.069824</td>\n",
       "      <td>0.039507</td>\n",
       "      <td>0.005043</td>\n",
       "    </tr>\n",
       "    <tr>\n",
       "      <th>25</th>\n",
       "      <td>orig_rate</td>\n",
       "      <td>4834.704590</td>\n",
       "      <td>0.034627</td>\n",
       "      <td>0.004420</td>\n",
       "    </tr>\n",
       "    <tr>\n",
       "      <th>26</th>\n",
       "      <td>emp_title</td>\n",
       "      <td>4812.592773</td>\n",
       "      <td>0.034469</td>\n",
       "      <td>0.004400</td>\n",
       "    </tr>\n",
       "    <tr>\n",
       "      <th>27</th>\n",
       "      <td>term_n</td>\n",
       "      <td>3534.017578</td>\n",
       "      <td>0.025311</td>\n",
       "      <td>0.003231</td>\n",
       "    </tr>\n",
       "    <tr>\n",
       "      <th>28</th>\n",
       "      <td>mths_since_recent_inq</td>\n",
       "      <td>3016.428711</td>\n",
       "      <td>0.021604</td>\n",
       "      <td>0.002758</td>\n",
       "    </tr>\n",
       "    <tr>\n",
       "      <th>29</th>\n",
       "      <td>acc_open_past_24mths</td>\n",
       "      <td>2956.545166</td>\n",
       "      <td>0.021175</td>\n",
       "      <td>0.002703</td>\n",
       "    </tr>\n",
       "    <tr>\n",
       "      <th>...</th>\n",
       "      <td>...</td>\n",
       "      <td>...</td>\n",
       "      <td>...</td>\n",
       "      <td>...</td>\n",
       "    </tr>\n",
       "    <tr>\n",
       "      <th>77</th>\n",
       "      <td>all_util</td>\n",
       "      <td>718.521667</td>\n",
       "      <td>0.005146</td>\n",
       "      <td>0.000657</td>\n",
       "    </tr>\n",
       "    <tr>\n",
       "      <th>78</th>\n",
       "      <td>max_bal_bc</td>\n",
       "      <td>609.681763</td>\n",
       "      <td>0.004367</td>\n",
       "      <td>0.000557</td>\n",
       "    </tr>\n",
       "    <tr>\n",
       "      <th>79</th>\n",
       "      <td>inq_last_12m</td>\n",
       "      <td>588.718872</td>\n",
       "      <td>0.004217</td>\n",
       "      <td>0.000538</td>\n",
       "    </tr>\n",
       "    <tr>\n",
       "      <th>80</th>\n",
       "      <td>pub_rec_bankruptcies</td>\n",
       "      <td>556.470581</td>\n",
       "      <td>0.003986</td>\n",
       "      <td>0.000509</td>\n",
       "    </tr>\n",
       "    <tr>\n",
       "      <th>81</th>\n",
       "      <td>open_il_24m</td>\n",
       "      <td>506.196472</td>\n",
       "      <td>0.003625</td>\n",
       "      <td>0.000463</td>\n",
       "    </tr>\n",
       "    <tr>\n",
       "      <th>82</th>\n",
       "      <td>il_util</td>\n",
       "      <td>493.724213</td>\n",
       "      <td>0.003536</td>\n",
       "      <td>0.000451</td>\n",
       "    </tr>\n",
       "    <tr>\n",
       "      <th>83</th>\n",
       "      <td>inq_fi</td>\n",
       "      <td>491.400970</td>\n",
       "      <td>0.003519</td>\n",
       "      <td>0.000449</td>\n",
       "    </tr>\n",
       "    <tr>\n",
       "      <th>84</th>\n",
       "      <td>total_bal_il</td>\n",
       "      <td>480.682281</td>\n",
       "      <td>0.003443</td>\n",
       "      <td>0.000439</td>\n",
       "    </tr>\n",
       "    <tr>\n",
       "      <th>85</th>\n",
       "      <td>pub_rec</td>\n",
       "      <td>479.890259</td>\n",
       "      <td>0.003437</td>\n",
       "      <td>0.000439</td>\n",
       "    </tr>\n",
       "    <tr>\n",
       "      <th>86</th>\n",
       "      <td>open_rv_12m</td>\n",
       "      <td>456.989594</td>\n",
       "      <td>0.003273</td>\n",
       "      <td>0.000418</td>\n",
       "    </tr>\n",
       "    <tr>\n",
       "      <th>87</th>\n",
       "      <td>open_rv_24m</td>\n",
       "      <td>450.386810</td>\n",
       "      <td>0.003226</td>\n",
       "      <td>0.000412</td>\n",
       "    </tr>\n",
       "    <tr>\n",
       "      <th>88</th>\n",
       "      <td>open_il_6m</td>\n",
       "      <td>442.425018</td>\n",
       "      <td>0.003169</td>\n",
       "      <td>0.000404</td>\n",
       "    </tr>\n",
       "    <tr>\n",
       "      <th>89</th>\n",
       "      <td>open_acc_6m</td>\n",
       "      <td>441.980682</td>\n",
       "      <td>0.003166</td>\n",
       "      <td>0.000404</td>\n",
       "    </tr>\n",
       "    <tr>\n",
       "      <th>90</th>\n",
       "      <td>open_il_12m</td>\n",
       "      <td>430.060333</td>\n",
       "      <td>0.003080</td>\n",
       "      <td>0.000393</td>\n",
       "    </tr>\n",
       "    <tr>\n",
       "      <th>91</th>\n",
       "      <td>mths_since_rcnt_il</td>\n",
       "      <td>427.872620</td>\n",
       "      <td>0.003064</td>\n",
       "      <td>0.000391</td>\n",
       "    </tr>\n",
       "    <tr>\n",
       "      <th>92</th>\n",
       "      <td>total_cu_tl</td>\n",
       "      <td>414.701843</td>\n",
       "      <td>0.002970</td>\n",
       "      <td>0.000379</td>\n",
       "    </tr>\n",
       "    <tr>\n",
       "      <th>93</th>\n",
       "      <td>num_tl_90g_dpd_24m</td>\n",
       "      <td>391.542480</td>\n",
       "      <td>0.002804</td>\n",
       "      <td>0.000358</td>\n",
       "    </tr>\n",
       "    <tr>\n",
       "      <th>94</th>\n",
       "      <td>tot_coll_amt</td>\n",
       "      <td>375.590912</td>\n",
       "      <td>0.002690</td>\n",
       "      <td>0.000343</td>\n",
       "    </tr>\n",
       "    <tr>\n",
       "      <th>95</th>\n",
       "      <td>tax_liens</td>\n",
       "      <td>335.772430</td>\n",
       "      <td>0.002405</td>\n",
       "      <td>0.000307</td>\n",
       "    </tr>\n",
       "    <tr>\n",
       "      <th>96</th>\n",
       "      <td>collections_12_mths_ex_med</td>\n",
       "      <td>239.152084</td>\n",
       "      <td>0.001713</td>\n",
       "      <td>0.000219</td>\n",
       "    </tr>\n",
       "    <tr>\n",
       "      <th>97</th>\n",
       "      <td>num_tl_120dpd_2m</td>\n",
       "      <td>232.332016</td>\n",
       "      <td>0.001664</td>\n",
       "      <td>0.000212</td>\n",
       "    </tr>\n",
       "    <tr>\n",
       "      <th>98</th>\n",
       "      <td>chargeoff_within_12_mths</td>\n",
       "      <td>173.866974</td>\n",
       "      <td>0.001245</td>\n",
       "      <td>0.000159</td>\n",
       "    </tr>\n",
       "    <tr>\n",
       "      <th>99</th>\n",
       "      <td>acc_now_delinq</td>\n",
       "      <td>153.281082</td>\n",
       "      <td>0.001098</td>\n",
       "      <td>0.000140</td>\n",
       "    </tr>\n",
       "    <tr>\n",
       "      <th>100</th>\n",
       "      <td>num_tl_30dpd</td>\n",
       "      <td>96.181099</td>\n",
       "      <td>0.000689</td>\n",
       "      <td>0.000088</td>\n",
       "    </tr>\n",
       "    <tr>\n",
       "      <th>101</th>\n",
       "      <td>dti_joint</td>\n",
       "      <td>95.479080</td>\n",
       "      <td>0.000684</td>\n",
       "      <td>0.000087</td>\n",
       "    </tr>\n",
       "    <tr>\n",
       "      <th>102</th>\n",
       "      <td>annual_inc_joint</td>\n",
       "      <td>94.801254</td>\n",
       "      <td>0.000679</td>\n",
       "      <td>0.000087</td>\n",
       "    </tr>\n",
       "    <tr>\n",
       "      <th>103</th>\n",
       "      <td>verification_status_joint</td>\n",
       "      <td>67.281380</td>\n",
       "      <td>0.000482</td>\n",
       "      <td>0.000062</td>\n",
       "    </tr>\n",
       "    <tr>\n",
       "      <th>104</th>\n",
       "      <td>delinq_amnt</td>\n",
       "      <td>58.863087</td>\n",
       "      <td>0.000422</td>\n",
       "      <td>0.000054</td>\n",
       "    </tr>\n",
       "    <tr>\n",
       "      <th>105</th>\n",
       "      <td>application_type</td>\n",
       "      <td>26.628716</td>\n",
       "      <td>0.000191</td>\n",
       "      <td>0.000024</td>\n",
       "    </tr>\n",
       "    <tr>\n",
       "      <th>106</th>\n",
       "      <td>pymnt_plan</td>\n",
       "      <td>10.570282</td>\n",
       "      <td>0.000076</td>\n",
       "      <td>0.000010</td>\n",
       "    </tr>\n",
       "  </tbody>\n",
       "</table>\n",
       "<p>107 rows × 4 columns</p>\n",
       "</div>"
      ],
      "text/plain": [
       "                       variable  relative_importance  scaled_importance  \\\n",
       "0               total_rec_prncp        139622.453125           1.000000   \n",
       "1               last_pymnt_amnt         92141.867188           0.659936   \n",
       "2                 out_prncp_inv         84115.117188           0.602447   \n",
       "3                  next_pymnt_d         78315.789062           0.560911   \n",
       "4                     out_prncp         77889.882812           0.557861   \n",
       "5               tot_fee_per_mth         72328.851562           0.518032   \n",
       "6                   total_pymnt         50985.519531           0.365167   \n",
       "7               total_pymnt_inv         44794.917969           0.320829   \n",
       "8                   service_fee         42231.429688           0.302469   \n",
       "9              orig_fee_per_mth         35970.140625           0.257624   \n",
       "10                  installment         34830.894531           0.249465   \n",
       "11                     orig_fee         30553.505859           0.218829   \n",
       "12                  funded_amnt         30171.212891           0.216091   \n",
       "13              funded_amnt_inv         29709.048828           0.212781   \n",
       "14                    loan_amnt         21321.197266           0.152706   \n",
       "15                   addr_state         18388.003906           0.131698   \n",
       "16                    sub_grade         17724.841797           0.126948   \n",
       "17           last_credit_pull_d         16096.324219           0.115285   \n",
       "18           total_rec_late_fee         13439.278320           0.096254   \n",
       "19                     int_rate         13014.739258           0.093214   \n",
       "20                total_rec_int         10415.235352           0.074596   \n",
       "21                        grade          8542.287109           0.061181   \n",
       "22                   emp_length          6851.201660           0.049069   \n",
       "23                      issue_d          6183.666992           0.044288   \n",
       "24                        month          5516.069824           0.039507   \n",
       "25                    orig_rate          4834.704590           0.034627   \n",
       "26                    emp_title          4812.592773           0.034469   \n",
       "27                       term_n          3534.017578           0.025311   \n",
       "28        mths_since_recent_inq          3016.428711           0.021604   \n",
       "29         acc_open_past_24mths          2956.545166           0.021175   \n",
       "..                          ...                  ...                ...   \n",
       "77                     all_util           718.521667           0.005146   \n",
       "78                   max_bal_bc           609.681763           0.004367   \n",
       "79                 inq_last_12m           588.718872           0.004217   \n",
       "80         pub_rec_bankruptcies           556.470581           0.003986   \n",
       "81                  open_il_24m           506.196472           0.003625   \n",
       "82                      il_util           493.724213           0.003536   \n",
       "83                       inq_fi           491.400970           0.003519   \n",
       "84                 total_bal_il           480.682281           0.003443   \n",
       "85                      pub_rec           479.890259           0.003437   \n",
       "86                  open_rv_12m           456.989594           0.003273   \n",
       "87                  open_rv_24m           450.386810           0.003226   \n",
       "88                   open_il_6m           442.425018           0.003169   \n",
       "89                  open_acc_6m           441.980682           0.003166   \n",
       "90                  open_il_12m           430.060333           0.003080   \n",
       "91           mths_since_rcnt_il           427.872620           0.003064   \n",
       "92                  total_cu_tl           414.701843           0.002970   \n",
       "93           num_tl_90g_dpd_24m           391.542480           0.002804   \n",
       "94                 tot_coll_amt           375.590912           0.002690   \n",
       "95                    tax_liens           335.772430           0.002405   \n",
       "96   collections_12_mths_ex_med           239.152084           0.001713   \n",
       "97             num_tl_120dpd_2m           232.332016           0.001664   \n",
       "98     chargeoff_within_12_mths           173.866974           0.001245   \n",
       "99               acc_now_delinq           153.281082           0.001098   \n",
       "100                num_tl_30dpd            96.181099           0.000689   \n",
       "101                   dti_joint            95.479080           0.000684   \n",
       "102            annual_inc_joint            94.801254           0.000679   \n",
       "103   verification_status_joint            67.281380           0.000482   \n",
       "104                 delinq_amnt            58.863087           0.000422   \n",
       "105            application_type            26.628716           0.000191   \n",
       "106                  pymnt_plan            10.570282           0.000076   \n",
       "\n",
       "     percentage  \n",
       "0      0.127649  \n",
       "1      0.084240  \n",
       "2      0.076902  \n",
       "3      0.071600  \n",
       "4      0.071210  \n",
       "5      0.066126  \n",
       "6      0.046613  \n",
       "7      0.040954  \n",
       "8      0.038610  \n",
       "9      0.032886  \n",
       "10     0.031844  \n",
       "11     0.027933  \n",
       "12     0.027584  \n",
       "13     0.027161  \n",
       "14     0.019493  \n",
       "15     0.016811  \n",
       "16     0.016205  \n",
       "17     0.014716  \n",
       "18     0.012287  \n",
       "19     0.011899  \n",
       "20     0.009522  \n",
       "21     0.007810  \n",
       "22     0.006264  \n",
       "23     0.005653  \n",
       "24     0.005043  \n",
       "25     0.004420  \n",
       "26     0.004400  \n",
       "27     0.003231  \n",
       "28     0.002758  \n",
       "29     0.002703  \n",
       "..          ...  \n",
       "77     0.000657  \n",
       "78     0.000557  \n",
       "79     0.000538  \n",
       "80     0.000509  \n",
       "81     0.000463  \n",
       "82     0.000451  \n",
       "83     0.000449  \n",
       "84     0.000439  \n",
       "85     0.000439  \n",
       "86     0.000418  \n",
       "87     0.000412  \n",
       "88     0.000404  \n",
       "89     0.000404  \n",
       "90     0.000393  \n",
       "91     0.000391  \n",
       "92     0.000379  \n",
       "93     0.000358  \n",
       "94     0.000343  \n",
       "95     0.000307  \n",
       "96     0.000219  \n",
       "97     0.000212  \n",
       "98     0.000159  \n",
       "99     0.000140  \n",
       "100    0.000088  \n",
       "101    0.000087  \n",
       "102    0.000087  \n",
       "103    0.000062  \n",
       "104    0.000054  \n",
       "105    0.000024  \n",
       "106    0.000010  \n",
       "\n",
       "[107 rows x 4 columns]"
      ]
     },
     "execution_count": 12,
     "metadata": {},
     "output_type": "execute_result"
    }
   ],
   "source": [
    "#rank the variable importance for prediction\n",
    "rf.varimp(use_pandas=True)"
   ]
  },
  {
   "cell_type": "code",
   "execution_count": 13,
   "metadata": {
    "collapsed": false
   },
   "outputs": [
    {
     "name": "stdout",
     "output_type": "stream",
     "text": [
      "drf prediction progress: |████████████████████████████████████████████████| 100%\n"
     ]
    }
   ],
   "source": [
    "rf_validation2_pred = rf.predict(validation2)"
   ]
  },
  {
   "cell_type": "code",
   "execution_count": 14,
   "metadata": {
    "collapsed": false
   },
   "outputs": [
    {
     "data": {
      "text/html": [
       "<table>\n",
       "<thead>\n",
       "<tr><th style=\"text-align: right;\">  predict</th><th style=\"text-align: right;\">        p0</th><th style=\"text-align: right;\">      p1</th></tr>\n",
       "</thead>\n",
       "<tbody>\n",
       "<tr><td style=\"text-align: right;\">        1</td><td style=\"text-align: right;\">0.0576312 </td><td style=\"text-align: right;\">0.942369</td></tr>\n",
       "<tr><td style=\"text-align: right;\">        1</td><td style=\"text-align: right;\">0.00569459</td><td style=\"text-align: right;\">0.994305</td></tr>\n",
       "<tr><td style=\"text-align: right;\">        1</td><td style=\"text-align: right;\">0.0311223 </td><td style=\"text-align: right;\">0.968878</td></tr>\n",
       "<tr><td style=\"text-align: right;\">        0</td><td style=\"text-align: right;\">0.895027  </td><td style=\"text-align: right;\">0.104973</td></tr>\n",
       "<tr><td style=\"text-align: right;\">        1</td><td style=\"text-align: right;\">0.0727608 </td><td style=\"text-align: right;\">0.927239</td></tr>\n",
       "</tbody>\n",
       "</table>"
      ]
     },
     "metadata": {},
     "output_type": "display_data"
    },
    {
     "data": {
      "text/plain": []
     },
     "execution_count": 14,
     "metadata": {},
     "output_type": "execute_result"
    }
   ],
   "source": [
    "rf_validation2_pred.head(5)"
   ]
  },
  {
   "cell_type": "code",
   "execution_count": 16,
   "metadata": {
    "collapsed": false
   },
   "outputs": [
    {
     "data": {
      "text/plain": [
       "[[0.8032641772880472, 0.9903731818916888]]"
      ]
     },
     "execution_count": 16,
     "metadata": {},
     "output_type": "execute_result"
    }
   ],
   "source": [
    "\n",
    "# Accuracy returns the accuracy for this binomial model.\n",
    "rf.model_performance(validation2).accuracy()"
   ]
  },
  {
   "cell_type": "code",
   "execution_count": 21,
   "metadata": {
    "collapsed": false
   },
   "outputs": [
    {
     "data": {
      "text/plain": [
       "0.9975402147401694"
      ]
     },
     "execution_count": 21,
     "metadata": {},
     "output_type": "execute_result"
    }
   ],
   "source": [
    "rf.model_performance(validation2).auc()"
   ]
  },
  {
   "cell_type": "code",
   "execution_count": 17,
   "metadata": {
    "collapsed": false
   },
   "outputs": [
    {
     "name": "stdout",
     "output_type": "stream",
     "text": [
      "drf Grid Build progress: |████████████████████████████████████████████████| 100%\n",
      "    max_depth ntrees  \\\n",
      "0          10     10   \n",
      "1          20     10   \n",
      "\n",
      "                                                  model_ids  \\\n",
      "0  Grid_DRF_train.hex_model_python_1494807395127_19_model_1   \n",
      "1  Grid_DRF_train.hex_model_python_1494807395127_19_model_0   \n",
      "\n",
      "               logloss  \n",
      "0  0.16390560878273117  \n",
      "1  0.23605381010370996  \n"
     ]
    }
   ],
   "source": [
    "hyper_parameters ={'ntrees':[10,50], 'max_depth':[20,10]}\n",
    "grid_search = H2OGridSearch(H2ORandomForestEstimator, hyper_params=hyper_parameters)\n",
    "grid_search.train(x=features,y=response, training_frame=train)\n",
    "grid_search.show()"
   ]
  },
  {
   "cell_type": "markdown",
   "metadata": {},
   "source": [
    "#### Theoretically I should do the grid search smaller and bigger than the current hyperparameters  used in the previous model. However, a higher tree number makes my computer crash. So here I just provide some conceptual process for modeling. We could get the model performance with validation2 data set from the above grid search in H2O Flow UI: with AUC 0.982444, 0.944324, 0.995557, 0.914093.\n",
    "#### Thus the first model has the best performance and we would like to choose that one."
   ]
  },
  {
   "cell_type": "code",
   "execution_count": 249,
   "metadata": {
    "collapsed": false
   },
   "outputs": [
    {
     "data": {
      "text/plain": [
       "dtype('int64')"
      ]
     },
     "execution_count": 249,
     "metadata": {},
     "output_type": "execute_result"
    }
   ],
   "source": [
    "df.delinq_2yrs.dtypes"
   ]
  },
  {
   "cell_type": "code",
   "execution_count": 244,
   "metadata": {
    "collapsed": false
   },
   "outputs": [
    {
     "data": {
      "text/plain": [
       "0     346680\n",
       "1      60215\n",
       "2       9230\n",
       "3       2876\n",
       "4       1044\n",
       "5        481\n",
       "6        249\n",
       "7        108\n",
       "8         84\n",
       "9         34\n",
       "10        29\n",
       "11        15\n",
       "12        14\n",
       "13        10\n",
       "15         5\n",
       "16         4\n",
       "18         3\n",
       "21         3\n",
       "17         2\n",
       "49         1\n",
       "14         1\n",
       "19         1\n",
       "20         1\n",
       "22         1\n",
       "23         1\n",
       "26         1\n",
       "28         1\n",
       "86         1\n",
       "Name: pub_rec, dtype: int64"
      ]
     },
     "execution_count": 244,
     "metadata": {},
     "output_type": "execute_result"
    }
   ],
   "source": [
    "df.pub_rec.value_counts()\n",
    "df['pub_rec']=[ ]"
   ]
  },
  {
   "cell_type": "code",
   "execution_count": null,
   "metadata": {
    "collapsed": true
   },
   "outputs": [],
   "source": []
  },
  {
   "cell_type": "code",
   "execution_count": 259,
   "metadata": {
    "collapsed": false
   },
   "outputs": [
    {
     "data": {
      "text/plain": [
       "Debt consolidation                         249926\n",
       "Credit card refinancing                    102056\n",
       "Home improvement                            25264\n",
       "Other                                       19179\n",
       "Major purchase                               7434\n",
       "Medical expenses                             3926\n",
       "Car financing                                3475\n",
       "Business                                     3357\n",
       "Moving and relocation                        2422\n",
       "Vacation                                     2246\n",
       "Home buying                                  1440\n",
       "Green loan                                    223\n",
       "Simple Loan Until Contract Is Completed         1\n",
       "odymeds                                         1\n",
       "Prescription Drug and Medical Costs             1\n",
       "SAVE                                            1\n",
       "new kitchen for momma!                          1\n",
       "new day                                         1\n",
       "Pay off Lowes Card                              1\n",
       "New Baby and New House (CC Consolidate)         1\n",
       "considerate                                     1\n",
       "Student Loan                                    1\n",
       "Learning and training                           1\n",
       "Credit Card/Auto Repair                         1\n",
       "Trying to come back to reality!                 1\n",
       "Paying off higher interest cards & auto         1\n",
       "DebtC                                           1\n",
       "Name: title, dtype: int64"
      ]
     },
     "execution_count": 259,
     "metadata": {},
     "output_type": "execute_result"
    }
   ],
   "source": [
    "df.title.value_counts()"
   ]
  },
  {
   "cell_type": "code",
   "execution_count": 269,
   "metadata": {
    "collapsed": false
   },
   "outputs": [
    {
     "ename": "KeyboardInterrupt",
     "evalue": "",
     "output_type": "error",
     "traceback": [
      "\u001b[0;31m---------------------------------------------------------------------------\u001b[0m",
      "\u001b[0;31mKeyboardInterrupt\u001b[0m                         Traceback (most recent call last)",
      "\u001b[0;32m<ipython-input-269-1957bc6d0ea0>\u001b[0m in \u001b[0;36m<module>\u001b[0;34m()\u001b[0m\n\u001b[1;32m      1\u001b[0m \u001b[0mdf_title\u001b[0m \u001b[1;33m=\u001b[0m \u001b[0mdf\u001b[0m\u001b[1;33m[\u001b[0m\u001b[0mdf\u001b[0m\u001b[1;33m[\u001b[0m\u001b[1;34m'title'\u001b[0m\u001b[1;33m]\u001b[0m\u001b[1;33m.\u001b[0m\u001b[0misin\u001b[0m\u001b[1;33m(\u001b[0m\u001b[0mtitle_list\u001b[0m\u001b[1;33m)\u001b[0m\u001b[1;33m]\u001b[0m\u001b[1;33m\u001b[0m\u001b[0m\n\u001b[1;32m      2\u001b[0m \u001b[0max\u001b[0m \u001b[1;33m=\u001b[0m \u001b[0mplt\u001b[0m\u001b[1;33m.\u001b[0m\u001b[0maxes\u001b[0m\u001b[1;33m(\u001b[0m\u001b[1;33m)\u001b[0m\u001b[1;33m\u001b[0m\u001b[0m\n\u001b[0;32m----> 3\u001b[0;31m \u001b[0msns\u001b[0m\u001b[1;33m.\u001b[0m\u001b[0mbarplot\u001b[0m\u001b[1;33m(\u001b[0m\u001b[0mx\u001b[0m\u001b[1;33m=\u001b[0m\u001b[1;34m'tot_fee_per_mth'\u001b[0m\u001b[1;33m,\u001b[0m \u001b[0my\u001b[0m\u001b[1;33m=\u001b[0m\u001b[1;34m'month'\u001b[0m\u001b[1;33m,\u001b[0m \u001b[0mdata\u001b[0m\u001b[1;33m=\u001b[0m\u001b[0mdf_title\u001b[0m\u001b[1;33m)\u001b[0m\u001b[1;33m\u001b[0m\u001b[0m\n\u001b[0m\u001b[1;32m      4\u001b[0m \u001b[0mplt\u001b[0m\u001b[1;33m.\u001b[0m\u001b[0mtitle\u001b[0m\u001b[1;33m(\u001b[0m\u001b[1;34m'Fig 9 Average Total Fee per Month Distribution by month'\u001b[0m\u001b[1;33m)\u001b[0m\u001b[1;33m\u001b[0m\u001b[0m\n\u001b[1;32m      5\u001b[0m \u001b[0mplt\u001b[0m\u001b[1;33m.\u001b[0m\u001b[0mshow\u001b[0m\u001b[1;33m(\u001b[0m\u001b[1;33m)\u001b[0m\u001b[1;33m\u001b[0m\u001b[0m\n",
      "\u001b[0;32mC:\\Users\\Chao Cheng\\Anaconda2\\lib\\site-packages\\seaborn\\categorical.py\u001b[0m in \u001b[0;36mbarplot\u001b[0;34m(x, y, hue, data, order, hue_order, estimator, ci, n_boot, units, orient, color, palette, saturation, errcolor, errwidth, capsize, ax, **kwargs)\u001b[0m\n\u001b[1;32m   2897\u001b[0m                           \u001b[0mestimator\u001b[0m\u001b[1;33m,\u001b[0m \u001b[0mci\u001b[0m\u001b[1;33m,\u001b[0m \u001b[0mn_boot\u001b[0m\u001b[1;33m,\u001b[0m \u001b[0munits\u001b[0m\u001b[1;33m,\u001b[0m\u001b[1;33m\u001b[0m\u001b[0m\n\u001b[1;32m   2898\u001b[0m                           \u001b[0morient\u001b[0m\u001b[1;33m,\u001b[0m \u001b[0mcolor\u001b[0m\u001b[1;33m,\u001b[0m \u001b[0mpalette\u001b[0m\u001b[1;33m,\u001b[0m \u001b[0msaturation\u001b[0m\u001b[1;33m,\u001b[0m\u001b[1;33m\u001b[0m\u001b[0m\n\u001b[0;32m-> 2899\u001b[0;31m                           errcolor, errwidth, capsize)\n\u001b[0m\u001b[1;32m   2900\u001b[0m \u001b[1;33m\u001b[0m\u001b[0m\n\u001b[1;32m   2901\u001b[0m     \u001b[1;32mif\u001b[0m \u001b[0max\u001b[0m \u001b[1;32mis\u001b[0m \u001b[0mNone\u001b[0m\u001b[1;33m:\u001b[0m\u001b[1;33m\u001b[0m\u001b[0m\n",
      "\u001b[0;32mC:\\Users\\Chao Cheng\\Anaconda2\\lib\\site-packages\\seaborn\\categorical.py\u001b[0m in \u001b[0;36m__init__\u001b[0;34m(self, x, y, hue, data, order, hue_order, estimator, ci, n_boot, units, orient, color, palette, saturation, errcolor, errwidth, capsize)\u001b[0m\n\u001b[1;32m   1543\u001b[0m                                  order, hue_order, units)\n\u001b[1;32m   1544\u001b[0m         \u001b[0mself\u001b[0m\u001b[1;33m.\u001b[0m\u001b[0mestablish_colors\u001b[0m\u001b[1;33m(\u001b[0m\u001b[0mcolor\u001b[0m\u001b[1;33m,\u001b[0m \u001b[0mpalette\u001b[0m\u001b[1;33m,\u001b[0m \u001b[0msaturation\u001b[0m\u001b[1;33m)\u001b[0m\u001b[1;33m\u001b[0m\u001b[0m\n\u001b[0;32m-> 1545\u001b[0;31m         \u001b[0mself\u001b[0m\u001b[1;33m.\u001b[0m\u001b[0mestimate_statistic\u001b[0m\u001b[1;33m(\u001b[0m\u001b[0mestimator\u001b[0m\u001b[1;33m,\u001b[0m \u001b[0mci\u001b[0m\u001b[1;33m,\u001b[0m \u001b[0mn_boot\u001b[0m\u001b[1;33m)\u001b[0m\u001b[1;33m\u001b[0m\u001b[0m\n\u001b[0m\u001b[1;32m   1546\u001b[0m \u001b[1;33m\u001b[0m\u001b[0m\n\u001b[1;32m   1547\u001b[0m         \u001b[0mself\u001b[0m\u001b[1;33m.\u001b[0m\u001b[0merrcolor\u001b[0m \u001b[1;33m=\u001b[0m \u001b[0merrcolor\u001b[0m\u001b[1;33m\u001b[0m\u001b[0m\n",
      "\u001b[0;32mC:\\Users\\Chao Cheng\\Anaconda2\\lib\\site-packages\\seaborn\\categorical.py\u001b[0m in \u001b[0;36mestimate_statistic\u001b[0;34m(self, estimator, ci, n_boot)\u001b[0m\n\u001b[1;32m   1449\u001b[0m                     boots = bootstrap(stat_data, func=estimator,\n\u001b[1;32m   1450\u001b[0m                                       \u001b[0mn_boot\u001b[0m\u001b[1;33m=\u001b[0m\u001b[0mn_boot\u001b[0m\u001b[1;33m,\u001b[0m\u001b[1;33m\u001b[0m\u001b[0m\n\u001b[0;32m-> 1451\u001b[0;31m                                       units=unit_data)\n\u001b[0m\u001b[1;32m   1452\u001b[0m                     \u001b[0mconfint\u001b[0m\u001b[1;33m.\u001b[0m\u001b[0mappend\u001b[0m\u001b[1;33m(\u001b[0m\u001b[0mutils\u001b[0m\u001b[1;33m.\u001b[0m\u001b[0mci\u001b[0m\u001b[1;33m(\u001b[0m\u001b[0mboots\u001b[0m\u001b[1;33m,\u001b[0m \u001b[0mci\u001b[0m\u001b[1;33m)\u001b[0m\u001b[1;33m)\u001b[0m\u001b[1;33m\u001b[0m\u001b[0m\n\u001b[1;32m   1453\u001b[0m \u001b[1;33m\u001b[0m\u001b[0m\n",
      "\u001b[0;32mC:\\Users\\Chao Cheng\\Anaconda2\\lib\\site-packages\\seaborn\\algorithms.py\u001b[0m in \u001b[0;36mbootstrap\u001b[0;34m(*args, **kwargs)\u001b[0m\n\u001b[1;32m     72\u001b[0m     \u001b[0mboot_dist\u001b[0m \u001b[1;33m=\u001b[0m \u001b[1;33m[\u001b[0m\u001b[1;33m]\u001b[0m\u001b[1;33m\u001b[0m\u001b[0m\n\u001b[1;32m     73\u001b[0m     \u001b[1;32mfor\u001b[0m \u001b[0mi\u001b[0m \u001b[1;32min\u001b[0m \u001b[0mrange\u001b[0m\u001b[1;33m(\u001b[0m\u001b[0mint\u001b[0m\u001b[1;33m(\u001b[0m\u001b[0mn_boot\u001b[0m\u001b[1;33m)\u001b[0m\u001b[1;33m)\u001b[0m\u001b[1;33m:\u001b[0m\u001b[1;33m\u001b[0m\u001b[0m\n\u001b[0;32m---> 74\u001b[0;31m         \u001b[0mresampler\u001b[0m \u001b[1;33m=\u001b[0m \u001b[0mrs\u001b[0m\u001b[1;33m.\u001b[0m\u001b[0mrandint\u001b[0m\u001b[1;33m(\u001b[0m\u001b[1;36m0\u001b[0m\u001b[1;33m,\u001b[0m \u001b[0mn\u001b[0m\u001b[1;33m,\u001b[0m \u001b[0mn\u001b[0m\u001b[1;33m)\u001b[0m\u001b[1;33m\u001b[0m\u001b[0m\n\u001b[0m\u001b[1;32m     75\u001b[0m         \u001b[0msample\u001b[0m \u001b[1;33m=\u001b[0m \u001b[1;33m[\u001b[0m\u001b[0ma\u001b[0m\u001b[1;33m.\u001b[0m\u001b[0mtake\u001b[0m\u001b[1;33m(\u001b[0m\u001b[0mresampler\u001b[0m\u001b[1;33m,\u001b[0m \u001b[0maxis\u001b[0m\u001b[1;33m=\u001b[0m\u001b[1;36m0\u001b[0m\u001b[1;33m)\u001b[0m \u001b[1;32mfor\u001b[0m \u001b[0ma\u001b[0m \u001b[1;32min\u001b[0m \u001b[0margs\u001b[0m\u001b[1;33m]\u001b[0m\u001b[1;33m\u001b[0m\u001b[0m\n\u001b[1;32m     76\u001b[0m         \u001b[0mboot_dist\u001b[0m\u001b[1;33m.\u001b[0m\u001b[0mappend\u001b[0m\u001b[1;33m(\u001b[0m\u001b[0mfunc\u001b[0m\u001b[1;33m(\u001b[0m\u001b[1;33m*\u001b[0m\u001b[0msample\u001b[0m\u001b[1;33m,\u001b[0m \u001b[1;33m**\u001b[0m\u001b[0mfunc_kwargs\u001b[0m\u001b[1;33m)\u001b[0m\u001b[1;33m)\u001b[0m\u001b[1;33m\u001b[0m\u001b[0m\n",
      "\u001b[0;31mKeyboardInterrupt\u001b[0m: "
     ]
    },
    {
     "data": {
      "image/png": "[encoded data removed]",
      "text/plain": [
       "<matplotlib.figure.Figure at 0x2b4c2588>"
      ]
     },
     "metadata": {},
     "output_type": "display_data"
    }
   ],
   "source": [
    "df_title = df[df['title'].isin(title_list)]\n",
    "ax = plt.axes()\n",
    "sns.barplot(x='tot_fee_per_mth', y='month', data=df_title)\n",
    "plt.title('Fig 9 Average Total Fee per Month Distribution by month')\n",
    "plt.show()"
   ]
  },
  {
   "cell_type": "code",
   "execution_count": 173,
   "metadata": {
    "collapsed": false
   },
   "outputs": [
    {
     "data": {
      "text/plain": [
       "id                              int64\n",
       "member_id                       int64\n",
       "loan_amnt                       int64\n",
       "funded_amnt                     int64\n",
       "funded_amnt_inv               float64\n",
       "term                           object\n",
       "int_rate                       object\n",
       "installment                   float64\n",
       "grade                          object\n",
       "sub_grade                      object\n",
       "emp_title                      object\n",
       "emp_length                     object\n",
       "home_ownership                 object\n",
       "annual_inc                    float64\n",
       "verification_status            object\n",
       "issue_d                        object\n",
       "loan_status                    object\n",
       "pymnt_plan                     object\n",
       "url                            object\n",
       "desc                           object\n",
       "purpose                        object\n",
       "title                          object\n",
       "zip_code                       object\n",
       "addr_state                     object\n",
       "dti                           float64\n",
       "delinq_2yrs                     int64\n",
       "earliest_cr_line               object\n",
       "inq_last_6mths                  int64\n",
       "mths_since_last_delinq        float64\n",
       "mths_since_last_record        float64\n",
       "                               ...   \n",
       "num_bc_sats                     int64\n",
       "num_bc_tl                       int64\n",
       "num_il_tl                       int64\n",
       "num_op_rev_tl                   int64\n",
       "num_rev_accts                 float64\n",
       "num_rev_tl_bal_gt_0             int64\n",
       "num_sats                        int64\n",
       "num_tl_120dpd_2m              float64\n",
       "num_tl_30dpd                    int64\n",
       "num_tl_90g_dpd_24m              int64\n",
       "num_tl_op_past_12m              int64\n",
       "pct_tl_nvr_dlq                float64\n",
       "percent_bc_gt_75              float64\n",
       "pub_rec_bankruptcies            int64\n",
       "tax_liens                       int64\n",
       "tot_hi_cred_lim                 int64\n",
       "total_bal_ex_mort               int64\n",
       "total_bc_limit                  int64\n",
       "total_il_high_credit_limit      int64\n",
       "month                           int64\n",
       "term_n                          int64\n",
       "orig_rate                     float64\n",
       "orig_fee                      float64\n",
       "orig_fee_per_mth              float64\n",
       "service_fee                   float64\n",
       "good                            int64\n",
       "lmth_service_fee              float64\n",
       "tot_fee_per_mth               float64\n",
       "Current_ind                     int64\n",
       "income_level                    int64\n",
       "dtype: object"
      ]
     },
     "execution_count": 173,
     "metadata": {},
     "output_type": "execute_result"
    }
   ],
   "source": [
    "df.dtypes"
   ]
  },
  {
   "cell_type": "code",
   "execution_count": 177,
   "metadata": {
    "collapsed": false
   },
   "outputs": [
    {
     "data": {
      "text/plain": [
       "10+ years    141521\n",
       "2 years       37497\n",
       "< 1 year      34340\n",
       "3 years       33430\n",
       "1 year        27473\n",
       "5 years       24930\n",
       "4 years       24506\n",
       "n/a           23817\n",
       "8 years       21560\n",
       "7 years       18414\n",
       "6 years       16838\n",
       "9 years       16769\n",
       "Name: emp_length, dtype: int64"
      ]
     },
     "execution_count": 177,
     "metadata": {},
     "output_type": "execute_result"
    }
   ],
   "source": [
    "df.emp_length.value_counts()"
   ]
  },
  {
   "cell_type": "code",
   "execution_count": 267,
   "metadata": {
    "collapsed": false
   },
   "outputs": [
    {
     "data": {
      "text/plain": [
       "Debt consolidation         249926\n",
       "Credit card refinancing    102056\n",
       "Home improvement            25264\n",
       "Other                       19179\n",
       "Major purchase               7434\n",
       "Medical expenses             3926\n",
       "Car financing                3475\n",
       "Business                     3357\n",
       "Moving and relocation        2422\n",
       "Vacation                     2246\n",
       "Home buying                  1440\n",
       "Name: title, dtype: int64"
      ]
     },
     "execution_count": 267,
     "metadata": {},
     "output_type": "execute_result"
    }
   ],
   "source": [
    "df_title.title.value_counts()"
   ]
  },
  {
   "cell_type": "code",
   "execution_count": 255,
   "metadata": {
    "collapsed": false
   },
   "outputs": [
    {
     "data": {
      "text/plain": [
       "19.20      303\n",
       "18.00      296\n",
       "21.60      286\n",
       "15.60      285\n",
       "13.20      274\n",
       "14.40      264\n",
       "16.80      264\n",
       "24.00      247\n",
       "17.28      246\n",
       "20.40      244\n",
       "17.76      244\n",
       "19.92      232\n",
       "22.80      232\n",
       "20.16      230\n",
       "17.04      229\n",
       "12.00      227\n",
       "10.80      226\n",
       "14.16      225\n",
       "18.72      223\n",
       "13.68      222\n",
       "18.24      222\n",
       "26.40      219\n",
       "13.92      218\n",
       "19.68      218\n",
       "17.52      218\n",
       "16.08      217\n",
       "21.12      215\n",
       "16.56      215\n",
       "16.32      215\n",
       "17.56      214\n",
       "          ... \n",
       "43.68        1\n",
       "64.99        1\n",
       "0.01         1\n",
       "55.06        1\n",
       "45.78        1\n",
       "89.83        1\n",
       "72.30        1\n",
       "125.25       1\n",
       "47.06        1\n",
       "44.40        1\n",
       "44.52        1\n",
       "1092.52      1\n",
       "41.49        1\n",
       "54.19        1\n",
       "42.28        1\n",
       "54.10        1\n",
       "42.37        1\n",
       "42.04        1\n",
       "40.61        1\n",
       "47.31        1\n",
       "59.19        1\n",
       "380.53       1\n",
       "41.69        1\n",
       "77.06        1\n",
       "48.56        1\n",
       "68.41        1\n",
       "52.80        1\n",
       "41.94        1\n",
       "46.67        1\n",
       "136.97       1\n",
       "Name: dti, dtype: int64"
      ]
     },
     "execution_count": 255,
     "metadata": {},
     "output_type": "execute_result"
    }
   ],
   "source": [
    "df.dti.value_counts()"
   ]
  },
  {
   "cell_type": "code",
   "execution_count": 242,
   "metadata": {
    "collapsed": false
   },
   "outputs": [
    {
     "data": {
      "text/plain": [
       "MORTGAGE    207683\n",
       "RENT        167644\n",
       "OWN          45766\n",
       "ANY              2\n",
       "Name: home_ownership, dtype: int64"
      ]
     },
     "execution_count": 242,
     "metadata": {},
     "output_type": "execute_result"
    }
   ],
   "source": [
    "df.home_ownership.value_counts()"
   ]
  },
  {
   "cell_type": "code",
   "execution_count": 243,
   "metadata": {
    "collapsed": false
   },
   "outputs": [
    {
     "data": {
      "text/plain": [
       "0     417155\n",
       "1       3628\n",
       "2        237\n",
       "3         46\n",
       "4         14\n",
       "5          7\n",
       "6          4\n",
       "7          2\n",
       "10         1\n",
       "9          1\n",
       "Name: chargeoff_within_12_mths, dtype: int64"
      ]
     },
     "execution_count": 243,
     "metadata": {},
     "output_type": "execute_result"
    }
   ],
   "source": [
    "df.chargeoff_within_12_mths.value_counts()\n"
   ]
  },
  {
   "cell_type": "code",
   "execution_count": null,
   "metadata": {
    "collapsed": true
   },
   "outputs": [],
   "source": []
  },
  {
   "cell_type": "code",
   "execution_count": 199,
   "metadata": {
    "collapsed": false
   },
   "outputs": [],
   "source": [
    "df['bad'] = [0 if x=='Current' or x=='Fully Paid' else 1 for x in df['loan_status']]"
   ]
  },
  {
   "cell_type": "code",
   "execution_count": null,
   "metadata": {
    "collapsed": true
   },
   "outputs": [],
   "source": [
    "ax = plt.axes()\n",
    "sns.factorplot(x='grade', y='tot_fee_per_mth', data=df[df['issue_d']=='Oct-2014', col='term', kind='bar',\n",
    "               order = ['A','B','C','D','E','F','G'])\n",
    "ax.set_title('Fig 5 Total Fee per Month Distribution by Grade and Term')\n",
    "plt.show()"
   ]
  },
  {
   "cell_type": "code",
   "execution_count": 272,
   "metadata": {
    "collapsed": false
   },
   "outputs": [],
   "source": []
  },
  {
   "cell_type": "code",
   "execution_count": 258,
   "metadata": {
    "collapsed": false
   },
   "outputs": [
    {
     "data": {
      "image/png": "[encoded data removed]",
      "text/plain": [
       "<matplotlib.figure.Figure at 0x21083710>"
      ]
     },
     "metadata": {},
     "output_type": "display_data"
    }
   ],
   "source": [
    "df['loan_level'] =[5 if x> 30000 else 4 if x>25000  else 3 if x>20000 else 2 if x> 15000  else 2 if x>10000 else 1 if x>5000  else 0 for x in df['loan_amnt']]\n",
    "sns.barplot(x='loan_level', y='tot_fee_per_mth', data=df)\n",
    "ax.set_title('Fig 11 Average Total Fee per Month Distribution by loan level')\n",
    "plt.show()"
   ]
  },
  {
   "cell_type": "code",
   "execution_count": 137,
   "metadata": {
    "collapsed": false
   },
   "outputs": [],
   "source": [
    "df['orig_fee_per_month']=df['orig_fee']/df['term_n']"
   ]
  },
  {
   "cell_type": "code",
   "execution_count": 256,
   "metadata": {
    "collapsed": false,
    "scrolled": true
   },
   "outputs": [
    {
     "data": {
      "text/plain": [
       "<matplotlib.axes._subplots.AxesSubplot at 0x2affce10>"
      ]
     },
     "execution_count": 256,
     "metadata": {},
     "output_type": "execute_result"
    },
    {
     "data": {
      "image/png": "[encoded data removed]",
      "text/plain": [
       "<matplotlib.figure.Figure at 0x113c31978>"
      ]
     },
     "metadata": {},
     "output_type": "display_data"
    }
   ],
   "source": [
    "#take a look at the loan amount distribution\n",
    "sns.distplot(df['loan_amnt'])"
   ]
  },
  {
   "cell_type": "code",
   "execution_count": 142,
   "metadata": {
    "collapsed": false
   },
   "outputs": [
    {
     "data": {
      "text/plain": [
       "<matplotlib.axes._subplots.AxesSubplot at 0x11f4dc160>"
      ]
     },
     "execution_count": 142,
     "metadata": {},
     "output_type": "execute_result"
    },
    {
     "data": {
      "image/png": "[encoded data removed]",
      "text/plain": [
       "<matplotlib.figure.Figure at 0x11f4f3c88>"
      ]
     },
     "metadata": {},
     "output_type": "display_data"
    }
   ],
   "source": [
    "sns.barplot(x='grade', y='orig_fee_per_month', data=df, order = ['A','B','C','D','E','F','G'])"
   ]
  },
  {
   "cell_type": "code",
   "execution_count": 144,
   "metadata": {
    "collapsed": false
   },
   "outputs": [
    {
     "data": {
      "text/plain": [
       "<matplotlib.axes._subplots.AxesSubplot at 0xc919f470>"
      ]
     },
     "execution_count": 144,
     "metadata": {},
     "output_type": "execute_result"
    },
    {
     "data": {
      "image/png": "[encoded data removed]",
      "text/plain": [
       "<matplotlib.figure.Figure at 0x160233588>"
      ]
     },
     "metadata": {},
     "output_type": "display_data"
    }
   ],
   "source": [
    "sns.barplot(x='grade', y='orig_fee_per_month', data=df[df['issue_d']=='Feb-2015'], order = ['A','B','C','D','E','F','G'])"
   ]
  },
  {
   "cell_type": "code",
   "execution_count": null,
   "metadata": {
    "collapsed": true
   },
   "outputs": [],
   "source": []
  },
  {
   "cell_type": "code",
   "execution_count": null,
   "metadata": {
    "collapsed": true
   },
   "outputs": [],
   "source": []
  },
  {
   "cell_type": "code",
   "execution_count": null,
   "metadata": {
    "collapsed": true
   },
   "outputs": [],
   "source": [
    "df['tot_fee_per_month']=df['orig_fee_per_month']+df['lmth_service_fee']"
   ]
  },
  {
   "cell_type": "code",
   "execution_count": 64,
   "metadata": {
    "collapsed": false
   },
   "outputs": [
    {
     "data": {
      "text/plain": [
       "Charged Off    294\n",
       "Name: loan_status, dtype: int64"
      ]
     },
     "execution_count": 64,
     "metadata": {},
     "output_type": "execute_result"
    }
   ],
   "source": [
    "df[df.last_pymnt_amnt==0].loan_status.value_counts()\n"
   ]
  },
  {
   "cell_type": "code",
   "execution_count": 18,
   "metadata": {
    "collapsed": false
   },
   "outputs": [
    {
     "data": {
      "text/plain": [
       "421095"
      ]
     },
     "execution_count": 18,
     "metadata": {},
     "output_type": "execute_result"
    }
   ],
   "source": [
    "len(df['url'].unique())"
   ]
  },
  {
   "cell_type": "code",
   "execution_count": 16,
   "metadata": {
    "collapsed": false
   },
   "outputs": [
    {
     "data": {
      "text/html": [
       "<div>\n",
       "<table border=\"1\" class=\"dataframe\">\n",
       "  <thead>\n",
       "    <tr style=\"text-align: right;\">\n",
       "      <th></th>\n",
       "      <th>id</th>\n",
       "      <th>member_id</th>\n",
       "      <th>loan_amnt</th>\n",
       "      <th>funded_amnt</th>\n",
       "      <th>funded_amnt_inv</th>\n",
       "      <th>installment</th>\n",
       "      <th>annual_inc</th>\n",
       "      <th>dti</th>\n",
       "      <th>delinq_2yrs</th>\n",
       "      <th>inq_last_6mths</th>\n",
       "      <th>mths_since_last_delinq</th>\n",
       "      <th>mths_since_last_record</th>\n",
       "      <th>open_acc</th>\n",
       "      <th>pub_rec</th>\n",
       "      <th>revol_bal</th>\n",
       "      <th>total_acc</th>\n",
       "      <th>out_prncp</th>\n",
       "      <th>out_prncp_inv</th>\n",
       "      <th>total_pymnt</th>\n",
       "      <th>total_pymnt_inv</th>\n",
       "      <th>total_rec_prncp</th>\n",
       "      <th>total_rec_int</th>\n",
       "      <th>total_rec_late_fee</th>\n",
       "      <th>recoveries</th>\n",
       "      <th>collection_recovery_fee</th>\n",
       "      <th>last_pymnt_amnt</th>\n",
       "      <th>collections_12_mths_ex_med</th>\n",
       "      <th>mths_since_last_major_derog</th>\n",
       "      <th>policy_code</th>\n",
       "      <th>annual_inc_joint</th>\n",
       "      <th>dti_joint</th>\n",
       "      <th>acc_now_delinq</th>\n",
       "      <th>tot_coll_amt</th>\n",
       "      <th>tot_cur_bal</th>\n",
       "      <th>open_acc_6m</th>\n",
       "      <th>open_il_6m</th>\n",
       "      <th>open_il_12m</th>\n",
       "      <th>open_il_24m</th>\n",
       "      <th>mths_since_rcnt_il</th>\n",
       "      <th>total_bal_il</th>\n",
       "      <th>il_util</th>\n",
       "      <th>open_rv_12m</th>\n",
       "      <th>open_rv_24m</th>\n",
       "      <th>max_bal_bc</th>\n",
       "      <th>all_util</th>\n",
       "      <th>total_rev_hi_lim</th>\n",
       "      <th>inq_fi</th>\n",
       "      <th>total_cu_tl</th>\n",
       "      <th>inq_last_12m</th>\n",
       "      <th>acc_open_past_24mths</th>\n",
       "      <th>avg_cur_bal</th>\n",
       "      <th>bc_open_to_buy</th>\n",
       "      <th>bc_util</th>\n",
       "      <th>chargeoff_within_12_mths</th>\n",
       "      <th>delinq_amnt</th>\n",
       "      <th>mo_sin_old_il_acct</th>\n",
       "      <th>mo_sin_old_rev_tl_op</th>\n",
       "      <th>mo_sin_rcnt_rev_tl_op</th>\n",
       "      <th>mo_sin_rcnt_tl</th>\n",
       "      <th>mort_acc</th>\n",
       "      <th>mths_since_recent_bc</th>\n",
       "      <th>mths_since_recent_bc_dlq</th>\n",
       "      <th>mths_since_recent_inq</th>\n",
       "      <th>mths_since_recent_revol_delinq</th>\n",
       "      <th>num_accts_ever_120_pd</th>\n",
       "      <th>num_actv_bc_tl</th>\n",
       "      <th>num_actv_rev_tl</th>\n",
       "      <th>num_bc_sats</th>\n",
       "      <th>num_bc_tl</th>\n",
       "      <th>num_il_tl</th>\n",
       "      <th>num_op_rev_tl</th>\n",
       "      <th>num_rev_accts</th>\n",
       "      <th>num_rev_tl_bal_gt_0</th>\n",
       "      <th>num_sats</th>\n",
       "      <th>num_tl_120dpd_2m</th>\n",
       "      <th>num_tl_30dpd</th>\n",
       "      <th>num_tl_90g_dpd_24m</th>\n",
       "      <th>num_tl_op_past_12m</th>\n",
       "      <th>pct_tl_nvr_dlq</th>\n",
       "      <th>percent_bc_gt_75</th>\n",
       "      <th>pub_rec_bankruptcies</th>\n",
       "      <th>tax_liens</th>\n",
       "      <th>tot_hi_cred_lim</th>\n",
       "      <th>total_bal_ex_mort</th>\n",
       "      <th>total_bc_limit</th>\n",
       "      <th>total_il_high_credit_limit</th>\n",
       "    </tr>\n",
       "  </thead>\n",
       "  <tbody>\n",
       "    <tr>\n",
       "      <th>count</th>\n",
       "      <td>4.210950e+05</td>\n",
       "      <td>4.210950e+05</td>\n",
       "      <td>421095.000000</td>\n",
       "      <td>421095.000000</td>\n",
       "      <td>421095.000000</td>\n",
       "      <td>421095.000000</td>\n",
       "      <td>4.210950e+05</td>\n",
       "      <td>421095.000000</td>\n",
       "      <td>421095.000000</td>\n",
       "      <td>421095.000000</td>\n",
       "      <td>217133.000000</td>\n",
       "      <td>74415.000000</td>\n",
       "      <td>421095.000000</td>\n",
       "      <td>421095.000000</td>\n",
       "      <td>4.210950e+05</td>\n",
       "      <td>421095.000000</td>\n",
       "      <td>421095.000000</td>\n",
       "      <td>421095.000000</td>\n",
       "      <td>421095.000000</td>\n",
       "      <td>421095.000000</td>\n",
       "      <td>421095.000000</td>\n",
       "      <td>421095.000000</td>\n",
       "      <td>421095.000000</td>\n",
       "      <td>421095.000000</td>\n",
       "      <td>421095.000000</td>\n",
       "      <td>421095.000000</td>\n",
       "      <td>421095.000000</td>\n",
       "      <td>122729.000000</td>\n",
       "      <td>421095.0</td>\n",
       "      <td>511.000000</td>\n",
       "      <td>509.000000</td>\n",
       "      <td>421095.000000</td>\n",
       "      <td>421095.000000</td>\n",
       "      <td>4.210950e+05</td>\n",
       "      <td>21372.000000</td>\n",
       "      <td>21372.000000</td>\n",
       "      <td>21372.000000</td>\n",
       "      <td>21372.000000</td>\n",
       "      <td>20810.000000</td>\n",
       "      <td>21372.000000</td>\n",
       "      <td>18617.000000</td>\n",
       "      <td>21372.000000</td>\n",
       "      <td>21372.000000</td>\n",
       "      <td>21372.000000</td>\n",
       "      <td>21372.000000</td>\n",
       "      <td>4.210950e+05</td>\n",
       "      <td>21372.000000</td>\n",
       "      <td>21372.000000</td>\n",
       "      <td>21372.000000</td>\n",
       "      <td>421095.00000</td>\n",
       "      <td>421095.000000</td>\n",
       "      <td>417132.000000</td>\n",
       "      <td>416868.000000</td>\n",
       "      <td>421095.000000</td>\n",
       "      <td>421095.000000</td>\n",
       "      <td>408841.000000</td>\n",
       "      <td>421095.000000</td>\n",
       "      <td>421095.000000</td>\n",
       "      <td>421095.000000</td>\n",
       "      <td>421095.000000</td>\n",
       "      <td>417297.000000</td>\n",
       "      <td>108600.000000</td>\n",
       "      <td>376496.000000</td>\n",
       "      <td>151737.000000</td>\n",
       "      <td>421095.000000</td>\n",
       "      <td>421095.000000</td>\n",
       "      <td>421095.000000</td>\n",
       "      <td>421095.000000</td>\n",
       "      <td>421095.000000</td>\n",
       "      <td>421095.000000</td>\n",
       "      <td>421095.000000</td>\n",
       "      <td>421094.000000</td>\n",
       "      <td>421095.000000</td>\n",
       "      <td>421095.000000</td>\n",
       "      <td>401865.000000</td>\n",
       "      <td>421095.000000</td>\n",
       "      <td>421095.000000</td>\n",
       "      <td>421095.000000</td>\n",
       "      <td>421095.000000</td>\n",
       "      <td>416856.000000</td>\n",
       "      <td>421095.000000</td>\n",
       "      <td>421095.000000</td>\n",
       "      <td>4.210950e+05</td>\n",
       "      <td>4.210950e+05</td>\n",
       "      <td>421095.000000</td>\n",
       "      <td>4.210950e+05</td>\n",
       "    </tr>\n",
       "    <tr>\n",
       "      <th>mean</th>\n",
       "      <td>5.393097e+07</td>\n",
       "      <td>5.759576e+07</td>\n",
       "      <td>15240.285862</td>\n",
       "      <td>15240.285862</td>\n",
       "      <td>15234.156412</td>\n",
       "      <td>441.859660</td>\n",
       "      <td>7.696561e+04</td>\n",
       "      <td>19.195989</td>\n",
       "      <td>0.347397</td>\n",
       "      <td>0.572690</td>\n",
       "      <td>34.023391</td>\n",
       "      <td>66.592609</td>\n",
       "      <td>11.948643</td>\n",
       "      <td>0.233776</td>\n",
       "      <td>1.768548e+04</td>\n",
       "      <td>25.493468</td>\n",
       "      <td>6731.852248</td>\n",
       "      <td>6728.957444</td>\n",
       "      <td>9724.272952</td>\n",
       "      <td>9720.600967</td>\n",
       "      <td>7468.877666</td>\n",
       "      <td>2193.412444</td>\n",
       "      <td>0.573743</td>\n",
       "      <td>61.409098</td>\n",
       "      <td>10.793400</td>\n",
       "      <td>2771.671503</td>\n",
       "      <td>0.020240</td>\n",
       "      <td>45.114741</td>\n",
       "      <td>1.0</td>\n",
       "      <td>109981.011585</td>\n",
       "      <td>18.310118</td>\n",
       "      <td>0.006087</td>\n",
       "      <td>257.478241</td>\n",
       "      <td>1.400755e+05</td>\n",
       "      <td>1.109021</td>\n",
       "      <td>2.928832</td>\n",
       "      <td>0.761651</td>\n",
       "      <td>1.674574</td>\n",
       "      <td>20.912686</td>\n",
       "      <td>36552.811389</td>\n",
       "      <td>71.580491</td>\n",
       "      <td>1.389060</td>\n",
       "      <td>2.975482</td>\n",
       "      <td>5887.979740</td>\n",
       "      <td>60.881995</td>\n",
       "      <td>3.365771e+04</td>\n",
       "      <td>0.943945</td>\n",
       "      <td>1.537058</td>\n",
       "      <td>2.234091</td>\n",
       "      <td>4.66500</td>\n",
       "      <td>13104.784721</td>\n",
       "      <td>9636.063992</td>\n",
       "      <td>62.228136</td>\n",
       "      <td>0.010420</td>\n",
       "      <td>13.765184</td>\n",
       "      <td>127.567419</td>\n",
       "      <td>186.586697</td>\n",
       "      <td>13.451247</td>\n",
       "      <td>8.013204</td>\n",
       "      <td>1.685261</td>\n",
       "      <td>24.856534</td>\n",
       "      <td>39.838177</td>\n",
       "      <td>6.751163</td>\n",
       "      <td>35.797142</td>\n",
       "      <td>0.527054</td>\n",
       "      <td>3.740966</td>\n",
       "      <td>5.860832</td>\n",
       "      <td>4.799879</td>\n",
       "      <td>8.137138</td>\n",
       "      <td>8.649001</td>\n",
       "      <td>8.431786</td>\n",
       "      <td>14.883601</td>\n",
       "      <td>5.809238</td>\n",
       "      <td>11.894537</td>\n",
       "      <td>0.000761</td>\n",
       "      <td>0.004042</td>\n",
       "      <td>0.094318</td>\n",
       "      <td>2.170947</td>\n",
       "      <td>93.924313</td>\n",
       "      <td>47.527110</td>\n",
       "      <td>0.133188</td>\n",
       "      <td>0.064556</td>\n",
       "      <td>1.734070e+05</td>\n",
       "      <td>5.222199e+04</td>\n",
       "      <td>21958.208958</td>\n",
       "      <td>4.347865e+04</td>\n",
       "    </tr>\n",
       "    <tr>\n",
       "      <th>std</th>\n",
       "      <td>9.475423e+06</td>\n",
       "      <td>1.013358e+07</td>\n",
       "      <td>8571.325901</td>\n",
       "      <td>8571.325901</td>\n",
       "      <td>8567.935752</td>\n",
       "      <td>244.850838</td>\n",
       "      <td>7.394996e+04</td>\n",
       "      <td>23.504038</td>\n",
       "      <td>0.927695</td>\n",
       "      <td>0.867776</td>\n",
       "      <td>21.990270</td>\n",
       "      <td>25.577899</td>\n",
       "      <td>5.633119</td>\n",
       "      <td>0.649778</td>\n",
       "      <td>2.419503e+04</td>\n",
       "      <td>12.097200</td>\n",
       "      <td>6975.864148</td>\n",
       "      <td>6972.541062</td>\n",
       "      <td>7161.590912</td>\n",
       "      <td>7159.162377</td>\n",
       "      <td>6523.441530</td>\n",
       "      <td>1900.836729</td>\n",
       "      <td>5.317043</td>\n",
       "      <td>461.711020</td>\n",
       "      <td>81.024136</td>\n",
       "      <td>5741.807514</td>\n",
       "      <td>0.157506</td>\n",
       "      <td>22.537808</td>\n",
       "      <td>0.0</td>\n",
       "      <td>52730.379847</td>\n",
       "      <td>7.169233</td>\n",
       "      <td>0.086482</td>\n",
       "      <td>2240.648162</td>\n",
       "      <td>1.552696e+05</td>\n",
       "      <td>1.242675</td>\n",
       "      <td>3.089987</td>\n",
       "      <td>0.996035</td>\n",
       "      <td>1.688725</td>\n",
       "      <td>27.209081</td>\n",
       "      <td>43103.833619</td>\n",
       "      <td>23.021964</td>\n",
       "      <td>1.520129</td>\n",
       "      <td>2.631886</td>\n",
       "      <td>5284.701239</td>\n",
       "      <td>20.013842</td>\n",
       "      <td>3.766404e+04</td>\n",
       "      <td>1.446872</td>\n",
       "      <td>2.723339</td>\n",
       "      <td>2.480242</td>\n",
       "      <td>3.19538</td>\n",
       "      <td>15671.803897</td>\n",
       "      <td>14774.166134</td>\n",
       "      <td>27.576378</td>\n",
       "      <td>0.117019</td>\n",
       "      <td>781.821107</td>\n",
       "      <td>52.075471</td>\n",
       "      <td>95.374931</td>\n",
       "      <td>17.156985</td>\n",
       "      <td>9.189312</td>\n",
       "      <td>1.990160</td>\n",
       "      <td>32.272793</td>\n",
       "      <td>23.003885</td>\n",
       "      <td>5.914006</td>\n",
       "      <td>22.628516</td>\n",
       "      <td>1.332797</td>\n",
       "      <td>2.304542</td>\n",
       "      <td>3.439764</td>\n",
       "      <td>3.036184</td>\n",
       "      <td>4.822698</td>\n",
       "      <td>7.471041</td>\n",
       "      <td>4.664381</td>\n",
       "      <td>8.289379</td>\n",
       "      <td>3.346698</td>\n",
       "      <td>5.615119</td>\n",
       "      <td>0.030169</td>\n",
       "      <td>0.067965</td>\n",
       "      <td>0.522758</td>\n",
       "      <td>1.853858</td>\n",
       "      <td>8.875399</td>\n",
       "      <td>36.054458</td>\n",
       "      <td>0.385975</td>\n",
       "      <td>0.444231</td>\n",
       "      <td>1.756722e+05</td>\n",
       "      <td>4.907494e+04</td>\n",
       "      <td>21840.371112</td>\n",
       "      <td>4.394271e+04</td>\n",
       "    </tr>\n",
       "    <tr>\n",
       "      <th>min</th>\n",
       "      <td>5.670500e+04</td>\n",
       "      <td>7.082500e+04</td>\n",
       "      <td>1000.000000</td>\n",
       "      <td>1000.000000</td>\n",
       "      <td>900.000000</td>\n",
       "      <td>14.010000</td>\n",
       "      <td>0.000000e+00</td>\n",
       "      <td>0.000000</td>\n",
       "      <td>0.000000</td>\n",
       "      <td>0.000000</td>\n",
       "      <td>0.000000</td>\n",
       "      <td>0.000000</td>\n",
       "      <td>1.000000</td>\n",
       "      <td>0.000000</td>\n",
       "      <td>0.000000e+00</td>\n",
       "      <td>4.000000</td>\n",
       "      <td>0.000000</td>\n",
       "      <td>0.000000</td>\n",
       "      <td>0.000000</td>\n",
       "      <td>0.000000</td>\n",
       "      <td>0.000000</td>\n",
       "      <td>0.000000</td>\n",
       "      <td>0.000000</td>\n",
       "      <td>0.000000</td>\n",
       "      <td>0.000000</td>\n",
       "      <td>0.000000</td>\n",
       "      <td>0.000000</td>\n",
       "      <td>0.000000</td>\n",
       "      <td>1.0</td>\n",
       "      <td>17950.000000</td>\n",
       "      <td>3.000000</td>\n",
       "      <td>0.000000</td>\n",
       "      <td>0.000000</td>\n",
       "      <td>0.000000e+00</td>\n",
       "      <td>0.000000</td>\n",
       "      <td>0.000000</td>\n",
       "      <td>0.000000</td>\n",
       "      <td>0.000000</td>\n",
       "      <td>0.000000</td>\n",
       "      <td>0.000000</td>\n",
       "      <td>0.000000</td>\n",
       "      <td>0.000000</td>\n",
       "      <td>0.000000</td>\n",
       "      <td>0.000000</td>\n",
       "      <td>0.000000</td>\n",
       "      <td>0.000000e+00</td>\n",
       "      <td>0.000000</td>\n",
       "      <td>0.000000</td>\n",
       "      <td>0.000000</td>\n",
       "      <td>0.00000</td>\n",
       "      <td>0.000000</td>\n",
       "      <td>0.000000</td>\n",
       "      <td>0.000000</td>\n",
       "      <td>0.000000</td>\n",
       "      <td>0.000000</td>\n",
       "      <td>0.000000</td>\n",
       "      <td>3.000000</td>\n",
       "      <td>0.000000</td>\n",
       "      <td>0.000000</td>\n",
       "      <td>0.000000</td>\n",
       "      <td>0.000000</td>\n",
       "      <td>0.000000</td>\n",
       "      <td>0.000000</td>\n",
       "      <td>0.000000</td>\n",
       "      <td>0.000000</td>\n",
       "      <td>0.000000</td>\n",
       "      <td>0.000000</td>\n",
       "      <td>0.000000</td>\n",
       "      <td>0.000000</td>\n",
       "      <td>0.000000</td>\n",
       "      <td>0.000000</td>\n",
       "      <td>2.000000</td>\n",
       "      <td>0.000000</td>\n",
       "      <td>0.000000</td>\n",
       "      <td>0.000000</td>\n",
       "      <td>0.000000</td>\n",
       "      <td>0.000000</td>\n",
       "      <td>0.000000</td>\n",
       "      <td>0.000000</td>\n",
       "      <td>0.000000</td>\n",
       "      <td>0.000000</td>\n",
       "      <td>0.000000</td>\n",
       "      <td>2.500000e+03</td>\n",
       "      <td>0.000000e+00</td>\n",
       "      <td>0.000000</td>\n",
       "      <td>0.000000e+00</td>\n",
       "    </tr>\n",
       "    <tr>\n",
       "      <th>25%</th>\n",
       "      <td>4.612481e+07</td>\n",
       "      <td>4.922617e+07</td>\n",
       "      <td>8500.000000</td>\n",
       "      <td>8500.000000</td>\n",
       "      <td>8500.000000</td>\n",
       "      <td>263.930000</td>\n",
       "      <td>4.600000e+04</td>\n",
       "      <td>12.590000</td>\n",
       "      <td>0.000000</td>\n",
       "      <td>0.000000</td>\n",
       "      <td>15.000000</td>\n",
       "      <td>50.000000</td>\n",
       "      <td>8.000000</td>\n",
       "      <td>0.000000</td>\n",
       "      <td>6.480000e+03</td>\n",
       "      <td>17.000000</td>\n",
       "      <td>0.000000</td>\n",
       "      <td>0.000000</td>\n",
       "      <td>4840.675000</td>\n",
       "      <td>4839.190000</td>\n",
       "      <td>3194.125000</td>\n",
       "      <td>838.820000</td>\n",
       "      <td>0.000000</td>\n",
       "      <td>0.000000</td>\n",
       "      <td>0.000000</td>\n",
       "      <td>299.150000</td>\n",
       "      <td>0.000000</td>\n",
       "      <td>27.000000</td>\n",
       "      <td>1.0</td>\n",
       "      <td>76032.500000</td>\n",
       "      <td>13.200000</td>\n",
       "      <td>0.000000</td>\n",
       "      <td>0.000000</td>\n",
       "      <td>3.103900e+04</td>\n",
       "      <td>0.000000</td>\n",
       "      <td>1.000000</td>\n",
       "      <td>0.000000</td>\n",
       "      <td>0.000000</td>\n",
       "      <td>6.000000</td>\n",
       "      <td>10251.500000</td>\n",
       "      <td>59.000000</td>\n",
       "      <td>0.000000</td>\n",
       "      <td>1.000000</td>\n",
       "      <td>2411.000000</td>\n",
       "      <td>48.000000</td>\n",
       "      <td>1.440000e+04</td>\n",
       "      <td>0.000000</td>\n",
       "      <td>0.000000</td>\n",
       "      <td>0.000000</td>\n",
       "      <td>2.00000</td>\n",
       "      <td>3199.000000</td>\n",
       "      <td>1345.000000</td>\n",
       "      <td>41.500000</td>\n",
       "      <td>0.000000</td>\n",
       "      <td>0.000000</td>\n",
       "      <td>101.000000</td>\n",
       "      <td>120.000000</td>\n",
       "      <td>4.000000</td>\n",
       "      <td>3.000000</td>\n",
       "      <td>0.000000</td>\n",
       "      <td>6.000000</td>\n",
       "      <td>20.000000</td>\n",
       "      <td>2.000000</td>\n",
       "      <td>17.000000</td>\n",
       "      <td>0.000000</td>\n",
       "      <td>2.000000</td>\n",
       "      <td>3.000000</td>\n",
       "      <td>3.000000</td>\n",
       "      <td>5.000000</td>\n",
       "      <td>4.000000</td>\n",
       "      <td>5.000000</td>\n",
       "      <td>9.000000</td>\n",
       "      <td>3.000000</td>\n",
       "      <td>8.000000</td>\n",
       "      <td>0.000000</td>\n",
       "      <td>0.000000</td>\n",
       "      <td>0.000000</td>\n",
       "      <td>1.000000</td>\n",
       "      <td>90.900000</td>\n",
       "      <td>15.400000</td>\n",
       "      <td>0.000000</td>\n",
       "      <td>0.000000</td>\n",
       "      <td>5.090900e+04</td>\n",
       "      <td>2.259850e+04</td>\n",
       "      <td>7800.000000</td>\n",
       "      <td>1.548150e+04</td>\n",
       "    </tr>\n",
       "    <tr>\n",
       "      <th>50%</th>\n",
       "      <td>5.536031e+07</td>\n",
       "      <td>5.895358e+07</td>\n",
       "      <td>14000.000000</td>\n",
       "      <td>14000.000000</td>\n",
       "      <td>14000.000000</td>\n",
       "      <td>385.410000</td>\n",
       "      <td>6.500000e+04</td>\n",
       "      <td>18.600000</td>\n",
       "      <td>0.000000</td>\n",
       "      <td>0.000000</td>\n",
       "      <td>31.000000</td>\n",
       "      <td>67.000000</td>\n",
       "      <td>11.000000</td>\n",
       "      <td>0.000000</td>\n",
       "      <td>1.199600e+04</td>\n",
       "      <td>24.000000</td>\n",
       "      <td>4870.950000</td>\n",
       "      <td>4869.290000</td>\n",
       "      <td>7753.457826</td>\n",
       "      <td>7749.700000</td>\n",
       "      <td>5333.620000</td>\n",
       "      <td>1626.890000</td>\n",
       "      <td>0.000000</td>\n",
       "      <td>0.000000</td>\n",
       "      <td>0.000000</td>\n",
       "      <td>483.520000</td>\n",
       "      <td>0.000000</td>\n",
       "      <td>45.000000</td>\n",
       "      <td>1.0</td>\n",
       "      <td>101771.000000</td>\n",
       "      <td>17.610000</td>\n",
       "      <td>0.000000</td>\n",
       "      <td>0.000000</td>\n",
       "      <td>7.972900e+04</td>\n",
       "      <td>1.000000</td>\n",
       "      <td>2.000000</td>\n",
       "      <td>0.000000</td>\n",
       "      <td>1.000000</td>\n",
       "      <td>12.000000</td>\n",
       "      <td>24684.500000</td>\n",
       "      <td>75.000000</td>\n",
       "      <td>1.000000</td>\n",
       "      <td>2.000000</td>\n",
       "      <td>4483.000000</td>\n",
       "      <td>62.000000</td>\n",
       "      <td>2.460000e+04</td>\n",
       "      <td>0.000000</td>\n",
       "      <td>0.000000</td>\n",
       "      <td>2.000000</td>\n",
       "      <td>4.00000</td>\n",
       "      <td>7262.000000</td>\n",
       "      <td>4366.000000</td>\n",
       "      <td>65.800000</td>\n",
       "      <td>0.000000</td>\n",
       "      <td>0.000000</td>\n",
       "      <td>130.000000</td>\n",
       "      <td>170.000000</td>\n",
       "      <td>8.000000</td>\n",
       "      <td>5.000000</td>\n",
       "      <td>1.000000</td>\n",
       "      <td>14.000000</td>\n",
       "      <td>38.000000</td>\n",
       "      <td>5.000000</td>\n",
       "      <td>33.000000</td>\n",
       "      <td>0.000000</td>\n",
       "      <td>3.000000</td>\n",
       "      <td>5.000000</td>\n",
       "      <td>4.000000</td>\n",
       "      <td>7.000000</td>\n",
       "      <td>7.000000</td>\n",
       "      <td>8.000000</td>\n",
       "      <td>13.000000</td>\n",
       "      <td>5.000000</td>\n",
       "      <td>11.000000</td>\n",
       "      <td>0.000000</td>\n",
       "      <td>0.000000</td>\n",
       "      <td>0.000000</td>\n",
       "      <td>2.000000</td>\n",
       "      <td>97.400000</td>\n",
       "      <td>50.000000</td>\n",
       "      <td>0.000000</td>\n",
       "      <td>0.000000</td>\n",
       "      <td>1.114050e+05</td>\n",
       "      <td>3.959600e+04</td>\n",
       "      <td>15200.000000</td>\n",
       "      <td>3.297000e+04</td>\n",
       "    </tr>\n",
       "    <tr>\n",
       "      <th>75%</th>\n",
       "      <td>6.186217e+07</td>\n",
       "      <td>6.604584e+07</td>\n",
       "      <td>20000.000000</td>\n",
       "      <td>20000.000000</td>\n",
       "      <td>20000.000000</td>\n",
       "      <td>578.790000</td>\n",
       "      <td>9.169050e+04</td>\n",
       "      <td>25.340000</td>\n",
       "      <td>0.000000</td>\n",
       "      <td>1.000000</td>\n",
       "      <td>50.000000</td>\n",
       "      <td>82.000000</td>\n",
       "      <td>15.000000</td>\n",
       "      <td>0.000000</td>\n",
       "      <td>2.142800e+04</td>\n",
       "      <td>32.000000</td>\n",
       "      <td>10977.690000</td>\n",
       "      <td>10972.690000</td>\n",
       "      <td>12453.750000</td>\n",
       "      <td>12448.320000</td>\n",
       "      <td>9515.440000</td>\n",
       "      <td>2962.305000</td>\n",
       "      <td>0.000000</td>\n",
       "      <td>0.000000</td>\n",
       "      <td>0.000000</td>\n",
       "      <td>923.730000</td>\n",
       "      <td>0.000000</td>\n",
       "      <td>63.000000</td>\n",
       "      <td>1.0</td>\n",
       "      <td>132800.000000</td>\n",
       "      <td>22.650000</td>\n",
       "      <td>0.000000</td>\n",
       "      <td>0.000000</td>\n",
       "      <td>2.074750e+05</td>\n",
       "      <td>2.000000</td>\n",
       "      <td>4.000000</td>\n",
       "      <td>1.000000</td>\n",
       "      <td>2.000000</td>\n",
       "      <td>23.000000</td>\n",
       "      <td>47858.000000</td>\n",
       "      <td>88.000000</td>\n",
       "      <td>2.000000</td>\n",
       "      <td>4.000000</td>\n",
       "      <td>7771.500000</td>\n",
       "      <td>75.000000</td>\n",
       "      <td>4.168850e+04</td>\n",
       "      <td>1.000000</td>\n",
       "      <td>2.000000</td>\n",
       "      <td>3.000000</td>\n",
       "      <td>6.00000</td>\n",
       "      <td>17974.500000</td>\n",
       "      <td>11574.000000</td>\n",
       "      <td>86.500000</td>\n",
       "      <td>0.000000</td>\n",
       "      <td>0.000000</td>\n",
       "      <td>153.000000</td>\n",
       "      <td>237.000000</td>\n",
       "      <td>16.000000</td>\n",
       "      <td>10.000000</td>\n",
       "      <td>3.000000</td>\n",
       "      <td>29.000000</td>\n",
       "      <td>60.000000</td>\n",
       "      <td>10.000000</td>\n",
       "      <td>53.000000</td>\n",
       "      <td>0.000000</td>\n",
       "      <td>5.000000</td>\n",
       "      <td>7.000000</td>\n",
       "      <td>6.000000</td>\n",
       "      <td>11.000000</td>\n",
       "      <td>11.000000</td>\n",
       "      <td>11.000000</td>\n",
       "      <td>19.000000</td>\n",
       "      <td>7.000000</td>\n",
       "      <td>15.000000</td>\n",
       "      <td>0.000000</td>\n",
       "      <td>0.000000</td>\n",
       "      <td>0.000000</td>\n",
       "      <td>3.000000</td>\n",
       "      <td>100.000000</td>\n",
       "      <td>75.000000</td>\n",
       "      <td>0.000000</td>\n",
       "      <td>0.000000</td>\n",
       "      <td>2.496290e+05</td>\n",
       "      <td>6.565100e+04</td>\n",
       "      <td>28600.000000</td>\n",
       "      <td>5.829900e+04</td>\n",
       "    </tr>\n",
       "    <tr>\n",
       "      <th>max</th>\n",
       "      <td>6.861706e+07</td>\n",
       "      <td>7.354484e+07</td>\n",
       "      <td>35000.000000</td>\n",
       "      <td>35000.000000</td>\n",
       "      <td>35000.000000</td>\n",
       "      <td>1445.460000</td>\n",
       "      <td>9.500000e+06</td>\n",
       "      <td>9999.000000</td>\n",
       "      <td>39.000000</td>\n",
       "      <td>6.000000</td>\n",
       "      <td>176.000000</td>\n",
       "      <td>120.000000</td>\n",
       "      <td>90.000000</td>\n",
       "      <td>86.000000</td>\n",
       "      <td>2.904836e+06</td>\n",
       "      <td>169.000000</td>\n",
       "      <td>40884.740000</td>\n",
       "      <td>40884.740000</td>\n",
       "      <td>50312.207800</td>\n",
       "      <td>50312.210000</td>\n",
       "      <td>35000.000000</td>\n",
       "      <td>16715.940000</td>\n",
       "      <td>324.750000</td>\n",
       "      <td>33666.340000</td>\n",
       "      <td>6059.941200</td>\n",
       "      <td>36475.590000</td>\n",
       "      <td>14.000000</td>\n",
       "      <td>176.000000</td>\n",
       "      <td>1.0</td>\n",
       "      <td>500000.000000</td>\n",
       "      <td>43.860000</td>\n",
       "      <td>14.000000</td>\n",
       "      <td>496651.000000</td>\n",
       "      <td>4.447397e+06</td>\n",
       "      <td>14.000000</td>\n",
       "      <td>40.000000</td>\n",
       "      <td>12.000000</td>\n",
       "      <td>19.000000</td>\n",
       "      <td>363.000000</td>\n",
       "      <td>878459.000000</td>\n",
       "      <td>223.000000</td>\n",
       "      <td>22.000000</td>\n",
       "      <td>43.000000</td>\n",
       "      <td>127305.000000</td>\n",
       "      <td>151.000000</td>\n",
       "      <td>9.999999e+06</td>\n",
       "      <td>17.000000</td>\n",
       "      <td>35.000000</td>\n",
       "      <td>32.000000</td>\n",
       "      <td>64.00000</td>\n",
       "      <td>555925.000000</td>\n",
       "      <td>559912.000000</td>\n",
       "      <td>318.200000</td>\n",
       "      <td>10.000000</td>\n",
       "      <td>159177.000000</td>\n",
       "      <td>724.000000</td>\n",
       "      <td>851.000000</td>\n",
       "      <td>324.000000</td>\n",
       "      <td>263.000000</td>\n",
       "      <td>52.000000</td>\n",
       "      <td>615.000000</td>\n",
       "      <td>195.000000</td>\n",
       "      <td>25.000000</td>\n",
       "      <td>176.000000</td>\n",
       "      <td>39.000000</td>\n",
       "      <td>32.000000</td>\n",
       "      <td>52.000000</td>\n",
       "      <td>63.000000</td>\n",
       "      <td>70.000000</td>\n",
       "      <td>132.000000</td>\n",
       "      <td>83.000000</td>\n",
       "      <td>118.000000</td>\n",
       "      <td>45.000000</td>\n",
       "      <td>90.000000</td>\n",
       "      <td>6.000000</td>\n",
       "      <td>4.000000</td>\n",
       "      <td>39.000000</td>\n",
       "      <td>30.000000</td>\n",
       "      <td>100.000000</td>\n",
       "      <td>100.000000</td>\n",
       "      <td>11.000000</td>\n",
       "      <td>85.000000</td>\n",
       "      <td>9.999999e+06</td>\n",
       "      <td>2.921551e+06</td>\n",
       "      <td>834300.000000</td>\n",
       "      <td>2.101913e+06</td>\n",
       "    </tr>\n",
       "  </tbody>\n",
       "</table>\n",
       "</div>"
      ],
      "text/plain": [
       "                 id     member_id      loan_amnt    funded_amnt  \\\n",
       "count  4.210950e+05  4.210950e+05  421095.000000  421095.000000   \n",
       "mean   5.393097e+07  5.759576e+07   15240.285862   15240.285862   \n",
       "std    9.475423e+06  1.013358e+07    8571.325901    8571.325901   \n",
       "min    5.670500e+04  7.082500e+04    1000.000000    1000.000000   \n",
       "25%    4.612481e+07  4.922617e+07    8500.000000    8500.000000   \n",
       "50%    5.536031e+07  5.895358e+07   14000.000000   14000.000000   \n",
       "75%    6.186217e+07  6.604584e+07   20000.000000   20000.000000   \n",
       "max    6.861706e+07  7.354484e+07   35000.000000   35000.000000   \n",
       "\n",
       "       funded_amnt_inv    installment    annual_inc            dti  \\\n",
       "count    421095.000000  421095.000000  4.210950e+05  421095.000000   \n",
       "mean      15234.156412     441.859660  7.696561e+04      19.195989   \n",
       "std        8567.935752     244.850838  7.394996e+04      23.504038   \n",
       "min         900.000000      14.010000  0.000000e+00       0.000000   \n",
       "25%        8500.000000     263.930000  4.600000e+04      12.590000   \n",
       "50%       14000.000000     385.410000  6.500000e+04      18.600000   \n",
       "75%       20000.000000     578.790000  9.169050e+04      25.340000   \n",
       "max       35000.000000    1445.460000  9.500000e+06    9999.000000   \n",
       "\n",
       "         delinq_2yrs  inq_last_6mths  mths_since_last_delinq  \\\n",
       "count  421095.000000   421095.000000           217133.000000   \n",
       "mean        0.347397        0.572690               34.023391   \n",
       "std         0.927695        0.867776               21.990270   \n",
       "min         0.000000        0.000000                0.000000   \n",
       "25%         0.000000        0.000000               15.000000   \n",
       "50%         0.000000        0.000000               31.000000   \n",
       "75%         0.000000        1.000000               50.000000   \n",
       "max        39.000000        6.000000              176.000000   \n",
       "\n",
       "       mths_since_last_record       open_acc        pub_rec     revol_bal  \\\n",
       "count            74415.000000  421095.000000  421095.000000  4.210950e+05   \n",
       "mean                66.592609      11.948643       0.233776  1.768548e+04   \n",
       "std                 25.577899       5.633119       0.649778  2.419503e+04   \n",
       "min                  0.000000       1.000000       0.000000  0.000000e+00   \n",
       "25%                 50.000000       8.000000       0.000000  6.480000e+03   \n",
       "50%                 67.000000      11.000000       0.000000  1.199600e+04   \n",
       "75%                 82.000000      15.000000       0.000000  2.142800e+04   \n",
       "max                120.000000      90.000000      86.000000  2.904836e+06   \n",
       "\n",
       "           total_acc      out_prncp  out_prncp_inv    total_pymnt  \\\n",
       "count  421095.000000  421095.000000  421095.000000  421095.000000   \n",
       "mean       25.493468    6731.852248    6728.957444    9724.272952   \n",
       "std        12.097200    6975.864148    6972.541062    7161.590912   \n",
       "min         4.000000       0.000000       0.000000       0.000000   \n",
       "25%        17.000000       0.000000       0.000000    4840.675000   \n",
       "50%        24.000000    4870.950000    4869.290000    7753.457826   \n",
       "75%        32.000000   10977.690000   10972.690000   12453.750000   \n",
       "max       169.000000   40884.740000   40884.740000   50312.207800   \n",
       "\n",
       "       total_pymnt_inv  total_rec_prncp  total_rec_int  total_rec_late_fee  \\\n",
       "count    421095.000000    421095.000000  421095.000000       421095.000000   \n",
       "mean       9720.600967      7468.877666    2193.412444            0.573743   \n",
       "std        7159.162377      6523.441530    1900.836729            5.317043   \n",
       "min           0.000000         0.000000       0.000000            0.000000   \n",
       "25%        4839.190000      3194.125000     838.820000            0.000000   \n",
       "50%        7749.700000      5333.620000    1626.890000            0.000000   \n",
       "75%       12448.320000      9515.440000    2962.305000            0.000000   \n",
       "max       50312.210000     35000.000000   16715.940000          324.750000   \n",
       "\n",
       "          recoveries  collection_recovery_fee  last_pymnt_amnt  \\\n",
       "count  421095.000000            421095.000000    421095.000000   \n",
       "mean       61.409098                10.793400      2771.671503   \n",
       "std       461.711020                81.024136      5741.807514   \n",
       "min         0.000000                 0.000000         0.000000   \n",
       "25%         0.000000                 0.000000       299.150000   \n",
       "50%         0.000000                 0.000000       483.520000   \n",
       "75%         0.000000                 0.000000       923.730000   \n",
       "max     33666.340000              6059.941200     36475.590000   \n",
       "\n",
       "       collections_12_mths_ex_med  mths_since_last_major_derog  policy_code  \\\n",
       "count               421095.000000                122729.000000     421095.0   \n",
       "mean                     0.020240                    45.114741          1.0   \n",
       "std                      0.157506                    22.537808          0.0   \n",
       "min                      0.000000                     0.000000          1.0   \n",
       "25%                      0.000000                    27.000000          1.0   \n",
       "50%                      0.000000                    45.000000          1.0   \n",
       "75%                      0.000000                    63.000000          1.0   \n",
       "max                     14.000000                   176.000000          1.0   \n",
       "\n",
       "       annual_inc_joint   dti_joint  acc_now_delinq   tot_coll_amt  \\\n",
       "count        511.000000  509.000000   421095.000000  421095.000000   \n",
       "mean      109981.011585   18.310118        0.006087     257.478241   \n",
       "std        52730.379847    7.169233        0.086482    2240.648162   \n",
       "min        17950.000000    3.000000        0.000000       0.000000   \n",
       "25%        76032.500000   13.200000        0.000000       0.000000   \n",
       "50%       101771.000000   17.610000        0.000000       0.000000   \n",
       "75%       132800.000000   22.650000        0.000000       0.000000   \n",
       "max       500000.000000   43.860000       14.000000  496651.000000   \n",
       "\n",
       "        tot_cur_bal   open_acc_6m    open_il_6m   open_il_12m   open_il_24m  \\\n",
       "count  4.210950e+05  21372.000000  21372.000000  21372.000000  21372.000000   \n",
       "mean   1.400755e+05      1.109021      2.928832      0.761651      1.674574   \n",
       "std    1.552696e+05      1.242675      3.089987      0.996035      1.688725   \n",
       "min    0.000000e+00      0.000000      0.000000      0.000000      0.000000   \n",
       "25%    3.103900e+04      0.000000      1.000000      0.000000      0.000000   \n",
       "50%    7.972900e+04      1.000000      2.000000      0.000000      1.000000   \n",
       "75%    2.074750e+05      2.000000      4.000000      1.000000      2.000000   \n",
       "max    4.447397e+06     14.000000     40.000000     12.000000     19.000000   \n",
       "\n",
       "       mths_since_rcnt_il   total_bal_il       il_util   open_rv_12m  \\\n",
       "count        20810.000000   21372.000000  18617.000000  21372.000000   \n",
       "mean            20.912686   36552.811389     71.580491      1.389060   \n",
       "std             27.209081   43103.833619     23.021964      1.520129   \n",
       "min              0.000000       0.000000      0.000000      0.000000   \n",
       "25%              6.000000   10251.500000     59.000000      0.000000   \n",
       "50%             12.000000   24684.500000     75.000000      1.000000   \n",
       "75%             23.000000   47858.000000     88.000000      2.000000   \n",
       "max            363.000000  878459.000000    223.000000     22.000000   \n",
       "\n",
       "        open_rv_24m     max_bal_bc      all_util  total_rev_hi_lim  \\\n",
       "count  21372.000000   21372.000000  21372.000000      4.210950e+05   \n",
       "mean       2.975482    5887.979740     60.881995      3.365771e+04   \n",
       "std        2.631886    5284.701239     20.013842      3.766404e+04   \n",
       "min        0.000000       0.000000      0.000000      0.000000e+00   \n",
       "25%        1.000000    2411.000000     48.000000      1.440000e+04   \n",
       "50%        2.000000    4483.000000     62.000000      2.460000e+04   \n",
       "75%        4.000000    7771.500000     75.000000      4.168850e+04   \n",
       "max       43.000000  127305.000000    151.000000      9.999999e+06   \n",
       "\n",
       "             inq_fi   total_cu_tl  inq_last_12m  acc_open_past_24mths  \\\n",
       "count  21372.000000  21372.000000  21372.000000          421095.00000   \n",
       "mean       0.943945      1.537058      2.234091               4.66500   \n",
       "std        1.446872      2.723339      2.480242               3.19538   \n",
       "min        0.000000      0.000000      0.000000               0.00000   \n",
       "25%        0.000000      0.000000      0.000000               2.00000   \n",
       "50%        0.000000      0.000000      2.000000               4.00000   \n",
       "75%        1.000000      2.000000      3.000000               6.00000   \n",
       "max       17.000000     35.000000     32.000000              64.00000   \n",
       "\n",
       "         avg_cur_bal  bc_open_to_buy        bc_util  chargeoff_within_12_mths  \\\n",
       "count  421095.000000   417132.000000  416868.000000             421095.000000   \n",
       "mean    13104.784721     9636.063992      62.228136                  0.010420   \n",
       "std     15671.803897    14774.166134      27.576378                  0.117019   \n",
       "min         0.000000        0.000000       0.000000                  0.000000   \n",
       "25%      3199.000000     1345.000000      41.500000                  0.000000   \n",
       "50%      7262.000000     4366.000000      65.800000                  0.000000   \n",
       "75%     17974.500000    11574.000000      86.500000                  0.000000   \n",
       "max    555925.000000   559912.000000     318.200000                 10.000000   \n",
       "\n",
       "         delinq_amnt  mo_sin_old_il_acct  mo_sin_old_rev_tl_op  \\\n",
       "count  421095.000000       408841.000000         421095.000000   \n",
       "mean       13.765184          127.567419            186.586697   \n",
       "std       781.821107           52.075471             95.374931   \n",
       "min         0.000000            0.000000              3.000000   \n",
       "25%         0.000000          101.000000            120.000000   \n",
       "50%         0.000000          130.000000            170.000000   \n",
       "75%         0.000000          153.000000            237.000000   \n",
       "max    159177.000000          724.000000            851.000000   \n",
       "\n",
       "       mo_sin_rcnt_rev_tl_op  mo_sin_rcnt_tl       mort_acc  \\\n",
       "count          421095.000000   421095.000000  421095.000000   \n",
       "mean               13.451247        8.013204       1.685261   \n",
       "std                17.156985        9.189312       1.990160   \n",
       "min                 0.000000        0.000000       0.000000   \n",
       "25%                 4.000000        3.000000       0.000000   \n",
       "50%                 8.000000        5.000000       1.000000   \n",
       "75%                16.000000       10.000000       3.000000   \n",
       "max               324.000000      263.000000      52.000000   \n",
       "\n",
       "       mths_since_recent_bc  mths_since_recent_bc_dlq  mths_since_recent_inq  \\\n",
       "count         417297.000000             108600.000000          376496.000000   \n",
       "mean              24.856534                 39.838177               6.751163   \n",
       "std               32.272793                 23.003885               5.914006   \n",
       "min                0.000000                  0.000000               0.000000   \n",
       "25%                6.000000                 20.000000               2.000000   \n",
       "50%               14.000000                 38.000000               5.000000   \n",
       "75%               29.000000                 60.000000              10.000000   \n",
       "max              615.000000                195.000000              25.000000   \n",
       "\n",
       "       mths_since_recent_revol_delinq  num_accts_ever_120_pd  num_actv_bc_tl  \\\n",
       "count                   151737.000000          421095.000000   421095.000000   \n",
       "mean                        35.797142               0.527054        3.740966   \n",
       "std                         22.628516               1.332797        2.304542   \n",
       "min                          0.000000               0.000000        0.000000   \n",
       "25%                         17.000000               0.000000        2.000000   \n",
       "50%                         33.000000               0.000000        3.000000   \n",
       "75%                         53.000000               0.000000        5.000000   \n",
       "max                        176.000000              39.000000       32.000000   \n",
       "\n",
       "       num_actv_rev_tl    num_bc_sats      num_bc_tl      num_il_tl  \\\n",
       "count    421095.000000  421095.000000  421095.000000  421095.000000   \n",
       "mean          5.860832       4.799879       8.137138       8.649001   \n",
       "std           3.439764       3.036184       4.822698       7.471041   \n",
       "min           0.000000       0.000000       0.000000       0.000000   \n",
       "25%           3.000000       3.000000       5.000000       4.000000   \n",
       "50%           5.000000       4.000000       7.000000       7.000000   \n",
       "75%           7.000000       6.000000      11.000000      11.000000   \n",
       "max          52.000000      63.000000      70.000000     132.000000   \n",
       "\n",
       "       num_op_rev_tl  num_rev_accts  num_rev_tl_bal_gt_0       num_sats  \\\n",
       "count  421095.000000  421094.000000        421095.000000  421095.000000   \n",
       "mean        8.431786      14.883601             5.809238      11.894537   \n",
       "std         4.664381       8.289379             3.346698       5.615119   \n",
       "min         0.000000       2.000000             0.000000       0.000000   \n",
       "25%         5.000000       9.000000             3.000000       8.000000   \n",
       "50%         8.000000      13.000000             5.000000      11.000000   \n",
       "75%        11.000000      19.000000             7.000000      15.000000   \n",
       "max        83.000000     118.000000            45.000000      90.000000   \n",
       "\n",
       "       num_tl_120dpd_2m   num_tl_30dpd  num_tl_90g_dpd_24m  \\\n",
       "count     401865.000000  421095.000000       421095.000000   \n",
       "mean           0.000761       0.004042            0.094318   \n",
       "std            0.030169       0.067965            0.522758   \n",
       "min            0.000000       0.000000            0.000000   \n",
       "25%            0.000000       0.000000            0.000000   \n",
       "50%            0.000000       0.000000            0.000000   \n",
       "75%            0.000000       0.000000            0.000000   \n",
       "max            6.000000       4.000000           39.000000   \n",
       "\n",
       "       num_tl_op_past_12m  pct_tl_nvr_dlq  percent_bc_gt_75  \\\n",
       "count       421095.000000   421095.000000     416856.000000   \n",
       "mean             2.170947       93.924313         47.527110   \n",
       "std              1.853858        8.875399         36.054458   \n",
       "min              0.000000        0.000000          0.000000   \n",
       "25%              1.000000       90.900000         15.400000   \n",
       "50%              2.000000       97.400000         50.000000   \n",
       "75%              3.000000      100.000000         75.000000   \n",
       "max             30.000000      100.000000        100.000000   \n",
       "\n",
       "       pub_rec_bankruptcies      tax_liens  tot_hi_cred_lim  \\\n",
       "count         421095.000000  421095.000000     4.210950e+05   \n",
       "mean               0.133188       0.064556     1.734070e+05   \n",
       "std                0.385975       0.444231     1.756722e+05   \n",
       "min                0.000000       0.000000     2.500000e+03   \n",
       "25%                0.000000       0.000000     5.090900e+04   \n",
       "50%                0.000000       0.000000     1.114050e+05   \n",
       "75%                0.000000       0.000000     2.496290e+05   \n",
       "max               11.000000      85.000000     9.999999e+06   \n",
       "\n",
       "       total_bal_ex_mort  total_bc_limit  total_il_high_credit_limit  \n",
       "count       4.210950e+05   421095.000000                4.210950e+05  \n",
       "mean        5.222199e+04    21958.208958                4.347865e+04  \n",
       "std         4.907494e+04    21840.371112                4.394271e+04  \n",
       "min         0.000000e+00        0.000000                0.000000e+00  \n",
       "25%         2.259850e+04     7800.000000                1.548150e+04  \n",
       "50%         3.959600e+04    15200.000000                3.297000e+04  \n",
       "75%         6.565100e+04    28600.000000                5.829900e+04  \n",
       "max         2.921551e+06   834300.000000                2.101913e+06  "
      ]
     },
     "execution_count": 16,
     "metadata": {},
     "output_type": "execute_result"
    }
   ],
   "source": [
    "df.describe()"
   ]
  },
  {
   "cell_type": "code",
   "execution_count": 19,
   "metadata": {
    "collapsed": false
   },
   "outputs": [
    {
     "name": "stdout",
     "output_type": "stream",
     "text": [
      "id                                  int64\n",
      "member_id                           int64\n",
      "loan_amnt                           int64\n",
      "funded_amnt                         int64\n",
      "funded_amnt_inv                   float64\n",
      "term                               object\n",
      "int_rate                           object\n",
      "installment                       float64\n",
      "grade                              object\n",
      "sub_grade                          object\n",
      "emp_title                          object\n",
      "emp_length                         object\n",
      "home_ownership                     object\n",
      "annual_inc                        float64\n",
      "verification_status                object\n",
      "issue_d                            object\n",
      "loan_status                        object\n",
      "pymnt_plan                         object\n",
      "url                                object\n",
      "desc                               object\n",
      "purpose                            object\n",
      "title                              object\n",
      "zip_code                           object\n",
      "addr_state                         object\n",
      "dti                               float64\n",
      "delinq_2yrs                         int64\n",
      "earliest_cr_line                   object\n",
      "inq_last_6mths                      int64\n",
      "mths_since_last_delinq            float64\n",
      "mths_since_last_record            float64\n",
      "open_acc                            int64\n",
      "pub_rec                             int64\n",
      "revol_bal                           int64\n",
      "revol_util                         object\n",
      "total_acc                           int64\n",
      "initial_list_status                object\n",
      "out_prncp                         float64\n",
      "out_prncp_inv                     float64\n",
      "total_pymnt                       float64\n",
      "total_pymnt_inv                   float64\n",
      "total_rec_prncp                   float64\n",
      "total_rec_int                     float64\n",
      "total_rec_late_fee                float64\n",
      "recoveries                        float64\n",
      "collection_recovery_fee           float64\n",
      "last_pymnt_d                       object\n",
      "last_pymnt_amnt                   float64\n",
      "next_pymnt_d                       object\n",
      "last_credit_pull_d                 object\n",
      "collections_12_mths_ex_med          int64\n",
      "mths_since_last_major_derog       float64\n",
      "policy_code                         int64\n",
      "application_type                   object\n",
      "annual_inc_joint                  float64\n",
      "dti_joint                         float64\n",
      "verification_status_joint          object\n",
      "acc_now_delinq                      int64\n",
      "tot_coll_amt                        int64\n",
      "tot_cur_bal                         int64\n",
      "open_acc_6m                       float64\n",
      "open_il_6m                        float64\n",
      "open_il_12m                       float64\n",
      "open_il_24m                       float64\n",
      "mths_since_rcnt_il                float64\n",
      "total_bal_il                      float64\n",
      "il_util                           float64\n",
      "open_rv_12m                       float64\n",
      "open_rv_24m                       float64\n",
      "max_bal_bc                        float64\n",
      "all_util                          float64\n",
      "total_rev_hi_lim                    int64\n",
      "inq_fi                            float64\n",
      "total_cu_tl                       float64\n",
      "inq_last_12m                      float64\n",
      "acc_open_past_24mths                int64\n",
      "avg_cur_bal                         int64\n",
      "bc_open_to_buy                    float64\n",
      "bc_util                           float64\n",
      "chargeoff_within_12_mths            int64\n",
      "delinq_amnt                         int64\n",
      "mo_sin_old_il_acct                float64\n",
      "mo_sin_old_rev_tl_op                int64\n",
      "mo_sin_rcnt_rev_tl_op               int64\n",
      "mo_sin_rcnt_tl                      int64\n",
      "mort_acc                            int64\n",
      "mths_since_recent_bc              float64\n",
      "mths_since_recent_bc_dlq          float64\n",
      "mths_since_recent_inq             float64\n",
      "mths_since_recent_revol_delinq    float64\n",
      "num_accts_ever_120_pd               int64\n",
      "num_actv_bc_tl                      int64\n",
      "num_actv_rev_tl                     int64\n",
      "num_bc_sats                         int64\n",
      "num_bc_tl                           int64\n",
      "num_il_tl                           int64\n",
      "num_op_rev_tl                       int64\n",
      "num_rev_accts                     float64\n",
      "num_rev_tl_bal_gt_0                 int64\n",
      "num_sats                            int64\n",
      "num_tl_120dpd_2m                  float64\n",
      "num_tl_30dpd                        int64\n",
      "num_tl_90g_dpd_24m                  int64\n",
      "num_tl_op_past_12m                  int64\n",
      "pct_tl_nvr_dlq                    float64\n",
      "percent_bc_gt_75                  float64\n",
      "pub_rec_bankruptcies                int64\n",
      "tax_liens                           int64\n",
      "tot_hi_cred_lim                     int64\n",
      "total_bal_ex_mort                   int64\n",
      "total_bc_limit                      int64\n",
      "total_il_high_credit_limit          int64\n",
      "dtype: object\n"
     ]
    }
   ],
   "source": [
    "print_full(df.dtypes)"
   ]
  },
  {
   "cell_type": "code",
   "execution_count": 25,
   "metadata": {
    "collapsed": false
   },
   "outputs": [
    {
     "data": {
      "text/plain": [
       "Current               277527\n",
       "Fully Paid             94968\n",
       "Charged Off            33416\n",
       "Late (31-120 days)      8626\n",
       "In Grace Period         4674\n",
       "Late (16-30 days)       1624\n",
       "Default                  260\n",
       "Name: loan_status, dtype: int64"
      ]
     },
     "execution_count": 25,
     "metadata": {},
     "output_type": "execute_result"
    }
   ],
   "source": [
    "pd.Series(df['loan_status']).value_counts()"
   ]
  },
  {
   "cell_type": "code",
   "execution_count": 43,
   "metadata": {
    "collapsed": false
   },
   "outputs": [
    {
     "data": {
      "text/plain": [
       "id                                12643\n",
       "member_id                         12643\n",
       "loan_amnt                         12643\n",
       "funded_amnt                       12643\n",
       "funded_amnt_inv                   12643\n",
       "term                              12643\n",
       "int_rate                          12643\n",
       "installment                       12643\n",
       "grade                             12643\n",
       "sub_grade                         12643\n",
       "emp_title                         11865\n",
       "emp_length                        12643\n",
       "home_ownership                    12643\n",
       "annual_inc                        12643\n",
       "verification_status               12643\n",
       "issue_d                           12643\n",
       "loan_status                       12643\n",
       "pymnt_plan                        12643\n",
       "url                               12643\n",
       "desc                                  0\n",
       "purpose                           12643\n",
       "title                             12641\n",
       "zip_code                          12643\n",
       "addr_state                        12643\n",
       "dti                               12643\n",
       "delinq_2yrs                       12643\n",
       "earliest_cr_line                  12643\n",
       "inq_last_6mths                    12643\n",
       "mths_since_last_delinq             6692\n",
       "mths_since_last_record             2629\n",
       "open_acc                          12643\n",
       "pub_rec                           12643\n",
       "revol_bal                         12643\n",
       "revol_util                        12637\n",
       "total_acc                         12643\n",
       "initial_list_status               12643\n",
       "out_prncp                         12643\n",
       "out_prncp_inv                     12643\n",
       "total_pymnt                       12643\n",
       "total_pymnt_inv                   12643\n",
       "total_rec_prncp                   12643\n",
       "total_rec_int                     12643\n",
       "total_rec_late_fee                12643\n",
       "recoveries                        12643\n",
       "collection_recovery_fee           12643\n",
       "last_pymnt_d                      12459\n",
       "last_pymnt_amnt                   12643\n",
       "next_pymnt_d                          0\n",
       "last_credit_pull_d                12643\n",
       "collections_12_mths_ex_med        12643\n",
       "                                  ...  \n",
       "open_il_12m                         242\n",
       "open_il_24m                         242\n",
       "mths_since_rcnt_il                  235\n",
       "total_bal_il                        242\n",
       "il_util                             218\n",
       "open_rv_12m                         242\n",
       "open_rv_24m                         242\n",
       "max_bal_bc                          242\n",
       "all_util                            242\n",
       "total_rev_hi_lim                  12643\n",
       "inq_fi                              242\n",
       "total_cu_tl                         242\n",
       "inq_last_12m                        242\n",
       "acc_open_past_24mths              12643\n",
       "avg_cur_bal                       12643\n",
       "bc_open_to_buy                    12470\n",
       "bc_util                           12461\n",
       "chargeoff_within_12_mths          12643\n",
       "delinq_amnt                       12643\n",
       "mo_sin_old_il_acct                12328\n",
       "mo_sin_old_rev_tl_op              12643\n",
       "mo_sin_rcnt_rev_tl_op             12643\n",
       "mo_sin_rcnt_tl                    12643\n",
       "mort_acc                          12643\n",
       "mths_since_recent_bc              12471\n",
       "mths_since_recent_bc_dlq           3522\n",
       "mths_since_recent_inq             11897\n",
       "mths_since_recent_revol_delinq     4710\n",
       "num_accts_ever_120_pd             12643\n",
       "num_actv_bc_tl                    12643\n",
       "num_actv_rev_tl                   12643\n",
       "num_bc_sats                       12643\n",
       "num_bc_tl                         12643\n",
       "num_il_tl                         12643\n",
       "num_op_rev_tl                     12643\n",
       "num_rev_accts                     12643\n",
       "num_rev_tl_bal_gt_0               12643\n",
       "num_sats                          12643\n",
       "num_tl_120dpd_2m                  12017\n",
       "num_tl_30dpd                      12643\n",
       "num_tl_90g_dpd_24m                12643\n",
       "num_tl_op_past_12m                12643\n",
       "pct_tl_nvr_dlq                    12643\n",
       "percent_bc_gt_75                  12458\n",
       "pub_rec_bankruptcies              12643\n",
       "tax_liens                         12643\n",
       "tot_hi_cred_lim                   12643\n",
       "total_bal_ex_mort                 12643\n",
       "total_bc_limit                    12643\n",
       "total_il_high_credit_limit        12643\n",
       "dtype: int64"
      ]
     },
     "execution_count": 43,
     "metadata": {},
     "output_type": "execute_result"
    }
   ],
   "source": [
    "df[(df['loan_status']=='Charged Off') & (df['collection_recovery_fee']<df['recoveries'])].count()"
   ]
  },
  {
   "cell_type": "code",
   "execution_count": 141,
   "metadata": {
    "collapsed": false
   },
   "outputs": [
    {
     "data": {
      "text/plain": [
       "<matplotlib.axes._subplots.AxesSubplot at 0xeca03780>"
      ]
     },
     "execution_count": 141,
     "metadata": {},
     "output_type": "execute_result"
    },
    {
     "data": {
      "image/png": "[encoded data removed]",
      "text/plain": [
       "<matplotlib.figure.Figure at 0x111ebadd8>"
      ]
     },
     "metadata": {},
     "output_type": "display_data"
    }
   ],
   "source": [
    "sns.barplot(x='grade', y='orig_fee', data=df, order = ['A','B','C','D','E','F','G'])"
   ]
  },
  {
   "cell_type": "markdown",
   "metadata": {},
   "source": []
  },
  {
   "cell_type": "code",
   "execution_count": 4,
   "metadata": {
    "collapsed": false
   },
   "outputs": [
    {
     "data": {
      "text/plain": [
       "Oct-2015    48631\n",
       "Jul-2015    45962\n",
       "Dec-2015    44343\n",
       "Nov-2015    37530\n",
       "Aug-2015    35886\n",
       "Apr-2015    35427\n",
       "Jan-2015    35107\n",
       "May-2015    31913\n",
       "Sep-2015    28641\n",
       "Jun-2015    28485\n",
       "Mar-2015    25400\n",
       "Feb-2015    23770\n",
       "Name: issue_d, dtype: int64"
      ]
     },
     "execution_count": 4,
     "metadata": {},
     "output_type": "execute_result"
    }
   ],
   "source": [
    "pd.Series(df['issue_d']).value_counts()"
   ]
  },
  {
   "cell_type": "code",
   "execution_count": 7,
   "metadata": {
    "collapsed": false
   },
   "outputs": [
    {
     "data": {
      "text/html": [
       "<div>\n",
       "<table border=\"1\" class=\"dataframe\">\n",
       "  <thead>\n",
       "    <tr style=\"text-align: right;\">\n",
       "      <th></th>\n",
       "      <th>id</th>\n",
       "      <th>member_id</th>\n",
       "      <th>loan_amnt</th>\n",
       "      <th>funded_amnt</th>\n",
       "      <th>funded_amnt_inv</th>\n",
       "      <th>term</th>\n",
       "      <th>int_rate</th>\n",
       "      <th>installment</th>\n",
       "      <th>grade</th>\n",
       "      <th>sub_grade</th>\n",
       "      <th>emp_title</th>\n",
       "      <th>emp_length</th>\n",
       "      <th>home_ownership</th>\n",
       "      <th>annual_inc</th>\n",
       "      <th>verification_status</th>\n",
       "      <th>issue_d</th>\n",
       "      <th>loan_status</th>\n",
       "      <th>pymnt_plan</th>\n",
       "      <th>url</th>\n",
       "      <th>desc</th>\n",
       "      <th>purpose</th>\n",
       "      <th>title</th>\n",
       "      <th>zip_code</th>\n",
       "      <th>addr_state</th>\n",
       "      <th>dti</th>\n",
       "      <th>delinq_2yrs</th>\n",
       "      <th>earliest_cr_line</th>\n",
       "      <th>inq_last_6mths</th>\n",
       "      <th>mths_since_last_delinq</th>\n",
       "      <th>mths_since_last_record</th>\n",
       "      <th>open_acc</th>\n",
       "      <th>pub_rec</th>\n",
       "      <th>revol_bal</th>\n",
       "      <th>revol_util</th>\n",
       "      <th>total_acc</th>\n",
       "      <th>initial_list_status</th>\n",
       "      <th>out_prncp</th>\n",
       "      <th>out_prncp_inv</th>\n",
       "      <th>total_pymnt</th>\n",
       "      <th>total_pymnt_inv</th>\n",
       "      <th>total_rec_prncp</th>\n",
       "      <th>total_rec_int</th>\n",
       "      <th>total_rec_late_fee</th>\n",
       "      <th>recoveries</th>\n",
       "      <th>collection_recovery_fee</th>\n",
       "      <th>last_pymnt_d</th>\n",
       "      <th>last_pymnt_amnt</th>\n",
       "      <th>next_pymnt_d</th>\n",
       "      <th>last_credit_pull_d</th>\n",
       "      <th>collections_12_mths_ex_med</th>\n",
       "      <th>mths_since_last_major_derog</th>\n",
       "      <th>policy_code</th>\n",
       "      <th>application_type</th>\n",
       "      <th>annual_inc_joint</th>\n",
       "      <th>dti_joint</th>\n",
       "      <th>verification_status_joint</th>\n",
       "      <th>acc_now_delinq</th>\n",
       "      <th>tot_coll_amt</th>\n",
       "      <th>tot_cur_bal</th>\n",
       "      <th>open_acc_6m</th>\n",
       "      <th>open_il_6m</th>\n",
       "      <th>open_il_12m</th>\n",
       "      <th>open_il_24m</th>\n",
       "      <th>mths_since_rcnt_il</th>\n",
       "      <th>total_bal_il</th>\n",
       "      <th>il_util</th>\n",
       "      <th>open_rv_12m</th>\n",
       "      <th>open_rv_24m</th>\n",
       "      <th>max_bal_bc</th>\n",
       "      <th>all_util</th>\n",
       "      <th>total_rev_hi_lim</th>\n",
       "      <th>inq_fi</th>\n",
       "      <th>total_cu_tl</th>\n",
       "      <th>inq_last_12m</th>\n",
       "      <th>acc_open_past_24mths</th>\n",
       "      <th>avg_cur_bal</th>\n",
       "      <th>bc_open_to_buy</th>\n",
       "      <th>bc_util</th>\n",
       "      <th>chargeoff_within_12_mths</th>\n",
       "      <th>delinq_amnt</th>\n",
       "      <th>mo_sin_old_il_acct</th>\n",
       "      <th>mo_sin_old_rev_tl_op</th>\n",
       "      <th>mo_sin_rcnt_rev_tl_op</th>\n",
       "      <th>mo_sin_rcnt_tl</th>\n",
       "      <th>mort_acc</th>\n",
       "      <th>mths_since_recent_bc</th>\n",
       "      <th>mths_since_recent_bc_dlq</th>\n",
       "      <th>mths_since_recent_inq</th>\n",
       "      <th>mths_since_recent_revol_delinq</th>\n",
       "      <th>num_accts_ever_120_pd</th>\n",
       "      <th>num_actv_bc_tl</th>\n",
       "      <th>num_actv_rev_tl</th>\n",
       "      <th>num_bc_sats</th>\n",
       "      <th>num_bc_tl</th>\n",
       "      <th>num_il_tl</th>\n",
       "      <th>num_op_rev_tl</th>\n",
       "      <th>num_rev_accts</th>\n",
       "      <th>num_rev_tl_bal_gt_0</th>\n",
       "      <th>num_sats</th>\n",
       "      <th>num_tl_120dpd_2m</th>\n",
       "      <th>num_tl_30dpd</th>\n",
       "      <th>num_tl_90g_dpd_24m</th>\n",
       "      <th>num_tl_op_past_12m</th>\n",
       "      <th>pct_tl_nvr_dlq</th>\n",
       "      <th>percent_bc_gt_75</th>\n",
       "      <th>pub_rec_bankruptcies</th>\n",
       "      <th>tax_liens</th>\n",
       "      <th>tot_hi_cred_lim</th>\n",
       "      <th>total_bal_ex_mort</th>\n",
       "      <th>total_bc_limit</th>\n",
       "      <th>total_il_high_credit_limit</th>\n",
       "    </tr>\n",
       "  </thead>\n",
       "  <tbody>\n",
       "    <tr>\n",
       "      <th>0</th>\n",
       "      <td>68615169</td>\n",
       "      <td>73517949</td>\n",
       "      <td>16000</td>\n",
       "      <td>16000</td>\n",
       "      <td>16000.0</td>\n",
       "      <td>60 months</td>\n",
       "      <td>8.49%</td>\n",
       "      <td>328.19</td>\n",
       "      <td>B</td>\n",
       "      <td>B1</td>\n",
       "      <td>Supervisor</td>\n",
       "      <td>5 years</td>\n",
       "      <td>MORTGAGE</td>\n",
       "      <td>62000.0</td>\n",
       "      <td>Source Verified</td>\n",
       "      <td>Dec-2015</td>\n",
       "      <td>Current</td>\n",
       "      <td>n</td>\n",
       "      <td>https://lendingclub.com/browse/loanDetail.acti...</td>\n",
       "      <td>NaN</td>\n",
       "      <td>credit_card</td>\n",
       "      <td>Credit card refinancing</td>\n",
       "      <td>936xx</td>\n",
       "      <td>CA</td>\n",
       "      <td>28.92</td>\n",
       "      <td>0</td>\n",
       "      <td>Mar-2002</td>\n",
       "      <td>0</td>\n",
       "      <td>39.0</td>\n",
       "      <td>NaN</td>\n",
       "      <td>10</td>\n",
       "      <td>0</td>\n",
       "      <td>15763</td>\n",
       "      <td>51.2%</td>\n",
       "      <td>24</td>\n",
       "      <td>w</td>\n",
       "      <td>13083.35</td>\n",
       "      <td>13083.35</td>\n",
       "      <td>4247.6</td>\n",
       "      <td>4247.6</td>\n",
       "      <td>2916.65</td>\n",
       "      <td>1330.95</td>\n",
       "      <td>0.0</td>\n",
       "      <td>0.0</td>\n",
       "      <td>0.0</td>\n",
       "      <td>Feb-2017</td>\n",
       "      <td>328.19</td>\n",
       "      <td>Mar-2017</td>\n",
       "      <td>Feb-2017</td>\n",
       "      <td>0</td>\n",
       "      <td>61.0</td>\n",
       "      <td>1</td>\n",
       "      <td>INDIVIDUAL</td>\n",
       "      <td>NaN</td>\n",
       "      <td>NaN</td>\n",
       "      <td>NaN</td>\n",
       "      <td>0</td>\n",
       "      <td>0</td>\n",
       "      <td>227708</td>\n",
       "      <td>3.0</td>\n",
       "      <td>3.0</td>\n",
       "      <td>1.0</td>\n",
       "      <td>2.0</td>\n",
       "      <td>3.0</td>\n",
       "      <td>48608.0</td>\n",
       "      <td>82.0</td>\n",
       "      <td>2.0</td>\n",
       "      <td>4.0</td>\n",
       "      <td>4727.0</td>\n",
       "      <td>71.0</td>\n",
       "      <td>30800</td>\n",
       "      <td>1.0</td>\n",
       "      <td>1.0</td>\n",
       "      <td>0.0</td>\n",
       "      <td>6</td>\n",
       "      <td>22771</td>\n",
       "      <td>8703.0</td>\n",
       "      <td>63.0</td>\n",
       "      <td>0</td>\n",
       "      <td>0</td>\n",
       "      <td>165.0</td>\n",
       "      <td>159</td>\n",
       "      <td>3</td>\n",
       "      <td>3</td>\n",
       "      <td>3</td>\n",
       "      <td>3.0</td>\n",
       "      <td>NaN</td>\n",
       "      <td>17.0</td>\n",
       "      <td>39.0</td>\n",
       "      <td>1</td>\n",
       "      <td>4</td>\n",
       "      <td>5</td>\n",
       "      <td>4</td>\n",
       "      <td>7</td>\n",
       "      <td>9</td>\n",
       "      <td>6</td>\n",
       "      <td>12.0</td>\n",
       "      <td>6</td>\n",
       "      <td>10</td>\n",
       "      <td>0.0</td>\n",
       "      <td>0</td>\n",
       "      <td>0</td>\n",
       "      <td>3</td>\n",
       "      <td>87.5</td>\n",
       "      <td>50.0</td>\n",
       "      <td>0</td>\n",
       "      <td>0</td>\n",
       "      <td>307343</td>\n",
       "      <td>64371</td>\n",
       "      <td>23500</td>\n",
       "      <td>59526</td>\n",
       "    </tr>\n",
       "  </tbody>\n",
       "</table>\n",
       "</div>"
      ],
      "text/plain": [
       "         id  member_id  loan_amnt  funded_amnt  funded_amnt_inv        term  \\\n",
       "0  68615169   73517949      16000        16000          16000.0   60 months   \n",
       "\n",
       "  int_rate  installment grade sub_grade   emp_title emp_length home_ownership  \\\n",
       "0    8.49%       328.19     B        B1  Supervisor    5 years       MORTGAGE   \n",
       "\n",
       "   annual_inc verification_status   issue_d loan_status pymnt_plan  \\\n",
       "0     62000.0     Source Verified  Dec-2015     Current          n   \n",
       "\n",
       "                                                 url desc      purpose  \\\n",
       "0  https://lendingclub.com/browse/loanDetail.acti...  NaN  credit_card   \n",
       "\n",
       "                     title zip_code addr_state    dti  delinq_2yrs  \\\n",
       "0  Credit card refinancing    936xx         CA  28.92            0   \n",
       "\n",
       "  earliest_cr_line  inq_last_6mths  mths_since_last_delinq  \\\n",
       "0         Mar-2002               0                    39.0   \n",
       "\n",
       "   mths_since_last_record  open_acc  pub_rec  revol_bal revol_util  total_acc  \\\n",
       "0                     NaN        10        0      15763      51.2%         24   \n",
       "\n",
       "  initial_list_status  out_prncp  out_prncp_inv  total_pymnt  total_pymnt_inv  \\\n",
       "0                   w   13083.35       13083.35       4247.6           4247.6   \n",
       "\n",
       "   total_rec_prncp  total_rec_int  total_rec_late_fee  recoveries  \\\n",
       "0          2916.65        1330.95                 0.0         0.0   \n",
       "\n",
       "   collection_recovery_fee last_pymnt_d  last_pymnt_amnt next_pymnt_d  \\\n",
       "0                      0.0     Feb-2017           328.19     Mar-2017   \n",
       "\n",
       "  last_credit_pull_d  collections_12_mths_ex_med  mths_since_last_major_derog  \\\n",
       "0           Feb-2017                           0                         61.0   \n",
       "\n",
       "   policy_code application_type  annual_inc_joint  dti_joint  \\\n",
       "0            1       INDIVIDUAL               NaN        NaN   \n",
       "\n",
       "  verification_status_joint  acc_now_delinq  tot_coll_amt  tot_cur_bal  \\\n",
       "0                       NaN               0             0       227708   \n",
       "\n",
       "   open_acc_6m  open_il_6m  open_il_12m  open_il_24m  mths_since_rcnt_il  \\\n",
       "0          3.0         3.0          1.0          2.0                 3.0   \n",
       "\n",
       "   total_bal_il  il_util  open_rv_12m  open_rv_24m  max_bal_bc  all_util  \\\n",
       "0       48608.0     82.0          2.0          4.0      4727.0      71.0   \n",
       "\n",
       "   total_rev_hi_lim  inq_fi  total_cu_tl  inq_last_12m  acc_open_past_24mths  \\\n",
       "0             30800     1.0          1.0           0.0                     6   \n",
       "\n",
       "   avg_cur_bal  bc_open_to_buy  bc_util  chargeoff_within_12_mths  \\\n",
       "0        22771          8703.0     63.0                         0   \n",
       "\n",
       "   delinq_amnt  mo_sin_old_il_acct  mo_sin_old_rev_tl_op  \\\n",
       "0            0               165.0                   159   \n",
       "\n",
       "   mo_sin_rcnt_rev_tl_op  mo_sin_rcnt_tl  mort_acc  mths_since_recent_bc  \\\n",
       "0                      3               3         3                   3.0   \n",
       "\n",
       "   mths_since_recent_bc_dlq  mths_since_recent_inq  \\\n",
       "0                       NaN                   17.0   \n",
       "\n",
       "   mths_since_recent_revol_delinq  num_accts_ever_120_pd  num_actv_bc_tl  \\\n",
       "0                            39.0                      1               4   \n",
       "\n",
       "   num_actv_rev_tl  num_bc_sats  num_bc_tl  num_il_tl  num_op_rev_tl  \\\n",
       "0                5            4          7          9              6   \n",
       "\n",
       "   num_rev_accts  num_rev_tl_bal_gt_0  num_sats  num_tl_120dpd_2m  \\\n",
       "0           12.0                    6        10               0.0   \n",
       "\n",
       "   num_tl_30dpd  num_tl_90g_dpd_24m  num_tl_op_past_12m  pct_tl_nvr_dlq  \\\n",
       "0             0                   0                   3            87.5   \n",
       "\n",
       "   percent_bc_gt_75  pub_rec_bankruptcies  tax_liens  tot_hi_cred_lim  \\\n",
       "0              50.0                     0          0           307343   \n",
       "\n",
       "   total_bal_ex_mort  total_bc_limit  total_il_high_credit_limit  \n",
       "0              64371           23500                       59526  "
      ]
     },
     "execution_count": 7,
     "metadata": {},
     "output_type": "execute_result"
    }
   ],
   "source": [
    "df[df['member_id']==73517949]"
   ]
  },
  {
   "cell_type": "code",
   "execution_count": 14,
   "metadata": {
    "collapsed": false
   },
   "outputs": [
    {
     "name": "stderr",
     "output_type": "stream",
     "text": [
      "C:\\Users\\Chao Cheng\\Anaconda2\\lib\\site-packages\\IPython\\core\\interactiveshell.py:2717: DtypeWarning: Columns (0,1,2,3,4,7,13,18,19,24,25,27,28,29,30,31,32,34,36,37,38,39,40,41,42,43,44,46,49,50,51,53,54,56,57,58,59,60,61,62,63,64,65,66,67,68,69,70,71,72,73,74,75,76,77,78,79,80,81,82,83,84,85,86,87,88,89,90,91,92,93,94,95,96,97,98,99,100,101,102,103,104,105,106,107,108,109,110,111,112,113,114,115,116,117,118,119,120,121) have mixed types. Specify dtype option on import or set low_memory=False.\n",
      "  interactivity=interactivity, compiler=compiler, result=result)\n"
     ]
    }
   ],
   "source": [
    "df_test = pd.read_csv(data_loc +'\\\\'+ 'LoanStats_2017Q1.csv')"
   ]
  },
  {
   "cell_type": "code",
   "execution_count": 16,
   "metadata": {
    "collapsed": false
   },
   "outputs": [
    {
     "data": {
      "text/plain": [
       "(96782, 1)"
      ]
     },
     "execution_count": 16,
     "metadata": {},
     "output_type": "execute_result"
    }
   ],
   "source": [
    "df_test.shape"
   ]
  },
  {
   "cell_type": "code",
   "execution_count": 17,
   "metadata": {
    "collapsed": false
   },
   "outputs": [
    {
     "data": {
      "text/html": [
       "<div>\n",
       "<table border=\"1\" class=\"dataframe\">\n",
       "  <thead>\n",
       "    <tr style=\"text-align: right;\">\n",
       "      <th></th>\n",
       "      <th></th>\n",
       "      <th></th>\n",
       "      <th></th>\n",
       "      <th></th>\n",
       "      <th></th>\n",
       "      <th></th>\n",
       "      <th></th>\n",
       "      <th></th>\n",
       "      <th></th>\n",
       "      <th></th>\n",
       "      <th></th>\n",
       "      <th></th>\n",
       "      <th></th>\n",
       "      <th></th>\n",
       "      <th></th>\n",
       "      <th></th>\n",
       "      <th></th>\n",
       "      <th></th>\n",
       "      <th></th>\n",
       "      <th></th>\n",
       "      <th></th>\n",
       "      <th></th>\n",
       "      <th></th>\n",
       "      <th></th>\n",
       "      <th></th>\n",
       "      <th></th>\n",
       "      <th></th>\n",
       "      <th></th>\n",
       "      <th></th>\n",
       "      <th></th>\n",
       "      <th></th>\n",
       "      <th></th>\n",
       "      <th></th>\n",
       "      <th></th>\n",
       "      <th></th>\n",
       "      <th></th>\n",
       "      <th></th>\n",
       "      <th></th>\n",
       "      <th></th>\n",
       "      <th></th>\n",
       "      <th></th>\n",
       "      <th></th>\n",
       "      <th></th>\n",
       "      <th></th>\n",
       "      <th></th>\n",
       "      <th></th>\n",
       "      <th></th>\n",
       "      <th></th>\n",
       "      <th></th>\n",
       "      <th></th>\n",
       "      <th></th>\n",
       "      <th></th>\n",
       "      <th></th>\n",
       "      <th></th>\n",
       "      <th></th>\n",
       "      <th></th>\n",
       "      <th></th>\n",
       "      <th></th>\n",
       "      <th></th>\n",
       "      <th></th>\n",
       "      <th></th>\n",
       "      <th></th>\n",
       "      <th></th>\n",
       "      <th></th>\n",
       "      <th></th>\n",
       "      <th></th>\n",
       "      <th></th>\n",
       "      <th></th>\n",
       "      <th></th>\n",
       "      <th></th>\n",
       "      <th></th>\n",
       "      <th></th>\n",
       "      <th></th>\n",
       "      <th></th>\n",
       "      <th></th>\n",
       "      <th></th>\n",
       "      <th></th>\n",
       "      <th></th>\n",
       "      <th></th>\n",
       "      <th></th>\n",
       "      <th></th>\n",
       "      <th></th>\n",
       "      <th></th>\n",
       "      <th></th>\n",
       "      <th></th>\n",
       "      <th></th>\n",
       "      <th></th>\n",
       "      <th></th>\n",
       "      <th></th>\n",
       "      <th></th>\n",
       "      <th></th>\n",
       "      <th></th>\n",
       "      <th></th>\n",
       "      <th></th>\n",
       "      <th></th>\n",
       "      <th></th>\n",
       "      <th></th>\n",
       "      <th></th>\n",
       "      <th></th>\n",
       "      <th></th>\n",
       "      <th></th>\n",
       "      <th></th>\n",
       "      <th></th>\n",
       "      <th></th>\n",
       "      <th></th>\n",
       "      <th></th>\n",
       "      <th></th>\n",
       "      <th></th>\n",
       "      <th></th>\n",
       "      <th></th>\n",
       "      <th></th>\n",
       "      <th></th>\n",
       "      <th></th>\n",
       "      <th></th>\n",
       "      <th></th>\n",
       "      <th></th>\n",
       "      <th></th>\n",
       "      <th></th>\n",
       "      <th></th>\n",
       "      <th></th>\n",
       "      <th>Notes offered by Prospectus (https://www.lendingclub.com/info/prospectus.action)</th>\n",
       "    </tr>\n",
       "  </thead>\n",
       "  <tbody>\n",
       "    <tr>\n",
       "      <th>id</th>\n",
       "      <th>member_id</th>\n",
       "      <th>loan_amnt</th>\n",
       "      <th>funded_amnt</th>\n",
       "      <th>funded_amnt_inv</th>\n",
       "      <th>term</th>\n",
       "      <th>int_rate</th>\n",
       "      <th>installment</th>\n",
       "      <th>grade</th>\n",
       "      <th>sub_grade</th>\n",
       "      <th>emp_title</th>\n",
       "      <th>emp_length</th>\n",
       "      <th>home_ownership</th>\n",
       "      <th>annual_inc</th>\n",
       "      <th>verification_status</th>\n",
       "      <th>issue_d</th>\n",
       "      <th>loan_status</th>\n",
       "      <th>pymnt_plan</th>\n",
       "      <th>url</th>\n",
       "      <th>desc</th>\n",
       "      <th>purpose</th>\n",
       "      <th>title</th>\n",
       "      <th>zip_code</th>\n",
       "      <th>addr_state</th>\n",
       "      <th>dti</th>\n",
       "      <th>delinq_2yrs</th>\n",
       "      <th>earliest_cr_line</th>\n",
       "      <th>inq_last_6mths</th>\n",
       "      <th>mths_since_last_delinq</th>\n",
       "      <th>mths_since_last_record</th>\n",
       "      <th>open_acc</th>\n",
       "      <th>pub_rec</th>\n",
       "      <th>revol_bal</th>\n",
       "      <th>revol_util</th>\n",
       "      <th>total_acc</th>\n",
       "      <th>initial_list_status</th>\n",
       "      <th>out_prncp</th>\n",
       "      <th>out_prncp_inv</th>\n",
       "      <th>total_pymnt</th>\n",
       "      <th>total_pymnt_inv</th>\n",
       "      <th>total_rec_prncp</th>\n",
       "      <th>total_rec_int</th>\n",
       "      <th>total_rec_late_fee</th>\n",
       "      <th>recoveries</th>\n",
       "      <th>collection_recovery_fee</th>\n",
       "      <th>last_pymnt_d</th>\n",
       "      <th>last_pymnt_amnt</th>\n",
       "      <th>next_pymnt_d</th>\n",
       "      <th>last_credit_pull_d</th>\n",
       "      <th>collections_12_mths_ex_med</th>\n",
       "      <th>mths_since_last_major_derog</th>\n",
       "      <th>policy_code</th>\n",
       "      <th>application_type</th>\n",
       "      <th>annual_inc_joint</th>\n",
       "      <th>dti_joint</th>\n",
       "      <th>verification_status_joint</th>\n",
       "      <th>acc_now_delinq</th>\n",
       "      <th>tot_coll_amt</th>\n",
       "      <th>tot_cur_bal</th>\n",
       "      <th>open_acc_6m</th>\n",
       "      <th>open_il_6m</th>\n",
       "      <th>open_il_12m</th>\n",
       "      <th>open_il_24m</th>\n",
       "      <th>mths_since_rcnt_il</th>\n",
       "      <th>total_bal_il</th>\n",
       "      <th>il_util</th>\n",
       "      <th>open_rv_12m</th>\n",
       "      <th>open_rv_24m</th>\n",
       "      <th>max_bal_bc</th>\n",
       "      <th>all_util</th>\n",
       "      <th>total_rev_hi_lim</th>\n",
       "      <th>inq_fi</th>\n",
       "      <th>total_cu_tl</th>\n",
       "      <th>inq_last_12m</th>\n",
       "      <th>acc_open_past_24mths</th>\n",
       "      <th>avg_cur_bal</th>\n",
       "      <th>bc_open_to_buy</th>\n",
       "      <th>bc_util</th>\n",
       "      <th>chargeoff_within_12_mths</th>\n",
       "      <th>delinq_amnt</th>\n",
       "      <th>mo_sin_old_il_acct</th>\n",
       "      <th>mo_sin_old_rev_tl_op</th>\n",
       "      <th>mo_sin_rcnt_rev_tl_op</th>\n",
       "      <th>mo_sin_rcnt_tl</th>\n",
       "      <th>mort_acc</th>\n",
       "      <th>mths_since_recent_bc</th>\n",
       "      <th>mths_since_recent_bc_dlq</th>\n",
       "      <th>mths_since_recent_inq</th>\n",
       "      <th>mths_since_recent_revol_delinq</th>\n",
       "      <th>num_accts_ever_120_pd</th>\n",
       "      <th>num_actv_bc_tl</th>\n",
       "      <th>num_actv_rev_tl</th>\n",
       "      <th>num_bc_sats</th>\n",
       "      <th>num_bc_tl</th>\n",
       "      <th>num_il_tl</th>\n",
       "      <th>num_op_rev_tl</th>\n",
       "      <th>num_rev_accts</th>\n",
       "      <th>num_rev_tl_bal_gt_0</th>\n",
       "      <th>num_sats</th>\n",
       "      <th>num_tl_120dpd_2m</th>\n",
       "      <th>num_tl_30dpd</th>\n",
       "      <th>num_tl_90g_dpd_24m</th>\n",
       "      <th>num_tl_op_past_12m</th>\n",
       "      <th>pct_tl_nvr_dlq</th>\n",
       "      <th>percent_bc_gt_75</th>\n",
       "      <th>pub_rec_bankruptcies</th>\n",
       "      <th>tax_liens</th>\n",
       "      <th>tot_hi_cred_lim</th>\n",
       "      <th>total_bal_ex_mort</th>\n",
       "      <th>total_bc_limit</th>\n",
       "      <th>total_il_high_credit_limit</th>\n",
       "      <th>revol_bal_joint</th>\n",
       "      <th>sec_app_earliest_cr_line</th>\n",
       "      <th>sec_app_inq_last_6mths</th>\n",
       "      <th>sec_app_mort_acc</th>\n",
       "      <th>sec_app_open_acc</th>\n",
       "      <th>sec_app_revol_util</th>\n",
       "      <th>sec_app_open_il_6m</th>\n",
       "      <th>sec_app_num_rev_accts</th>\n",
       "      <th>sec_app_chargeoff_within_12_mths</th>\n",
       "      <th>sec_app_collections_12_mths_ex_med</th>\n",
       "      <td>sec_app_mths_since_last_major_derog</td>\n",
       "    </tr>\n",
       "    <tr>\n",
       "      <th rowspan=\"4\" valign=\"top\">NaN</th>\n",
       "      <th rowspan=\"4\" valign=\"top\">NaN</th>\n",
       "      <th>3600</th>\n",
       "      <th>3600</th>\n",
       "      <th>3600</th>\n",
       "      <th>36 months</th>\n",
       "      <th>7.49%</th>\n",
       "      <th>111.97</th>\n",
       "      <th>A</th>\n",
       "      <th>A4</th>\n",
       "      <th>Code/Compliance Inspector</th>\n",
       "      <th>10+ years</th>\n",
       "      <th>MORTGAGE</th>\n",
       "      <th>120000</th>\n",
       "      <th>Not Verified</th>\n",
       "      <th>Mar-2017</th>\n",
       "      <th>Issued</th>\n",
       "      <th>n</th>\n",
       "      <th>NaN</th>\n",
       "      <th>NaN</th>\n",
       "      <th>other</th>\n",
       "      <th>Other</th>\n",
       "      <th>467xx</th>\n",
       "      <th>IN</th>\n",
       "      <th>18.9</th>\n",
       "      <th>0</th>\n",
       "      <th>Aug-1992</th>\n",
       "      <th>1</th>\n",
       "      <th>NaN</th>\n",
       "      <th>96</th>\n",
       "      <th>18</th>\n",
       "      <th>1</th>\n",
       "      <th>5658</th>\n",
       "      <th>14.9%</th>\n",
       "      <th>33</th>\n",
       "      <th>w</th>\n",
       "      <th>3600.00</th>\n",
       "      <th>3600.00</th>\n",
       "      <th>0.0</th>\n",
       "      <th>0.00</th>\n",
       "      <th>0.00</th>\n",
       "      <th>0.00</th>\n",
       "      <th>0.0</th>\n",
       "      <th>0.0</th>\n",
       "      <th>0.0</th>\n",
       "      <th>NaN</th>\n",
       "      <th>0.0</th>\n",
       "      <th>Apr-2017</th>\n",
       "      <th>Apr-2017</th>\n",
       "      <th>0</th>\n",
       "      <th>NaN</th>\n",
       "      <th>1</th>\n",
       "      <th>INDIVIDUAL</th>\n",
       "      <th>NaN</th>\n",
       "      <th>NaN</th>\n",
       "      <th>NaN</th>\n",
       "      <th>0</th>\n",
       "      <th>0</th>\n",
       "      <th>36506</th>\n",
       "      <th>2</th>\n",
       "      <th>6</th>\n",
       "      <th>2</th>\n",
       "      <th>6</th>\n",
       "      <th>2</th>\n",
       "      <th>30848</th>\n",
       "      <th>55</th>\n",
       "      <th>4</th>\n",
       "      <th>7</th>\n",
       "      <th>1020</th>\n",
       "      <th>39</th>\n",
       "      <th>37900</th>\n",
       "      <th>3</th>\n",
       "      <th>1</th>\n",
       "      <th>4</th>\n",
       "      <th>13</th>\n",
       "      <th>2147</th>\n",
       "      <th>7980</th>\n",
       "      <th>11.3</th>\n",
       "      <th>0</th>\n",
       "      <th>0</th>\n",
       "      <th>166</th>\n",
       "      <th>295</th>\n",
       "      <th>3</th>\n",
       "      <th>2</th>\n",
       "      <th>0</th>\n",
       "      <th>9</th>\n",
       "      <th>NaN</th>\n",
       "      <th>2</th>\n",
       "      <th>NaN</th>\n",
       "      <th>0</th>\n",
       "      <th>1</th>\n",
       "      <th>4</th>\n",
       "      <th>2</th>\n",
       "      <th>3</th>\n",
       "      <th>17</th>\n",
       "      <th>12</th>\n",
       "      <th>16</th>\n",
       "      <th>4</th>\n",
       "      <th>18</th>\n",
       "      <th>0</th>\n",
       "      <th>0</th>\n",
       "      <th>0</th>\n",
       "      <th>6</th>\n",
       "      <th>100</th>\n",
       "      <th>0</th>\n",
       "      <th>1</th>\n",
       "      <th>0</th>\n",
       "      <th>93599</th>\n",
       "      <th>36506</th>\n",
       "      <th>9000</th>\n",
       "      <th>55699</th>\n",
       "      <th>NaN</th>\n",
       "      <th>NaN</th>\n",
       "      <th>NaN</th>\n",
       "      <th>NaN</th>\n",
       "      <th>NaN</th>\n",
       "      <th>NaN</th>\n",
       "      <th>NaN</th>\n",
       "      <th>NaN</th>\n",
       "      <th>NaN</th>\n",
       "      <th>NaN</th>\n",
       "      <td>NaN</td>\n",
       "    </tr>\n",
       "    <tr>\n",
       "      <th>15000</th>\n",
       "      <th>15000</th>\n",
       "      <th>15000</th>\n",
       "      <th>60 months</th>\n",
       "      <th>14.99%</th>\n",
       "      <th>356.78</th>\n",
       "      <th>C</th>\n",
       "      <th>C4</th>\n",
       "      <th>Senior Superintendent</th>\n",
       "      <th>10+ years</th>\n",
       "      <th>MORTGAGE</th>\n",
       "      <th>125000</th>\n",
       "      <th>Not Verified</th>\n",
       "      <th>Mar-2017</th>\n",
       "      <th>Issued</th>\n",
       "      <th>n</th>\n",
       "      <th>NaN</th>\n",
       "      <th>NaN</th>\n",
       "      <th>other</th>\n",
       "      <th>Other</th>\n",
       "      <th>064xx</th>\n",
       "      <th>CT</th>\n",
       "      <th>17.25</th>\n",
       "      <th>0</th>\n",
       "      <th>Sep-1989</th>\n",
       "      <th>0</th>\n",
       "      <th>NaN</th>\n",
       "      <th>NaN</th>\n",
       "      <th>11</th>\n",
       "      <th>0</th>\n",
       "      <th>53167</th>\n",
       "      <th>75.3%</th>\n",
       "      <th>18</th>\n",
       "      <th>w</th>\n",
       "      <th>15000.00</th>\n",
       "      <th>15000.00</th>\n",
       "      <th>0.0</th>\n",
       "      <th>0.00</th>\n",
       "      <th>0.00</th>\n",
       "      <th>0.00</th>\n",
       "      <th>0.0</th>\n",
       "      <th>0.0</th>\n",
       "      <th>0.0</th>\n",
       "      <th>NaN</th>\n",
       "      <th>0.0</th>\n",
       "      <th>Apr-2017</th>\n",
       "      <th>Apr-2017</th>\n",
       "      <th>0</th>\n",
       "      <th>NaN</th>\n",
       "      <th>1</th>\n",
       "      <th>INDIVIDUAL</th>\n",
       "      <th>NaN</th>\n",
       "      <th>NaN</th>\n",
       "      <th>NaN</th>\n",
       "      <th>0</th>\n",
       "      <th>0</th>\n",
       "      <th>90423</th>\n",
       "      <th>0</th>\n",
       "      <th>2</th>\n",
       "      <th>0</th>\n",
       "      <th>1</th>\n",
       "      <th>22</th>\n",
       "      <th>16197</th>\n",
       "      <th>54</th>\n",
       "      <th>0</th>\n",
       "      <th>3</th>\n",
       "      <th>15199</th>\n",
       "      <th>69</th>\n",
       "      <th>70600</th>\n",
       "      <th>1</th>\n",
       "      <th>0</th>\n",
       "      <th>0</th>\n",
       "      <th>4</th>\n",
       "      <th>8220</th>\n",
       "      <th>13968</th>\n",
       "      <th>76.8</th>\n",
       "      <th>0</th>\n",
       "      <th>0</th>\n",
       "      <th>158</th>\n",
       "      <th>245</th>\n",
       "      <th>16</th>\n",
       "      <th>16</th>\n",
       "      <th>2</th>\n",
       "      <th>16</th>\n",
       "      <th>NaN</th>\n",
       "      <th>16</th>\n",
       "      <th>NaN</th>\n",
       "      <th>0</th>\n",
       "      <th>5</th>\n",
       "      <th>7</th>\n",
       "      <th>6</th>\n",
       "      <th>8</th>\n",
       "      <th>6</th>\n",
       "      <th>8</th>\n",
       "      <th>10</th>\n",
       "      <th>7</th>\n",
       "      <th>11</th>\n",
       "      <th>0</th>\n",
       "      <th>0</th>\n",
       "      <th>0</th>\n",
       "      <th>0</th>\n",
       "      <th>100</th>\n",
       "      <th>66.7</th>\n",
       "      <th>0</th>\n",
       "      <th>0</th>\n",
       "      <th>148572</th>\n",
       "      <th>69364</th>\n",
       "      <th>60300</th>\n",
       "      <th>30224</th>\n",
       "      <th>NaN</th>\n",
       "      <th>NaN</th>\n",
       "      <th>NaN</th>\n",
       "      <th>NaN</th>\n",
       "      <th>NaN</th>\n",
       "      <th>NaN</th>\n",
       "      <th>NaN</th>\n",
       "      <th>NaN</th>\n",
       "      <th>NaN</th>\n",
       "      <th>NaN</th>\n",
       "      <td>NaN</td>\n",
       "    </tr>\n",
       "    <tr>\n",
       "      <th>8400</th>\n",
       "      <th>8400</th>\n",
       "      <th>8400</th>\n",
       "      <th>36 months</th>\n",
       "      <th>11.39%</th>\n",
       "      <th>276.56</th>\n",
       "      <th>B</th>\n",
       "      <th>B3</th>\n",
       "      <th>IT Tech</th>\n",
       "      <th>8 years</th>\n",
       "      <th>MORTGAGE</th>\n",
       "      <th>50000</th>\n",
       "      <th>Source Verified</th>\n",
       "      <th>Mar-2017</th>\n",
       "      <th>Issued</th>\n",
       "      <th>n</th>\n",
       "      <th>NaN</th>\n",
       "      <th>NaN</th>\n",
       "      <th>other</th>\n",
       "      <th>Other</th>\n",
       "      <th>454xx</th>\n",
       "      <th>OH</th>\n",
       "      <th>15.63</th>\n",
       "      <th>0</th>\n",
       "      <th>Apr-2005</th>\n",
       "      <th>0</th>\n",
       "      <th>NaN</th>\n",
       "      <th>NaN</th>\n",
       "      <th>14</th>\n",
       "      <th>0</th>\n",
       "      <th>12831</th>\n",
       "      <th>30.3%</th>\n",
       "      <th>30</th>\n",
       "      <th>w</th>\n",
       "      <th>8400.00</th>\n",
       "      <th>8400.00</th>\n",
       "      <th>0.0</th>\n",
       "      <th>0.00</th>\n",
       "      <th>0.00</th>\n",
       "      <th>0.00</th>\n",
       "      <th>0.0</th>\n",
       "      <th>0.0</th>\n",
       "      <th>0.0</th>\n",
       "      <th>NaN</th>\n",
       "      <th>0.0</th>\n",
       "      <th>Apr-2017</th>\n",
       "      <th>Apr-2017</th>\n",
       "      <th>0</th>\n",
       "      <th>NaN</th>\n",
       "      <th>1</th>\n",
       "      <th>INDIVIDUAL</th>\n",
       "      <th>NaN</th>\n",
       "      <th>NaN</th>\n",
       "      <th>NaN</th>\n",
       "      <th>0</th>\n",
       "      <th>271</th>\n",
       "      <th>161061</th>\n",
       "      <th>3</th>\n",
       "      <th>2</th>\n",
       "      <th>1</th>\n",
       "      <th>2</th>\n",
       "      <th>10</th>\n",
       "      <th>38760</th>\n",
       "      <th>105</th>\n",
       "      <th>4</th>\n",
       "      <th>8</th>\n",
       "      <th>5338</th>\n",
       "      <th>65</th>\n",
       "      <th>42300</th>\n",
       "      <th>4</th>\n",
       "      <th>1</th>\n",
       "      <th>7</th>\n",
       "      <th>10</th>\n",
       "      <th>12389</th>\n",
       "      <th>24145</th>\n",
       "      <th>33.1</th>\n",
       "      <th>0</th>\n",
       "      <th>0</th>\n",
       "      <th>131</th>\n",
       "      <th>143</th>\n",
       "      <th>4</th>\n",
       "      <th>4</th>\n",
       "      <th>4</th>\n",
       "      <th>4</th>\n",
       "      <th>NaN</th>\n",
       "      <th>10</th>\n",
       "      <th>NaN</th>\n",
       "      <th>0</th>\n",
       "      <th>4</th>\n",
       "      <th>5</th>\n",
       "      <th>7</th>\n",
       "      <th>11</th>\n",
       "      <th>9</th>\n",
       "      <th>11</th>\n",
       "      <th>16</th>\n",
       "      <th>5</th>\n",
       "      <th>14</th>\n",
       "      <th>0</th>\n",
       "      <th>0</th>\n",
       "      <th>0</th>\n",
       "      <th>5</th>\n",
       "      <th>100</th>\n",
       "      <th>14.3</th>\n",
       "      <th>0</th>\n",
       "      <th>0</th>\n",
       "      <th>205671</th>\n",
       "      <th>51591</th>\n",
       "      <th>36100</th>\n",
       "      <th>36876</th>\n",
       "      <th>NaN</th>\n",
       "      <th>NaN</th>\n",
       "      <th>NaN</th>\n",
       "      <th>NaN</th>\n",
       "      <th>NaN</th>\n",
       "      <th>NaN</th>\n",
       "      <th>NaN</th>\n",
       "      <th>NaN</th>\n",
       "      <th>NaN</th>\n",
       "      <th>NaN</th>\n",
       "      <td>NaN</td>\n",
       "    </tr>\n",
       "    <tr>\n",
       "      <th>4000</th>\n",
       "      <th>4000</th>\n",
       "      <th>4000</th>\n",
       "      <th>36 months</th>\n",
       "      <th>10.49%</th>\n",
       "      <th>130</th>\n",
       "      <th>B</th>\n",
       "      <th>B2</th>\n",
       "      <th>Dental hygienist</th>\n",
       "      <th>2 years</th>\n",
       "      <th>RENT</th>\n",
       "      <th>50000</th>\n",
       "      <th>Source Verified</th>\n",
       "      <th>Mar-2017</th>\n",
       "      <th>Issued</th>\n",
       "      <th>n</th>\n",
       "      <th>NaN</th>\n",
       "      <th>NaN</th>\n",
       "      <th>major_purchase</th>\n",
       "      <th>Major purchase</th>\n",
       "      <th>768xx</th>\n",
       "      <th>TX</th>\n",
       "      <th>33.61</th>\n",
       "      <th>1</th>\n",
       "      <th>Apr-2003</th>\n",
       "      <th>0</th>\n",
       "      <th>6</th>\n",
       "      <th>37</th>\n",
       "      <th>10</th>\n",
       "      <th>1</th>\n",
       "      <th>4388</th>\n",
       "      <th>33.2%</th>\n",
       "      <th>33</th>\n",
       "      <th>w</th>\n",
       "      <th>4000.00</th>\n",
       "      <th>4000.00</th>\n",
       "      <th>0.0</th>\n",
       "      <th>0.00</th>\n",
       "      <th>0.00</th>\n",
       "      <th>0.00</th>\n",
       "      <th>0.0</th>\n",
       "      <th>0.0</th>\n",
       "      <th>0.0</th>\n",
       "      <th>NaN</th>\n",
       "      <th>0.0</th>\n",
       "      <th>Apr-2017</th>\n",
       "      <th>Apr-2017</th>\n",
       "      <th>0</th>\n",
       "      <th>67</th>\n",
       "      <th>1</th>\n",
       "      <th>INDIVIDUAL</th>\n",
       "      <th>NaN</th>\n",
       "      <th>NaN</th>\n",
       "      <th>NaN</th>\n",
       "      <th>0</th>\n",
       "      <th>0</th>\n",
       "      <th>136208</th>\n",
       "      <th>0</th>\n",
       "      <th>4</th>\n",
       "      <th>1</th>\n",
       "      <th>2</th>\n",
       "      <th>7</th>\n",
       "      <th>131820</th>\n",
       "      <th>70</th>\n",
       "      <th>0</th>\n",
       "      <th>4</th>\n",
       "      <th>2461</th>\n",
       "      <th>56</th>\n",
       "      <th>13200</th>\n",
       "      <th>0</th>\n",
       "      <th>0</th>\n",
       "      <th>1</th>\n",
       "      <th>6</th>\n",
       "      <th>13621</th>\n",
       "      <th>39</th>\n",
       "      <th>98.4</th>\n",
       "      <th>0</th>\n",
       "      <th>0</th>\n",
       "      <th>148</th>\n",
       "      <th>163</th>\n",
       "      <th>15</th>\n",
       "      <th>7</th>\n",
       "      <th>6</th>\n",
       "      <th>120</th>\n",
       "      <th>NaN</th>\n",
       "      <th>9</th>\n",
       "      <th>61</th>\n",
       "      <th>1</th>\n",
       "      <th>1</th>\n",
       "      <th>4</th>\n",
       "      <th>1</th>\n",
       "      <th>3</th>\n",
       "      <th>15</th>\n",
       "      <th>6</th>\n",
       "      <th>12</th>\n",
       "      <th>4</th>\n",
       "      <th>10</th>\n",
       "      <th>0</th>\n",
       "      <th>0</th>\n",
       "      <th>0</th>\n",
       "      <th>1</th>\n",
       "      <th>87.5</th>\n",
       "      <th>100</th>\n",
       "      <th>0</th>\n",
       "      <th>0</th>\n",
       "      <th>152852</th>\n",
       "      <th>136208</th>\n",
       "      <th>2500</th>\n",
       "      <th>139652</th>\n",
       "      <th>NaN</th>\n",
       "      <th>NaN</th>\n",
       "      <th>NaN</th>\n",
       "      <th>NaN</th>\n",
       "      <th>NaN</th>\n",
       "      <th>NaN</th>\n",
       "      <th>NaN</th>\n",
       "      <th>NaN</th>\n",
       "      <th>NaN</th>\n",
       "      <th>NaN</th>\n",
       "      <td>NaN</td>\n",
       "    </tr>\n",
       "  </tbody>\n",
       "</table>\n",
       "</div>"
      ],
      "text/plain": [
       "                                                                                                                                                                                                                                                                                                                                                                                                                                                                                                                                                                                                                                                                                                                                                                                                                                                                                                                                                                                                                                                                                                                                                                                                                                                                                                                                                                                                                                                                                                                                                                                                                                                                                                                                                                                                                                                                                                                     Notes offered by Prospectus (https://www.lendingclub.com/info/prospectus.action)\n",
       "id  member_id loan_amnt funded_amnt funded_amnt_inv term       int_rate installment grade sub_grade emp_title                 emp_length home_ownership annual_inc verification_status issue_d  loan_status pymnt_plan url desc purpose        title          zip_code addr_state dti   delinq_2yrs earliest_cr_line inq_last_6mths mths_since_last_delinq mths_since_last_record open_acc pub_rec revol_bal revol_util total_acc initial_list_status out_prncp out_prncp_inv total_pymnt total_pymnt_inv total_rec_prncp total_rec_int total_rec_late_fee recoveries collection_recovery_fee last_pymnt_d last_pymnt_amnt next_pymnt_d last_credit_pull_d collections_12_mths_ex_med mths_since_last_major_derog policy_code application_type annual_inc_joint dti_joint verification_status_joint acc_now_delinq tot_coll_amt tot_cur_bal open_acc_6m open_il_6m open_il_12m open_il_24m mths_since_rcnt_il total_bal_il il_util open_rv_12m open_rv_24m max_bal_bc all_util total_rev_hi_lim inq_fi total_cu_tl inq_last_12m acc_open_past_24mths avg_cur_bal bc_open_to_buy bc_util chargeoff_within_12_mths delinq_amnt mo_sin_old_il_acct mo_sin_old_rev_tl_op mo_sin_rcnt_rev_tl_op mo_sin_rcnt_tl mort_acc mths_since_recent_bc mths_since_recent_bc_dlq mths_since_recent_inq mths_since_recent_revol_delinq num_accts_ever_120_pd num_actv_bc_tl num_actv_rev_tl num_bc_sats num_bc_tl num_il_tl num_op_rev_tl num_rev_accts num_rev_tl_bal_gt_0 num_sats num_tl_120dpd_2m num_tl_30dpd num_tl_90g_dpd_24m num_tl_op_past_12m pct_tl_nvr_dlq percent_bc_gt_75 pub_rec_bankruptcies tax_liens tot_hi_cred_lim total_bal_ex_mort total_bc_limit total_il_high_credit_limit revol_bal_joint sec_app_earliest_cr_line sec_app_inq_last_6mths sec_app_mort_acc sec_app_open_acc sec_app_revol_util sec_app_open_il_6m sec_app_num_rev_accts sec_app_chargeoff_within_12_mths sec_app_collections_12_mths_ex_med                sec_app_mths_since_last_major_derog                              \n",
       "NaN NaN       3600      3600        3600             36 months   7.49%  111.97      A     A4        Code/Compliance Inspector 10+ years  MORTGAGE       120000     Not Verified        Mar-2017 Issued      n          NaN NaN  other          Other          467xx    IN         18.9  0           Aug-1992         1              NaN                    96                     18       1       5658      14.9%      33        w                   3600.00   3600.00       0.0         0.00            0.00            0.00          0.0                0.0        0.0                     NaN          0.0             Apr-2017     Apr-2017           0                          NaN                         1           INDIVIDUAL       NaN              NaN       NaN                       0              0            36506       2           6          2           6           2                  30848        55      4           7           1020       39       37900            3      1           4            13                   2147        7980           11.3    0                        0           166                295                  3                     2              0        9                    NaN                      2                     NaN                            0                     1              4               2           3         17        12            16            4                   18       0                0            0                  6                  100            0                1                    0         93599           36506             9000           55699                      NaN             NaN                      NaN                    NaN              NaN              NaN                NaN                NaN                   NaN                              NaN                                                                               NaN                              \n",
       "              15000     15000       15000            60 months  14.99%  356.78      C     C4        Senior Superintendent     10+ years  MORTGAGE       125000     Not Verified        Mar-2017 Issued      n          NaN NaN  other          Other          064xx    CT         17.25 0           Sep-1989         0              NaN                    NaN                    11       0       53167     75.3%      18        w                   15000.00  15000.00      0.0         0.00            0.00            0.00          0.0                0.0        0.0                     NaN          0.0             Apr-2017     Apr-2017           0                          NaN                         1           INDIVIDUAL       NaN              NaN       NaN                       0              0            90423       0           2          0           1           22                 16197        54      0           3           15199      69       70600            1      0           0            4                    8220        13968          76.8    0                        0           158                245                  16                    16             2        16                   NaN                      16                    NaN                            0                     5              7               6           8         6         8             10            7                   11       0                0            0                  0                  100            66.7             0                    0         148572          69364             60300          30224                      NaN             NaN                      NaN                    NaN              NaN              NaN                NaN                NaN                   NaN                              NaN                                                                               NaN                              \n",
       "              8400      8400        8400             36 months  11.39%  276.56      B     B3        IT Tech                   8 years    MORTGAGE       50000      Source Verified     Mar-2017 Issued      n          NaN NaN  other          Other          454xx    OH         15.63 0           Apr-2005         0              NaN                    NaN                    14       0       12831     30.3%      30        w                   8400.00   8400.00       0.0         0.00            0.00            0.00          0.0                0.0        0.0                     NaN          0.0             Apr-2017     Apr-2017           0                          NaN                         1           INDIVIDUAL       NaN              NaN       NaN                       0              271          161061      3           2          1           2           10                 38760        105     4           8           5338       65       42300            4      1           7            10                   12389       24145          33.1    0                        0           131                143                  4                     4              4        4                    NaN                      10                    NaN                            0                     4              5               7           11        9         11            16            5                   14       0                0            0                  5                  100            14.3             0                    0         205671          51591             36100          36876                      NaN             NaN                      NaN                    NaN              NaN              NaN                NaN                NaN                   NaN                              NaN                                                                               NaN                              \n",
       "              4000      4000        4000             36 months  10.49%  130         B     B2        Dental hygienist          2 years    RENT           50000      Source Verified     Mar-2017 Issued      n          NaN NaN  major_purchase Major purchase 768xx    TX         33.61 1           Apr-2003         0              6                      37                     10       1       4388      33.2%      33        w                   4000.00   4000.00       0.0         0.00            0.00            0.00          0.0                0.0        0.0                     NaN          0.0             Apr-2017     Apr-2017           0                          67                          1           INDIVIDUAL       NaN              NaN       NaN                       0              0            136208      0           4          1           2           7                  131820       70      0           4           2461       56       13200            0      0           1            6                    13621       39             98.4    0                        0           148                163                  15                    7              6        120                  NaN                      9                     61                             1                     1              4               1           3         15        6             12            4                   10       0                0            0                  1                  87.5           100              0                    0         152852          136208            2500           139652                     NaN             NaN                      NaN                    NaN              NaN              NaN                NaN                NaN                   NaN                              NaN                                                                               NaN                              "
      ]
     },
     "execution_count": 17,
     "metadata": {},
     "output_type": "execute_result"
    }
   ],
   "source": [
    "df_test.head()"
   ]
  },
  {
   "cell_type": "code",
   "execution_count": null,
   "metadata": {
    "collapsed": true
   },
   "outputs": [],
   "source": []
  }
 ],
 "metadata": {
  "kernelspec": {
   "display_name": "Python 2",
   "language": "python",
   "name": "python2"
  },
  "language_info": {
   "codemirror_mode": {
    "name": "ipython",
    "version": 2
   },
   "file_extension": ".py",
   "mimetype": "text/x-python",
   "name": "python",
   "nbconvert_exporter": "python",
   "pygments_lexer": "ipython2",
   "version": "2.7.13"
  }
 },
 "nbformat": 4,
 "nbformat_minor": 2
}
